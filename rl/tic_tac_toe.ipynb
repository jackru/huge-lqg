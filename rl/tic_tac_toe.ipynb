{
 "cells": [
  {
   "cell_type": "code",
   "execution_count": 443,
   "metadata": {},
   "outputs": [],
   "source": [
    "from random import choice as random_choice\n",
    "\n",
    "import numpy as np\n",
    "import pandas as pd"
   ]
  },
  {
   "cell_type": "code",
   "execution_count": 546,
   "metadata": {},
   "outputs": [],
   "source": [
    "class Board:\n",
    "    \n",
    "    def __init__(self):\n",
    "        self.squares = np.zeros((3,3), dtype=int)\n",
    "        self.state = ''.join([str(i) for i in self.squares]).replace('0', '-').replace(' ', '')\n",
    "        \n",
    "    def get_valid_moves(self):\n",
    "        return list(zip(*np.where(self.squares == 0)))\n",
    "         \n",
    "    def update_square(self, loc, value):\n",
    "        self.squares[loc] = value\n",
    "        self.state = (''.join([str(i) for i in self.squares])\n",
    "                      .replace('-1', 'O')\n",
    "                      .replace('1', 'X')\n",
    "                      .replace('0', '-')\n",
    "                      .replace(' ', ''))\n",
    "        \n",
    "    def get_winner(self):\n",
    "        for i in range(3):\n",
    "            if (self.squares[i,:] == self.squares[i,0]).all() and self.squares[i,0] != 0:\n",
    "                return self.squares[i,0]\n",
    "            if (self.squares[:,i] == self.squares[0,i]).all() and self.squares[0,i] != 0:\n",
    "                return self.squares[0,i]\n",
    "        if (self.squares.diagonal() == self.squares[0,0]).all() and self.squares[0,0] != 0:\n",
    "            return self.squares[0,0]\n",
    "        if (self.squares[::-1].diagonal() == self.squares[-1,0]).all() and self.squares[-1,0] != 0:\n",
    "            return self.squares[-1,0]\n",
    "        else:\n",
    "            return False\n",
    "        \n",
    "    def is_game_over(self):\n",
    "        return bool(self.get_winner() or not self.get_valid_moves())"
   ]
  },
  {
   "cell_type": "code",
   "execution_count": 547,
   "metadata": {},
   "outputs": [],
   "source": [
    "class Player:\n",
    "    \n",
    "    def __init__(self, name, policy=None):\n",
    "        self.name = name\n",
    "        self.policy = policy\n",
    "        \n",
    "    def make_move(self, board):\n",
    "        if self.policy:\n",
    "            return self.policy.make_move(board)\n",
    "        else:\n",
    "            valid_moves = board.get_valid_moves()\n",
    "            return random_choice(valid_moves)"
   ]
  },
  {
   "cell_type": "code",
   "execution_count": 548,
   "metadata": {},
   "outputs": [],
   "source": [
    "class QLearner:\n",
    "    \n",
    "    def __init__(self, gamma=1, alpha=0.5):\n",
    "        self.q_dict = {}\n",
    "        self.gamma = gamma # discount rate for future rewards\n",
    "        self.alpha = alpha # learning rate\n",
    "        \n",
    "    def update(self, state, action, reward, new_state):\n",
    "        self.q_dict[state] = self.q_dict.get(state, {})\n",
    "        self.q_dict[new_state] = self.q_dict.get(new_state, {})\n",
    "        self.q_dict[state][action] = (\n",
    "            self.q_dict[state].get(action, 0)\n",
    "            + self.alpha * (\n",
    "                reward\n",
    "                + (self.gamma * max(self.q_dict[new_state].values(), default=0))\n",
    "                - self.q_dict[state].get(action, 0)\n",
    "            )\n",
    "        )"
   ]
  },
  {
   "cell_type": "code",
   "execution_count": 592,
   "metadata": {},
   "outputs": [],
   "source": [
    "class Game:\n",
    "    \n",
    "    def __init__(self, player1, player2, q_learner=None):\n",
    "        self.players = {1: player1, -1: player2}\n",
    "        self.board = Board()\n",
    "#         self.mover = random_choice([1,2])\n",
    "        self.mover = 1\n",
    "        self.q_learner = q_learner if q_learner else QLearner()\n",
    "        self.prev_sap = {1: None, -1: None}\n",
    "    \n",
    "    def play_turn(self, player):\n",
    "        start_state = self.board.state\n",
    "        \n",
    "        if self.prev_sap[player]:\n",
    "            self.q_learner.update(self.prev_sap[player]['state'],\n",
    "                                  self.prev_sap[player]['action'],\n",
    "                                  0, start_state)\n",
    "        \n",
    "        action = self.players[player].make_move(self.board)\n",
    "        self.board.update_square(action, player)\n",
    "        reward = self.board.get_winner() == player\n",
    "        \n",
    "        if self.board.is_game_over():\n",
    "            self.q_learner.update(start_state, action, reward, 'END')\n",
    "            self.q_learner.update(self.prev_sap[-player]['state'],\n",
    "                                  self.prev_sap[-player]['action'],\n",
    "                                  -1 * reward, 'END')\n",
    "        else:\n",
    "            self.prev_sap[player] = {'state': start_state, 'action': action}\n",
    "    \n",
    "    def play_game(self):\n",
    "        self.play_turn(self.mover)\n",
    "        while not self.board.is_game_over():\n",
    "            self.mover *= -1\n",
    "            self.play_turn(self.mover)\n",
    "        return getattr(self.players.get(self.board.get_winner()), 'name', 'Tie'), self.board.squares"
   ]
  },
  {
   "cell_type": "code",
   "execution_count": 593,
   "metadata": {},
   "outputs": [],
   "source": [
    "class Policy:\n",
    "    \n",
    "    def __init__(self, q_dict, epsilon=0.2):\n",
    "        self.q_dict = q_dict\n",
    "        self.epsilon = epsilon\n",
    "        \n",
    "    def make_move(self, board):\n",
    "        valid_moves = board.get_valid_moves()\n",
    "        if np.random.rand() < self.epsilon:\n",
    "            return random_choice(valid_moves)\n",
    "        else:\n",
    "            argmax = np.argmax([self.q_dict.get(board.state, {}).get(move, 0) for move in valid_moves])\n",
    "            return valid_moves[argmax]"
   ]
  },
  {
   "cell_type": "code",
   "execution_count": 612,
   "metadata": {},
   "outputs": [],
   "source": [
    "jack = Player(name='jack')\n",
    "kate = Player(name='kate')\n",
    "# jack = Player(name='Jack', policy=Policy(q_dict=q_learner.q_dict, epsilon=0.1))\n",
    "# kate = Player(name='Kate', policy=Policy(q_dict=q_learner.q_dict, epsilon=0.1))"
   ]
  },
  {
   "cell_type": "code",
   "execution_count": 617,
   "metadata": {},
   "outputs": [],
   "source": [
    "N = 1000\n",
    "winners = []\n",
    "# q_learner = QLearner()\n",
    "\n",
    "for g in range(N):\n",
    "    result = Game(jack, kate, q_learner).play_game()\n",
    "    winners.append(result[0])\n",
    "#     display(result)"
   ]
  },
  {
   "cell_type": "code",
   "execution_count": 614,
   "metadata": {},
   "outputs": [
    {
     "data": {
      "text/plain": [
       "jack    590\n",
       "kate    279\n",
       "Tie     131\n",
       "dtype: int64"
      ]
     },
     "execution_count": 614,
     "metadata": {},
     "output_type": "execute_result"
    }
   ],
   "source": [
    "pd.Series(winners).value_counts()"
   ]
  },
  {
   "cell_type": "code",
   "execution_count": 619,
   "metadata": {},
   "outputs": [
    {
     "data": {
      "text/plain": [
       "4632"
      ]
     },
     "execution_count": 619,
     "metadata": {},
     "output_type": "execute_result"
    }
   ],
   "source": [
    "len(q_learner.q_dict)"
   ]
  },
  {
   "cell_type": "code",
   "execution_count": 618,
   "metadata": {},
   "outputs": [
    {
     "data": {
      "text/plain": [
       "{(1, 1): 0.8125, (2, 2): -0.30712890625, (2, 0): 0.46875}"
      ]
     },
     "execution_count": 618,
     "metadata": {},
     "output_type": "execute_result"
    }
   ],
   "source": [
    "q_learner.q_dict['[XO-][X-X][-O-]']"
   ]
  },
  {
   "cell_type": "code",
   "execution_count": null,
   "metadata": {},
   "outputs": [],
   "source": []
  }
 ],
 "metadata": {
  "kernelspec": {
   "display_name": "Python 3",
   "language": "python",
   "name": "python3"
  },
  "language_info": {
   "codemirror_mode": {
    "name": "ipython",
    "version": 3
   },
   "file_extension": ".py",
   "mimetype": "text/x-python",
   "name": "python",
   "nbconvert_exporter": "python",
   "pygments_lexer": "ipython3",
   "version": "3.7.5"
  }
 },
 "nbformat": 4,
 "nbformat_minor": 2
}
