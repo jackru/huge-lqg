{
 "cells": [
  {
   "cell_type": "markdown",
   "metadata": {},
   "source": [
    "Depending on the year, there can be one, two or three Friday the 13ths. Last week happened to be the second Friday the 13th of 2020.\n",
    "\n",
    "What is the greatest number of Friday the 13ths that can occur over the course of four consecutive calendar years?\n",
    "\n",
    "Extra credit: What’s the greatest number of Friday the 13ths that can occur over a four-year period (i.e., a period that doesn’t necessarily begin on January 1)?"
   ]
  },
  {
   "cell_type": "code",
   "execution_count": 1,
   "metadata": {
    "ExecuteTime": {
     "end_time": "2020-11-21T16:14:33.140991Z",
     "start_time": "2020-11-21T16:14:32.913533Z"
    }
   },
   "outputs": [],
   "source": [
    "import pandas as pd"
   ]
  },
  {
   "cell_type": "code",
   "execution_count": 2,
   "metadata": {
    "ExecuteTime": {
     "end_time": "2020-11-21T16:14:33.146922Z",
     "start_time": "2020-11-21T16:14:33.143556Z"
    }
   },
   "outputs": [],
   "source": [
    "MONTH_LENGTHS = [31,28,31,30,31,30,31,31,30,31,30,31]"
   ]
  },
  {
   "cell_type": "code",
   "execution_count": 3,
   "metadata": {
    "ExecuteTime": {
     "end_time": "2020-11-21T16:14:33.155703Z",
     "start_time": "2020-11-21T16:14:33.150411Z"
    }
   },
   "outputs": [],
   "source": [
    "def generate_y_year_period(y=4, leap=None, first_day=0):\n",
    "    days = []\n",
    "    day_of_week = first_day\n",
    "    for year in range(y):\n",
    "        month_lengths = MONTH_LENGTHS\n",
    "        if year % 4 == leap:\n",
    "            month_lengths[1] = 29\n",
    "        for month_of_year, days_in_month in enumerate(month_lengths):\n",
    "            for day_of_month in range(days_in_month):\n",
    "                days.append((day_of_week, day_of_month))\n",
    "                day_of_week = (day_of_week + 1) % 7\n",
    "    return days"
   ]
  },
  {
   "cell_type": "markdown",
   "metadata": {},
   "source": [
    "# Main problem"
   ]
  },
  {
   "cell_type": "code",
   "execution_count": 4,
   "metadata": {
    "ExecuteTime": {
     "end_time": "2020-11-21T16:14:33.221193Z",
     "start_time": "2020-11-21T16:14:33.158592Z"
    }
   },
   "outputs": [],
   "source": [
    "results = []\n",
    "for leaps in [None, 0, 1, 2, 3]:\n",
    "    for first_day in range(7):\n",
    "        results.append(pd.Series(generate_y_year_period(4, leaps, first_day)).value_counts()[(4,13)])"
   ]
  },
  {
   "cell_type": "code",
   "execution_count": 5,
   "metadata": {
    "ExecuteTime": {
     "end_time": "2020-11-21T16:14:33.233365Z",
     "start_time": "2020-11-21T16:14:33.223054Z"
    }
   },
   "outputs": [
    {
     "data": {
      "text/plain": [
       "8"
      ]
     },
     "execution_count": 5,
     "metadata": {},
     "output_type": "execute_result"
    }
   ],
   "source": [
    "max(results)"
   ]
  },
  {
   "cell_type": "markdown",
   "metadata": {},
   "source": [
    "# Extra"
   ]
  },
  {
   "cell_type": "code",
   "execution_count": 6,
   "metadata": {
    "ExecuteTime": {
     "end_time": "2020-11-21T16:14:33.319903Z",
     "start_time": "2020-11-21T16:14:33.235406Z"
    }
   },
   "outputs": [],
   "source": [
    "results = []\n",
    "for leaps in [None, 0, 1, 2, 3]:\n",
    "    for first_day in range(7):\n",
    "        days = pd.Series(generate_y_year_period(5, leaps, first_day))\n",
    "        is_fri_13th = days == (4, 13)\n",
    "        if leaps:\n",
    "            results.append(is_fri_13th.rolling(4 * 365 + 1).sum().max())\n",
    "        else:\n",
    "            results.append(is_fri_13th.rolling(4 * 365).sum().max())"
   ]
  },
  {
   "cell_type": "code",
   "execution_count": 7,
   "metadata": {
    "ExecuteTime": {
     "end_time": "2020-11-21T16:14:33.326517Z",
     "start_time": "2020-11-21T16:14:33.322254Z"
    }
   },
   "outputs": [
    {
     "data": {
      "text/plain": [
       "9.0"
      ]
     },
     "execution_count": 7,
     "metadata": {},
     "output_type": "execute_result"
    }
   ],
   "source": [
    "max(results)"
   ]
  }
 ],
 "metadata": {
  "kernelspec": {
   "display_name": "Python 3",
   "language": "python",
   "name": "python3"
  },
  "language_info": {
   "codemirror_mode": {
    "name": "ipython",
    "version": 3
   },
   "file_extension": ".py",
   "mimetype": "text/x-python",
   "name": "python",
   "nbconvert_exporter": "python",
   "pygments_lexer": "ipython3",
   "version": "3.7.7"
  }
 },
 "nbformat": 4,
 "nbformat_minor": 4
}
