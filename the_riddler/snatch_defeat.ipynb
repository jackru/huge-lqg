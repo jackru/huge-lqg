{
 "cells": [
  {
   "cell_type": "markdown",
   "metadata": {},
   "source": [
    "The Georgia Birds and the Michigan Felines play a game where they flip a fair coin 101 times. In the end, if heads comes up at least 51 times, the Birds win; but if tails comes up at least 51 times, the Felines win.\n",
    "\n",
    "What’s the probability that the Birds have at least a 99 percent chance of winning at some point during the game — meaning their probability of victory is 99 percent or greater given the flips that remain — and then proceed to lose?\n",
    "\n",
    "Extra credit: Instead of 101 total flips, suppose there are many, many more (i.e., consider the limit as the number of flips goes to infinity). Again, the Birds win if heads comes up at least half the time. Now what’s the probability that the Birds have a win probability of at least 99 percent at some point and then proceed to lose?"
   ]
  },
  {
   "cell_type": "markdown",
   "metadata": {},
   "source": [
    "# Main problem"
   ]
  },
  {
   "cell_type": "code",
   "execution_count": 1,
   "metadata": {
    "ExecuteTime": {
     "end_time": "2020-11-18T17:33:24.859748Z",
     "start_time": "2020-11-18T17:33:24.722172Z"
    }
   },
   "outputs": [],
   "source": [
    "from scipy.linalg import pascal\n",
    "from scipy.special import comb"
   ]
  },
  {
   "cell_type": "code",
   "execution_count": 2,
   "metadata": {
    "ExecuteTime": {
     "end_time": "2020-11-18T17:33:24.864631Z",
     "start_time": "2020-11-18T17:33:24.861590Z"
    }
   },
   "outputs": [],
   "source": [
    "def win_prob(heads_required, flips_left):\n",
    "    prob = sum(pascal(flips_left + 1, kind='lower')[-1][heads_required:]) / (2 ** flips_left)\n",
    "    return prob"
   ]
  },
  {
   "cell_type": "code",
   "execution_count": 3,
   "metadata": {
    "ExecuteTime": {
     "end_time": "2020-11-18T17:33:25.055370Z",
     "start_time": "2020-11-18T17:33:24.867479Z"
    }
   },
   "outputs": [],
   "source": [
    "TURNS = 101\n",
    "n_heads_to_win = TURNS // 2 + 1\n",
    "THRESHOLD = 0.99\n",
    "turn_combs = {}\n",
    "heavy_favourite_states = []\n",
    "\n",
    "# one way to throw a coin zero times\n",
    "turn_combs[0] = [1]\n",
    "\n",
    "# calculate ways to throw a coin N times without going above THRESHOLD probability of winning\n",
    "for turn in range(1, TURNS+1):\n",
    "    last_turn = turn_combs[turn-1]\n",
    "    max_heads_last_turn = len(last_turn) - 1\n",
    "    turn_combs[turn] = []\n",
    "    for n_heads in range(len(last_turn)+1):\n",
    "        if n_heads > max_heads_last_turn and win_prob(n_heads_to_win - n_heads, TURNS - turn) > THRESHOLD:\n",
    "            if n_heads_to_win > n_heads:\n",
    "                heavy_favourite_states.append((last_turn[-1], 2 ** turn, turn))\n",
    "            break\n",
    "        turn_combs[turn].append(sum(last_turn[max(n_heads-1,0):n_heads+1]))"
   ]
  },
  {
   "cell_type": "code",
   "execution_count": 4,
   "metadata": {
    "ExecuteTime": {
     "end_time": "2020-11-18T17:33:25.067449Z",
     "start_time": "2020-11-18T17:33:25.057687Z"
    }
   },
   "outputs": [
    {
     "data": {
      "text/plain": [
       "0.002117155741949872"
      ]
     },
     "execution_count": 4,
     "metadata": {},
     "output_type": "execute_result"
    }
   ],
   "source": [
    "possible_games = 2 ** TURNS\n",
    "ways_to_lose = possible_games / 2\n",
    "ways_to_lose_without_blowing_a_lead = sum(turn_combs[TURNS])\n",
    "ways_to_blow_a_lead = ways_to_lose - ways_to_lose_without_blowing_a_lead\n",
    "prob_of_blowing_a_lead = ways_to_blow_a_lead / possible_games\n",
    "prob_of_blowing_a_lead"
   ]
  },
  {
   "cell_type": "markdown",
   "metadata": {},
   "source": [
    "# Extra"
   ]
  },
  {
   "cell_type": "markdown",
   "metadata": {},
   "source": [
    "```\n",
    "p(lose) = 0.5 = p(lose|heavy_lead).p(heavy_lead) + p(lose|~heavy_lead).p(~heavy_lead)\n",
    "\n",
    "As n -> infinity:\n",
    " - p(lose|heavy_lead) -> (1 - threshold)  # i.e. 1 - 0.99 = 0.01 in the example given\n",
    " - p(lose|~heavy_lead) -> 1  # share of paths that never have a heavy lead -> 0\n",
    " \n",
    "let h = p(heavy_lead)\n",
    "let t = the threshold for a heavy lead\n",
    "\n",
    "as n -> infinity, 0.5 = (1 - t) * h + (1 - h)\n",
    "                      = 1 - th\n",
    "                      = 1 - 0.99h\n",
    "\n",
    "Therefore h -> 0.5/t = 0.5/0.99\n",
    "\n",
    "p(blowing a lead) -> h(1-t) = (1-t)/2t\n",
    "                            = 0.01/1.98\n",
    "                            = 0.005050505050505051\n",
    "```"
   ]
  },
  {
   "cell_type": "code",
   "execution_count": 5,
   "metadata": {
    "ExecuteTime": {
     "end_time": "2020-11-18T17:33:25.075535Z",
     "start_time": "2020-11-18T17:33:25.069600Z"
    }
   },
   "outputs": [
    {
     "data": {
      "text/plain": [
       "0.005050505050505051"
      ]
     },
     "execution_count": 5,
     "metadata": {},
     "output_type": "execute_result"
    }
   ],
   "source": [
    "0.01/1.98"
   ]
  }
 ],
 "metadata": {
  "kernelspec": {
   "display_name": "Python 3",
   "language": "python",
   "name": "python3"
  },
  "language_info": {
   "codemirror_mode": {
    "name": "ipython",
    "version": 3
   },
   "file_extension": ".py",
   "mimetype": "text/x-python",
   "name": "python",
   "nbconvert_exporter": "python",
   "pygments_lexer": "ipython3",
   "version": "3.7.7"
  }
 },
 "nbformat": 4,
 "nbformat_minor": 4
}
