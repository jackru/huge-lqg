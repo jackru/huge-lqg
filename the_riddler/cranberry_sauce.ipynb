{
 "cells": [
  {
   "cell_type": "markdown",
   "metadata": {},
   "source": [
    "To celebrate Thanksgiving, you and 19 of your family members are seated at a circular table (socially distanced, of course). Everyone at the table would like a helping of cranberry sauce, which happens to be in front of you at the moment.\n",
    "\n",
    "Instead of passing the sauce around in a circle, you pass it randomly to the person seated directly to your left or to your right. They then do the same, passing it randomly either to the person to their left or right. This continues until everyone has, at some point, received the cranberry sauce.\n",
    "\n",
    "Of the 20 people in the circle, who has the greatest chance of being the last to receive the cranberry sauce?"
   ]
  },
  {
   "cell_type": "code",
   "execution_count": 1,
   "metadata": {
    "ExecuteTime": {
     "end_time": "2020-11-21T17:00:37.719572Z",
     "start_time": "2020-11-21T17:00:37.472874Z"
    }
   },
   "outputs": [],
   "source": [
    "from collections import namedtuple\n",
    "import numpy as np\n",
    "import pandas as pd"
   ]
  },
  {
   "cell_type": "markdown",
   "metadata": {},
   "source": [
    "# Numerical approach"
   ]
  },
  {
   "cell_type": "markdown",
   "metadata": {},
   "source": [
    "It becomes clear pretty quickly from simulations that all positions round the table have an equal chance of being the last to receive the sauce (except position 0 where we are sitting and assuming that we have \"received\" the sauce initially i.e. `greedy=True` in the code below)."
   ]
  },
  {
   "cell_type": "code",
   "execution_count": 2,
   "metadata": {
    "ExecuteTime": {
     "end_time": "2020-11-21T17:00:37.726083Z",
     "start_time": "2020-11-21T17:00:37.721927Z"
    }
   },
   "outputs": [],
   "source": [
    "def run_simulation(N, greedy=True):\n",
    "    current_position = 0\n",
    "    set_positions_received = {0} if greedy else set()\n",
    "\n",
    "    while len(set_positions_received) < N:\n",
    "        move = 2 * (np.random.rand() < 0.5) - 1\n",
    "        current_position = (current_position + move) % N\n",
    "        set_positions_received.add(current_position)\n",
    "        \n",
    "    return current_position"
   ]
  },
  {
   "cell_type": "code",
   "execution_count": 3,
   "metadata": {
    "ExecuteTime": {
     "end_time": "2020-11-21T17:00:48.773539Z",
     "start_time": "2020-11-21T17:00:37.729583Z"
    },
    "scrolled": true
   },
   "outputs": [
    {
     "data": {
      "text/plain": [
       "14    5409\n",
       "15    5402\n",
       "19    5378\n",
       "9     5339\n",
       "1     5323\n",
       "16    5308\n",
       "7     5308\n",
       "18    5299\n",
       "6     5289\n",
       "8     5244\n",
       "10    5241\n",
       "5     5231\n",
       "12    5228\n",
       "2     5216\n",
       "4     5188\n",
       "17    5176\n",
       "11    5164\n",
       "3     5164\n",
       "13    5093\n",
       "dtype: int64"
      ]
     },
     "execution_count": 3,
     "metadata": {},
     "output_type": "execute_result"
    }
   ],
   "source": [
    "pd.Series([run_simulation(20, greedy=True) for _ in range(100000)]).value_counts()"
   ]
  },
  {
   "cell_type": "markdown",
   "metadata": {},
   "source": [
    "If we assume that we don't serve ourselves first (`greedy=False`), all positions including our own but excepting our immediate neighbours' have an equal chance of being last. They have half the chance of everyone else."
   ]
  },
  {
   "cell_type": "code",
   "execution_count": 4,
   "metadata": {
    "ExecuteTime": {
     "end_time": "2020-11-21T17:01:00.020814Z",
     "start_time": "2020-11-21T17:00:48.775660Z"
    },
    "scrolled": false
   },
   "outputs": [
    {
     "data": {
      "text/plain": [
       "15    5439\n",
       "17    5378\n",
       "0     5326\n",
       "8     5322\n",
       "5     5316\n",
       "7     5313\n",
       "10    5295\n",
       "3     5274\n",
       "14    5244\n",
       "18    5222\n",
       "16    5219\n",
       "12    5214\n",
       "4     5213\n",
       "9     5202\n",
       "6     5168\n",
       "13    5166\n",
       "11    5157\n",
       "2     5154\n",
       "1     2696\n",
       "19    2682\n",
       "dtype: int64"
      ]
     },
     "execution_count": 4,
     "metadata": {},
     "output_type": "execute_result"
    }
   ],
   "source": [
    "pd.Series([run_simulation(20, greedy=False) for _ in range(100000)]).value_counts()"
   ]
  },
  {
   "cell_type": "markdown",
   "metadata": {},
   "source": [
    "# Analytical approach"
   ]
  },
  {
   "cell_type": "markdown",
   "metadata": {},
   "source": [
    "This combinatorial approach calculates the number of ways to visit each position last, as a proportion of the total (infinite) number of possible paths. It recognises that each position can be visited last from either a clockwise or anticlockwise direction. The two possible immediately previous positions can be viewed as two ends (bounds) of a number line along which we are conducting a random walk. The ways to exit this random walk can be expressed as an infinite series the proportional shares for each path length."
   ]
  },
  {
   "cell_type": "code",
   "execution_count": 5,
   "metadata": {
    "ExecuteTime": {
     "end_time": "2020-11-21T17:01:00.036103Z",
     "start_time": "2020-11-21T17:01:00.022892Z"
    }
   },
   "outputs": [],
   "source": [
    "PathState = namedtuple('PathState', field_names=['all_paths', 'cw_complete_paths', 'acw_complete_paths'])\n",
    "\n",
    "def pathfinder(N, last_position, limit=10):\n",
    "    paths = {0: {0: PathState(1, 1 if last_position == N - 1 else 0, 1 if last_position == 1 else 0)}}\n",
    "    acw_bound = last_position\n",
    "    cw_bound = last_position - N\n",
    "    acw_exits = []\n",
    "    cw_exits = []\n",
    "    for i in range(1, limit + 1):\n",
    "        paths[i] = {}\n",
    "        min_pos = max(cw_bound, min(paths[i-1].keys())-1)\n",
    "        max_pos = min(acw_bound, max(paths[i-1].keys())+1)\n",
    "        for k in range(min_pos, max_pos+1, 2):\n",
    "            if k == cw_bound:\n",
    "                cw_exits.append((paths[i-1][k+1].acw_complete_paths, f'2**{i}'))\n",
    "            elif k == acw_bound:\n",
    "                acw_exits.append((paths[i-1][k-1].cw_complete_paths, f'2**{i}'))\n",
    "            else:\n",
    "                all_paths = (getattr(paths[i-1].get(k-1, None), 'all_paths', 0)\n",
    "                             + getattr(paths[i-1].get(k+1, None), 'all_paths', 0))\n",
    "                cw_complete_paths = all_paths if k == (cw_bound + 1) else (\n",
    "                    getattr(paths[i-1].get(k-1, None), 'cw_complete_paths', 0)\n",
    "                    + getattr(paths[i-1].get(k+1, None), 'cw_complete_paths', 0)\n",
    "                )\n",
    "                acw_complete_paths = all_paths if k == (acw_bound - 1) else (\n",
    "                    getattr(paths[i-1].get(k-1, None), 'acw_complete_paths', 0)\n",
    "                    + getattr(paths[i-1].get(k+1, None), 'acw_complete_paths', 0)\n",
    "                )\n",
    "                paths[i][k] = PathState(all_paths, cw_complete_paths, acw_complete_paths)\n",
    "    return paths, acw_exits, cw_exits"
   ]
  },
  {
   "cell_type": "code",
   "execution_count": 6,
   "metadata": {
    "ExecuteTime": {
     "end_time": "2020-11-21T17:01:00.046603Z",
     "start_time": "2020-11-21T17:01:00.038721Z"
    }
   },
   "outputs": [
    {
     "name": "stdout",
     "output_type": "stream",
     "text": [
      "[(1, '2**4'), (3, '2**6'), (8, '2**8'), (21, '2**10'), (55, '2**12'), (144, '2**14'), (377, '2**16'), (987, '2**18')]\n",
      "[(1, '2**7'), (5, '2**9'), (18, '2**11'), (57, '2**13'), (169, '2**15'), (482, '2**17')]\n",
      "0.23502731323242188\n"
     ]
    }
   ],
   "source": [
    "paths, acw_exits, cw_exits = pathfinder(5,1,18)\n",
    "cw = [t for t in cw_exits if t[0] > 0]\n",
    "acw = [t for t in acw_exits if t[0] > 0]\n",
    "print(cw)\n",
    "print(acw)\n",
    "print(sum([t[0] / eval(t[1]) for t in cw + acw]))"
   ]
  }
 ],
 "metadata": {
  "kernelspec": {
   "display_name": "Python 3",
   "language": "python",
   "name": "python3"
  },
  "language_info": {
   "codemirror_mode": {
    "name": "ipython",
    "version": 3
   },
   "file_extension": ".py",
   "mimetype": "text/x-python",
   "name": "python",
   "nbconvert_exporter": "python",
   "pygments_lexer": "ipython3",
   "version": "3.7.7"
  }
 },
 "nbformat": 4,
 "nbformat_minor": 4
}
