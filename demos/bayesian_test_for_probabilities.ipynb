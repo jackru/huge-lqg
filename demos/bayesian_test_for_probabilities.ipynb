{
 "cells": [
  {
   "cell_type": "markdown",
   "metadata": {},
   "source": [
    "# Imports"
   ]
  },
  {
   "cell_type": "code",
   "execution_count": 1,
   "metadata": {
    "ExecuteTime": {
     "end_time": "2019-12-12T12:50:20.566429Z",
     "start_time": "2019-12-12T12:50:20.097223Z"
    }
   },
   "outputs": [],
   "source": [
    "from scipy.stats import beta\n",
    "import numpy as np\n",
    "import pandas as pd\n",
    "import matplotlib.pyplot as plt"
   ]
  },
  {
   "cell_type": "markdown",
   "metadata": {},
   "source": [
    "# Define Prior"
   ]
  },
  {
   "cell_type": "code",
   "execution_count": 2,
   "metadata": {
    "ExecuteTime": {
     "end_time": "2019-12-12T12:50:20.572917Z",
     "start_time": "2019-12-12T12:50:20.568709Z"
    }
   },
   "outputs": [],
   "source": [
    "prior = (1, 1) # uniform between [0, 1]"
   ]
  },
  {
   "cell_type": "markdown",
   "metadata": {},
   "source": [
    "# Observed data"
   ]
  },
  {
   "cell_type": "code",
   "execution_count": 21,
   "metadata": {
    "ExecuteTime": {
     "end_time": "2019-12-12T13:00:19.227453Z",
     "start_time": "2019-12-12T13:00:19.222024Z"
    }
   },
   "outputs": [],
   "source": [
    "low_p = 22\n",
    "low_n = 114\n",
    "\n",
    "high_p = 34\n",
    "high_n = 113"
   ]
  },
  {
   "cell_type": "code",
   "execution_count": 22,
   "metadata": {
    "ExecuteTime": {
     "end_time": "2019-12-12T13:00:19.810498Z",
     "start_time": "2019-12-12T13:00:19.805948Z"
    }
   },
   "outputs": [],
   "source": [
    "low_observed = (low_p, low_n - low_p)\n",
    "high_observed = (high_p, high_n - high_p)"
   ]
  },
  {
   "cell_type": "markdown",
   "metadata": {},
   "source": [
    "# Compute posterior"
   ]
  },
  {
   "cell_type": "code",
   "execution_count": 23,
   "metadata": {
    "ExecuteTime": {
     "end_time": "2019-12-12T13:00:20.098778Z",
     "start_time": "2019-12-12T13:00:20.093180Z"
    }
   },
   "outputs": [],
   "source": [
    "low_price_lik = beta(*(prior[0] + low_observed[0], prior[1] + low_observed[1]))\n",
    "high_price_lik = beta(*(prior[0] + high_observed[0], prior[1] + high_observed[1]))"
   ]
  },
  {
   "cell_type": "markdown",
   "metadata": {},
   "source": [
    "# Plot likelihoods"
   ]
  },
  {
   "cell_type": "code",
   "execution_count": 24,
   "metadata": {
    "ExecuteTime": {
     "end_time": "2019-12-12T13:00:20.410776Z",
     "start_time": "2019-12-12T13:00:20.406390Z"
    }
   },
   "outputs": [],
   "source": [
    "x = np.linspace(0,1,100)"
   ]
  },
  {
   "cell_type": "code",
   "execution_count": 25,
   "metadata": {
    "ExecuteTime": {
     "end_time": "2019-12-12T13:00:20.830606Z",
     "start_time": "2019-12-12T13:00:20.586324Z"
    }
   },
   "outputs": [
    {
     "data": {
      "image/png": "[encoded data removed]",
      "text/plain": [
       "<Figure size 1080x360 with 1 Axes>"
      ]
     },
     "metadata": {
      "needs_background": "light"
     },
     "output_type": "display_data"
    }
   ],
   "source": [
    "fig, ax = plt.subplots(figsize=(15,5))\n",
    "ax.plot(x, low_price_lik.pdf(x), label='low pdf')\n",
    "ax.plot(x, high_price_lik.pdf(x), label='high pdf')\n",
    "plt.legend();"
   ]
  },
  {
   "cell_type": "markdown",
   "metadata": {},
   "source": [
    "# Sample from likelihood"
   ]
  },
  {
   "cell_type": "markdown",
   "metadata": {},
   "source": [
    "## Set required uplift"
   ]
  },
  {
   "cell_type": "code",
   "execution_count": 29,
   "metadata": {
    "ExecuteTime": {
     "end_time": "2019-12-12T13:02:03.854193Z",
     "start_time": "2019-12-12T13:02:03.850505Z"
    }
   },
   "outputs": [],
   "source": [
    "required_tur_mult = 1.2"
   ]
  },
  {
   "cell_type": "markdown",
   "metadata": {},
   "source": [
    "## Get likelihood of the uplift satisfying the criterion"
   ]
  },
  {
   "cell_type": "code",
   "execution_count": 30,
   "metadata": {
    "ExecuteTime": {
     "end_time": "2019-12-12T13:02:04.283389Z",
     "start_time": "2019-12-12T13:02:04.268176Z"
    }
   },
   "outputs": [
    {
     "data": {
      "text/plain": [
       "0.862"
      ]
     },
     "execution_count": 30,
     "metadata": {},
     "output_type": "execute_result"
    }
   ],
   "source": [
    "N = 10000\n",
    "\n",
    "low_sample = pd.Series(low_price_lik.rvs(N))\n",
    "high_sample = pd.Series(high_price_lik.rvs(N))\n",
    "\n",
    "(high_sample >  low_sample * required_tur_mult).mean()"
   ]
  },
  {
   "cell_type": "code",
   "execution_count": null,
   "metadata": {},
   "outputs": [],
   "source": []
  }
 ],
 "metadata": {
  "kernelspec": {
   "display_name": "Python 3",
   "language": "python",
   "name": "python3"
  },
  "language_info": {
   "codemirror_mode": {
    "name": "ipython",
    "version": 3
   },
   "file_extension": ".py",
   "mimetype": "text/x-python",
   "name": "python",
   "nbconvert_exporter": "python",
   "pygments_lexer": "ipython3",
   "version": "3.7.5"
  }
 },
 "nbformat": 4,
 "nbformat_minor": 2
}
