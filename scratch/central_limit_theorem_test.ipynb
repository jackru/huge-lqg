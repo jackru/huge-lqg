{
 "cells": [
  {
   "cell_type": "code",
   "execution_count": 1,
   "id": "aa4c4619",
   "metadata": {
    "ExecuteTime": {
     "end_time": "2021-09-16T10:36:47.711685Z",
     "start_time": "2021-09-16T10:36:47.079692Z"
    }
   },
   "outputs": [],
   "source": [
    "import matplotlib.pyplot as plt\n",
    "import numpy as np\n",
    "import pandas as pd\n",
    "from scipy.stats import norm, gamma, gaussian_kde, uniform, binom\n",
    "\n",
    "%matplotlib inline"
   ]
  },
  {
   "cell_type": "code",
   "execution_count": 2,
   "id": "19852f40",
   "metadata": {
    "ExecuteTime": {
     "end_time": "2021-09-16T10:36:47.716172Z",
     "start_time": "2021-09-16T10:36:47.713647Z"
    }
   },
   "outputs": [],
   "source": [
    "# plt.hist(gamma.rvs(1, size=10000), bins=100);"
   ]
  },
  {
   "cell_type": "code",
   "execution_count": 3,
   "id": "0a61957a",
   "metadata": {
    "ExecuteTime": {
     "end_time": "2021-09-16T10:36:47.723585Z",
     "start_time": "2021-09-16T10:36:47.718723Z"
    }
   },
   "outputs": [],
   "source": [
    "# plt.hist(gamma.rvs(1, size=(100, 100000)).mean(axis=0), bins=40);"
   ]
  },
  {
   "cell_type": "markdown",
   "id": "e1cf1ce9",
   "metadata": {},
   "source": [
    "WHat I'm testing:\n",
    " - that 100% bootstrap samples from an observed sample can be used to estimate a distribution over the population mean\n",
    " - the suitability of this approach can be verified by calculating the percentile of the true mean within the distribution over many repeats of the experiment\n",
    " - if this percentile is uniformly distributed between 0, 1 then it's valid\n",
    " \n",
    "Steps:\n",
    " - Fix mean at 1.0 and choose non-normal distribution e.g. exponential (but should be able to swap it out)\n",
    " - One experiment\n",
    "     - Create a sample of size N\n",
    "     - Generate B bootstrap samples from this sample and take their mean\n",
    "     - Compute the percentile of the true mean within the bootstrap sample means\n",
    "     - This percentile is the output\n",
    " - Conduct many experiments\n",
    " - Compute the distribution of the outputs"
   ]
  },
  {
   "cell_type": "code",
   "execution_count": 4,
   "id": "23f9785e",
   "metadata": {
    "ExecuteTime": {
     "end_time": "2021-09-16T10:36:47.729206Z",
     "start_time": "2021-09-16T10:36:47.725564Z"
    }
   },
   "outputs": [],
   "source": [
    "def do_experiment(dist, N, B):\n",
    "    true_mean = dist.mean()\n",
    "    sample = dist.rvs(size=N)\n",
    "    bootstrap_means = np.random.choice(sample, size=(N, B)).mean(axis=0)\n",
    "    true_percentile = (bootstrap_means < true_mean).mean()\n",
    "    return true_percentile"
   ]
  },
  {
   "cell_type": "code",
   "execution_count": 5,
   "id": "32c28d5f",
   "metadata": {
    "ExecuteTime": {
     "end_time": "2021-09-16T10:37:02.570092Z",
     "start_time": "2021-09-16T10:36:47.731556Z"
    }
   },
   "outputs": [
    {
     "data": {
      "image/png": "[encoded data removed]",
      "text/plain": [
       "<Figure size 432x288 with 1 Axes>"
      ]
     },
     "metadata": {
      "needs_background": "light"
     },
     "output_type": "display_data"
    }
   ],
   "source": [
    "pd.Series([do_experiment(gamma(1), 500, 200) for i in range(10000)]).hist(bins=30);"
   ]
  },
  {
   "cell_type": "code",
   "execution_count": 6,
   "id": "c0f37d06",
   "metadata": {
    "ExecuteTime": {
     "end_time": "2021-09-16T10:37:02.575318Z",
     "start_time": "2021-09-16T10:37:02.572125Z"
    }
   },
   "outputs": [],
   "source": [
    "class MyDist:\n",
    "    \n",
    "    @staticmethod\n",
    "    def rvs(size):\n",
    "        locs = np.random.choice([-1, 1], size=size)\n",
    "        return gamma.rvs(1, loc=locs)\n",
    "    \n",
    "    @staticmethod\n",
    "    def mean():\n",
    "        return 1.0"
   ]
  },
  {
   "cell_type": "code",
   "execution_count": 7,
   "id": "c70ddd26",
   "metadata": {
    "ExecuteTime": {
     "end_time": "2021-09-16T10:37:02.801244Z",
     "start_time": "2021-09-16T10:37:02.578683Z"
    }
   },
   "outputs": [
    {
     "data": {
      "image/png": "[encoded data removed]",
      "text/plain": [
       "<Figure size 432x288 with 1 Axes>"
      ]
     },
     "metadata": {
      "needs_background": "light"
     },
     "output_type": "display_data"
    }
   ],
   "source": [
    "plt.hist(MyDist.rvs(10000), bins=100);"
   ]
  },
  {
   "cell_type": "code",
   "execution_count": 8,
   "id": "ecdaad45",
   "metadata": {
    "ExecuteTime": {
     "end_time": "2021-09-16T10:37:11.250872Z",
     "start_time": "2021-09-16T10:37:02.804847Z"
    }
   },
   "outputs": [
    {
     "data": {
      "image/png": "[encoded data removed]",
      "text/plain": [
       "<Figure size 432x288 with 1 Axes>"
      ]
     },
     "metadata": {
      "needs_background": "light"
     },
     "output_type": "display_data"
    }
   ],
   "source": [
    "pd.Series([do_experiment(MyDist, 500, 200) for i in range(10000)]).hist(bins=30);"
   ]
  },
  {
   "cell_type": "code",
   "execution_count": null,
   "id": "d27666c7",
   "metadata": {},
   "outputs": [],
   "source": []
  }
 ],
 "metadata": {
  "kernelspec": {
   "display_name": "Python 3",
   "language": "python",
   "name": "python3"
  },
  "language_info": {
   "codemirror_mode": {
    "name": "ipython",
    "version": 3
   },
   "file_extension": ".py",
   "mimetype": "text/x-python",
   "name": "python",
   "nbconvert_exporter": "python",
   "pygments_lexer": "ipython3",
   "version": "3.9.4"
  }
 },
 "nbformat": 4,
 "nbformat_minor": 5
}
