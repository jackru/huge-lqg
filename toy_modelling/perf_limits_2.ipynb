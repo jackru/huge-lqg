{
 "cells": [
  {
   "cell_type": "markdown",
   "metadata": {},
   "source": [
    "# Theoretical maximum gini investigation"
   ]
  },
  {
   "cell_type": "markdown",
   "metadata": {},
   "source": [
    "Theory\n",
    " - Verify that I can generate negative binomial data and regress its own parameters back out\n",
    " - Verify that negative binomial parameters can be regressed from a gamma mixture of poissons and related back to the original gamma parameters\n",
    "\n",
    "Model outputs\n",
    " - Given a model's outputs, what is the expected gini if they are perfectly correct?\n",
    " - Apply this to our model's outputs\n",
    " - Use toy framework to generate data\n",
    "   1. Calculate the gini of the generative model == expected maximum possible gini\n",
    "   2. Train a model on all rating factors\n",
    "   3. Calculate the theoretical gini of the model outputs if perfect\n",
    "   4. Calculate the actual gini of the model outputs\n",
    "   5. Repeat 3&4 for a model trained on impaired data"
   ]
  },
  {
   "cell_type": "code",
   "execution_count": 104,
   "metadata": {
    "ExecuteTime": {
     "end_time": "2018-11-30T15:22:48.074794Z",
     "start_time": "2018-11-30T15:22:48.040405Z"
    }
   },
   "outputs": [
    {
     "name": "stdout",
     "output_type": "stream",
     "text": [
      "The autoreload extension is already loaded. To reload it, use:\n",
      "  %reload_ext autoreload\n"
     ]
    }
   ],
   "source": [
    "%load_ext autoreload\n",
    "%aimport toy_data_generation, maths\n",
    "%autoreload 1\n",
    "\n",
    "import numpy as np\n",
    "import pandas as pd\n",
    "from sklearn.model_selection import train_test_split\n",
    "import statsmodels.api as sm\n",
    "\n",
    "from model_toolbox.metric import gini_coefficient\n",
    "from toy_data_generation import generate_poisson_data\n",
    "from maths import scale_series\n",
    "from param_dict_generation import generate_glm_list\n",
    "from model_wrappers import try_models\n",
    "# from scipy.stats import nbinom"
   ]
  },
  {
   "cell_type": "code",
   "execution_count": 31,
   "metadata": {
    "ExecuteTime": {
     "end_time": "2018-11-30T14:06:00.496337Z",
     "start_time": "2018-11-30T14:06:00.492216Z"
    }
   },
   "outputs": [],
   "source": [
    "n = 0.5   # the number of successes required\n",
    "p = 0.8  # the probability of success for an individual trial\n",
    "size = 100000"
   ]
  },
  {
   "cell_type": "code",
   "execution_count": 32,
   "metadata": {
    "ExecuteTime": {
     "end_time": "2018-11-30T14:06:01.148798Z",
     "start_time": "2018-11-30T14:06:01.121985Z"
    }
   },
   "outputs": [
    {
     "data": {
      "text/plain": [
       "0    89725\n",
       "1     8709\n",
       "2     1306\n",
       "3      212\n",
       "4       38\n",
       "5        6\n",
       "6        4\n",
       "dtype: int64"
      ]
     },
     "execution_count": 32,
     "metadata": {},
     "output_type": "execute_result"
    }
   ],
   "source": [
    "rng = np.random.RandomState(808)\n",
    "nbinom_sample = rng.negative_binomial(n, p, size)\n",
    "pd.Series(nbinom_sample).value_counts()"
   ]
  },
  {
   "cell_type": "code",
   "execution_count": 33,
   "metadata": {
    "ExecuteTime": {
     "end_time": "2018-11-30T14:06:01.833173Z",
     "start_time": "2018-11-30T14:06:01.826017Z"
    }
   },
   "outputs": [
    {
     "data": {
      "text/plain": [
       "0.12499999999999997"
      ]
     },
     "execution_count": 33,
     "metadata": {},
     "output_type": "execute_result"
    }
   ],
   "source": [
    "expected_mu = n * (1 - p) / p\n",
    "expected_mu"
   ]
  },
  {
   "cell_type": "code",
   "execution_count": 34,
   "metadata": {
    "ExecuteTime": {
     "end_time": "2018-11-30T14:06:02.541453Z",
     "start_time": "2018-11-30T14:06:02.533125Z"
    }
   },
   "outputs": [
    {
     "data": {
      "text/plain": [
       "0.12163"
      ]
     },
     "execution_count": 34,
     "metadata": {},
     "output_type": "execute_result"
    }
   ],
   "source": [
    "actual_mu = nbinom_sample.mean()\n",
    "actual_mu"
   ]
  },
  {
   "cell_type": "code",
   "execution_count": 35,
   "metadata": {
    "ExecuteTime": {
     "end_time": "2018-11-30T14:06:03.003449Z",
     "start_time": "2018-11-30T14:06:02.997442Z"
    }
   },
   "outputs": [
    {
     "data": {
      "text/plain": [
       "0.15624999999999994"
      ]
     },
     "execution_count": 35,
     "metadata": {},
     "output_type": "execute_result"
    }
   ],
   "source": [
    "expected_var = expected_mu / p\n",
    "expected_var"
   ]
  },
  {
   "cell_type": "code",
   "execution_count": 36,
   "metadata": {
    "ExecuteTime": {
     "end_time": "2018-11-30T14:06:03.499933Z",
     "start_time": "2018-11-30T14:06:03.491956Z"
    }
   },
   "outputs": [
    {
     "data": {
      "text/plain": [
       "0.15263614309999998"
      ]
     },
     "execution_count": 36,
     "metadata": {},
     "output_type": "execute_result"
    }
   ],
   "source": [
    "actual_var = nbinom_sample.var()\n",
    "actual_var"
   ]
  },
  {
   "cell_type": "code",
   "execution_count": 37,
   "metadata": {
    "ExecuteTime": {
     "end_time": "2018-11-30T14:06:06.533978Z",
     "start_time": "2018-11-30T14:06:04.361870Z"
    }
   },
   "outputs": [
    {
     "name": "stdout",
     "output_type": "stream",
     "text": [
      "Optimization terminated successfully.\n",
      "         Current function value: 0.383563\n",
      "         Iterations: 7\n",
      "         Function evaluations: 9\n",
      "         Gradient evaluations: 9\n"
     ]
    },
    {
     "data": {
      "text/html": [
       "<table class=\"simpletable\">\n",
       "<caption>NegativeBinomial Regression Results</caption>\n",
       "<tr>\n",
       "  <th>Dep. Variable:</th>         <td>y</td>        <th>  No. Observations:  </th>   <td>100000</td>  \n",
       "</tr>\n",
       "<tr>\n",
       "  <th>Model:</th>         <td>NegativeBinomial</td> <th>  Df Residuals:      </th>   <td> 99999</td>  \n",
       "</tr>\n",
       "<tr>\n",
       "  <th>Method:</th>               <td>MLE</td>       <th>  Df Model:          </th>   <td>     0</td>  \n",
       "</tr>\n",
       "<tr>\n",
       "  <th>Date:</th>          <td>Fri, 30 Nov 2018</td> <th>  Pseudo R-squ.:     </th> <td>-3.179e-10</td>\n",
       "</tr>\n",
       "<tr>\n",
       "  <th>Time:</th>              <td>14:06:06</td>     <th>  Log-Likelihood:    </th>  <td> -38356.</td> \n",
       "</tr>\n",
       "<tr>\n",
       "  <th>converged:</th>           <td>True</td>       <th>  LL-Null:           </th>  <td> -38356.</td> \n",
       "</tr>\n",
       "<tr>\n",
       "  <th> </th>                      <td> </td>        <th>  LLR p-value:       </th>   <td>   nan</td>  \n",
       "</tr>\n",
       "</table>\n",
       "<table class=\"simpletable\">\n",
       "<tr>\n",
       "    <td></td>       <th>coef</th>     <th>std err</th>      <th>z</th>      <th>P>|z|</th>  <th>[0.025</th>    <th>0.975]</th>  \n",
       "</tr>\n",
       "<tr>\n",
       "  <th>const</th> <td>   -2.1068</td> <td>    0.010</td> <td> -207.536</td> <td> 0.000</td> <td>   -2.127</td> <td>   -2.087</td>\n",
       "</tr>\n",
       "<tr>\n",
       "  <th>alpha</th> <td>    2.0833</td> <td>    0.076</td> <td>   27.317</td> <td> 0.000</td> <td>    1.934</td> <td>    2.233</td>\n",
       "</tr>\n",
       "</table>"
      ],
      "text/plain": [
       "<class 'statsmodels.iolib.summary.Summary'>\n",
       "\"\"\"\n",
       "                     NegativeBinomial Regression Results                      \n",
       "==============================================================================\n",
       "Dep. Variable:                      y   No. Observations:               100000\n",
       "Model:               NegativeBinomial   Df Residuals:                    99999\n",
       "Method:                           MLE   Df Model:                            0\n",
       "Date:                Fri, 30 Nov 2018   Pseudo R-squ.:              -3.179e-10\n",
       "Time:                        14:06:06   Log-Likelihood:                -38356.\n",
       "converged:                       True   LL-Null:                       -38356.\n",
       "                                        LLR p-value:                       nan\n",
       "==============================================================================\n",
       "                 coef    std err          z      P>|z|      [0.025      0.975]\n",
       "------------------------------------------------------------------------------\n",
       "const         -2.1068      0.010   -207.536      0.000      -2.127      -2.087\n",
       "alpha          2.0833      0.076     27.317      0.000       1.934       2.233\n",
       "==============================================================================\n",
       "\"\"\""
      ]
     },
     "execution_count": 37,
     "metadata": {},
     "output_type": "execute_result"
    }
   ],
   "source": [
    "fitted = sm.NegativeBinomial(nbinom_sample, np.ones(len(nbinom_sample))).fit()\n",
    "fitted.summary()"
   ]
  },
  {
   "cell_type": "code",
   "execution_count": 38,
   "metadata": {
    "ExecuteTime": {
     "end_time": "2018-11-30T14:06:06.547704Z",
     "start_time": "2018-11-30T14:06:06.544542Z"
    }
   },
   "outputs": [],
   "source": [
    "regressed_const, regressed_alpha = fitted.params"
   ]
  },
  {
   "cell_type": "code",
   "execution_count": 39,
   "metadata": {
    "ExecuteTime": {
     "end_time": "2018-11-30T14:06:10.080235Z",
     "start_time": "2018-11-30T14:06:10.074879Z"
    }
   },
   "outputs": [
    {
     "data": {
      "text/plain": [
       "0.12162999999999977"
      ]
     },
     "execution_count": 39,
     "metadata": {},
     "output_type": "execute_result"
    }
   ],
   "source": [
    "regressed_mu = np.exp(regressed_const)\n",
    "regressed_mu"
   ]
  },
  {
   "cell_type": "code",
   "execution_count": 40,
   "metadata": {
    "ExecuteTime": {
     "end_time": "2018-11-30T14:06:11.011831Z",
     "start_time": "2018-11-30T14:06:11.006912Z"
    }
   },
   "outputs": [
    {
     "data": {
      "text/plain": [
       "2.083313633067688"
      ]
     },
     "execution_count": 40,
     "metadata": {},
     "output_type": "execute_result"
    }
   ],
   "source": [
    "# regressed_alpha = n / regressed_mu\n",
    "regressed_alpha"
   ]
  },
  {
   "cell_type": "markdown",
   "metadata": {},
   "source": [
    "Some experimental results to understand what the output of this regression / fit is telling us:\n",
    "\n",
    "|n    |p    |alpha |\n",
    "|-----|-----|------|\n",
    "|2.5  |0.8  |0.3908|\n",
    "|1.5  |0.8  |0.6725|\n",
    "|0.5  |0.8  |2.0833|\n",
    "|2.5  |0.2  |0.4018|\n",
    "|1.5  |0.2  |0.6677|\n",
    "|0.5  |0.2  |1.9954|\n",
    "\n",
    "It looks as if the \"alpha\" we get out of this regression represents 1/n, and exp(\"const\") gives the mean, mu.\n",
    "\n",
    "To get the shape and scale parameters we can use:\n",
    " - shape param beta = r = n = 1/\"alpha\"\n",
    " - scale param alpha = mu / beta\n"
   ]
  },
  {
   "cell_type": "markdown",
   "metadata": {},
   "source": [
    "## Can the gamma params be estimated with a Negative Binomial regression?"
   ]
  },
  {
   "cell_type": "code",
   "execution_count": 53,
   "metadata": {
    "ExecuteTime": {
     "end_time": "2018-11-30T14:11:14.695696Z",
     "start_time": "2018-11-30T14:11:14.609039Z"
    }
   },
   "outputs": [],
   "source": [
    "lams = np.random.gamma(shape=5, scale=0.005, size=1000000)"
   ]
  },
  {
   "cell_type": "code",
   "execution_count": 54,
   "metadata": {
    "ExecuteTime": {
     "end_time": "2018-11-30T14:11:15.648679Z",
     "start_time": "2018-11-30T14:11:15.311937Z"
    }
   },
   "outputs": [
    {
     "data": {
      "image/png": "[encoded data removed]",
      "text/plain": [
       "<Figure size 1080x360 with 1 Axes>"
      ]
     },
     "metadata": {
      "needs_background": "light"
     },
     "output_type": "display_data"
    }
   ],
   "source": [
    "pd.Series(lams).hist(bins=50, figsize=(15,5), log=False);"
   ]
  },
  {
   "cell_type": "code",
   "execution_count": 55,
   "metadata": {
    "ExecuteTime": {
     "end_time": "2018-11-30T14:11:20.714071Z",
     "start_time": "2018-11-30T14:11:20.669127Z"
    }
   },
   "outputs": [],
   "source": [
    "response = np.random.poisson(lams)"
   ]
  },
  {
   "cell_type": "code",
   "execution_count": 56,
   "metadata": {
    "ExecuteTime": {
     "end_time": "2018-11-30T14:11:21.019173Z",
     "start_time": "2018-11-30T14:11:21.000224Z"
    }
   },
   "outputs": [
    {
     "data": {
      "text/plain": [
       "0    975663\n",
       "1     23986\n",
       "2       350\n",
       "3         1\n",
       "dtype: int64"
      ]
     },
     "execution_count": 56,
     "metadata": {},
     "output_type": "execute_result"
    }
   ],
   "source": [
    "pd.Series(response).value_counts()"
   ]
  },
  {
   "cell_type": "code",
   "execution_count": 57,
   "metadata": {
    "ExecuteTime": {
     "end_time": "2018-11-30T14:11:37.024601Z",
     "start_time": "2018-11-30T14:11:30.253335Z"
    }
   },
   "outputs": [
    {
     "name": "stdout",
     "output_type": "stream",
     "text": [
      "Optimization terminated successfully.\n",
      "         Current function value: 0.116316\n",
      "         Iterations: 4\n",
      "         Function evaluations: 10\n",
      "         Gradient evaluations: 10\n"
     ]
    }
   ],
   "source": [
    "fitted = sm.NegativeBinomial(response, np.ones(len(response))).fit()"
   ]
  },
  {
   "cell_type": "code",
   "execution_count": 58,
   "metadata": {
    "ExecuteTime": {
     "end_time": "2018-11-30T14:11:55.985026Z",
     "start_time": "2018-11-30T14:11:37.034951Z"
    }
   },
   "outputs": [
    {
     "data": {
      "text/html": [
       "<table class=\"simpletable\">\n",
       "<caption>NegativeBinomial Regression Results</caption>\n",
       "<tr>\n",
       "  <th>Dep. Variable:</th>         <td>y</td>        <th>  No. Observations:  </th>   <td>1000000</td>  \n",
       "</tr>\n",
       "<tr>\n",
       "  <th>Model:</th>         <td>NegativeBinomial</td> <th>  Df Residuals:      </th>   <td>999999</td>   \n",
       "</tr>\n",
       "<tr>\n",
       "  <th>Method:</th>               <td>MLE</td>       <th>  Df Model:          </th>   <td>     0</td>   \n",
       "</tr>\n",
       "<tr>\n",
       "  <th>Date:</th>          <td>Fri, 30 Nov 2018</td> <th>  Pseudo R-squ.:     </th> <td>-1.967e-05</td> \n",
       "</tr>\n",
       "<tr>\n",
       "  <th>Time:</th>              <td>14:11:55</td>     <th>  Log-Likelihood:    </th> <td>-1.1632e+05</td>\n",
       "</tr>\n",
       "<tr>\n",
       "  <th>converged:</th>           <td>True</td>       <th>  LL-Null:           </th> <td>-1.1631e+05</td>\n",
       "</tr>\n",
       "<tr>\n",
       "  <th> </th>                      <td> </td>        <th>  LLR p-value:       </th>   <td>   nan</td>   \n",
       "</tr>\n",
       "</table>\n",
       "<table class=\"simpletable\">\n",
       "<tr>\n",
       "    <td></td>       <th>coef</th>     <th>std err</th>      <th>z</th>      <th>P>|z|</th>  <th>[0.025</th>    <th>0.975]</th>  \n",
       "</tr>\n",
       "<tr>\n",
       "  <th>const</th> <td>   -3.7014</td> <td>    0.006</td> <td> -579.456</td> <td> 0.000</td> <td>   -3.714</td> <td>   -3.689</td>\n",
       "</tr>\n",
       "<tr>\n",
       "  <th>alpha</th> <td>    0.2990</td> <td>    0.070</td> <td>    4.277</td> <td> 0.000</td> <td>    0.162</td> <td>    0.436</td>\n",
       "</tr>\n",
       "</table>"
      ],
      "text/plain": [
       "<class 'statsmodels.iolib.summary.Summary'>\n",
       "\"\"\"\n",
       "                     NegativeBinomial Regression Results                      \n",
       "==============================================================================\n",
       "Dep. Variable:                      y   No. Observations:              1000000\n",
       "Model:               NegativeBinomial   Df Residuals:                   999999\n",
       "Method:                           MLE   Df Model:                            0\n",
       "Date:                Fri, 30 Nov 2018   Pseudo R-squ.:              -1.967e-05\n",
       "Time:                        14:11:55   Log-Likelihood:            -1.1632e+05\n",
       "converged:                       True   LL-Null:                   -1.1631e+05\n",
       "                                        LLR p-value:                       nan\n",
       "==============================================================================\n",
       "                 coef    std err          z      P>|z|      [0.025      0.975]\n",
       "------------------------------------------------------------------------------\n",
       "const         -3.7014      0.006   -579.456      0.000      -3.714      -3.689\n",
       "alpha          0.2990      0.070      4.277      0.000       0.162       0.436\n",
       "==============================================================================\n",
       "\"\"\""
      ]
     },
     "execution_count": 58,
     "metadata": {},
     "output_type": "execute_result"
    }
   ],
   "source": [
    "fitted.summary()"
   ]
  },
  {
   "cell_type": "code",
   "execution_count": 59,
   "metadata": {
    "ExecuteTime": {
     "end_time": "2018-11-30T14:11:55.999420Z",
     "start_time": "2018-11-30T14:11:55.994951Z"
    }
   },
   "outputs": [],
   "source": [
    "regressed_const, regressed_alpha = fitted.params\n",
    "regressed_mu = np.exp(regressed_const)"
   ]
  },
  {
   "cell_type": "code",
   "execution_count": 60,
   "metadata": {
    "ExecuteTime": {
     "end_time": "2018-11-30T14:11:56.019002Z",
     "start_time": "2018-11-30T14:11:56.008816Z"
    }
   },
   "outputs": [
    {
     "data": {
      "text/plain": [
       "3.3449299037328872"
      ]
     },
     "execution_count": 60,
     "metadata": {},
     "output_type": "execute_result"
    }
   ],
   "source": [
    "regressed_shape = 1 / regressed_alpha\n",
    "regressed_shape"
   ]
  },
  {
   "cell_type": "code",
   "execution_count": 61,
   "metadata": {
    "ExecuteTime": {
     "end_time": "2018-11-30T14:11:56.034336Z",
     "start_time": "2018-11-30T14:11:56.028798Z"
    }
   },
   "outputs": [
    {
     "data": {
      "text/plain": [
       "0.007381021638890071"
      ]
     },
     "execution_count": 61,
     "metadata": {},
     "output_type": "execute_result"
    }
   ],
   "source": [
    "regressed_scale = regressed_mu / regressed_shape\n",
    "regressed_scale"
   ]
  },
  {
   "cell_type": "markdown",
   "metadata": {},
   "source": [
    "FROM brain blitz:\n",
    " - Generate some toy data with known lambdas\n",
    " - Calculate the theorectical max gini on the data\n",
    " - Train a model on the data\n",
    " - Assuming predictions are 100% correct, calculate the theorectical max gini assuming the trained model is perfect\n",
    " - Calculate the actual gini of the model on the data"
   ]
  },
  {
   "cell_type": "code",
   "execution_count": 189,
   "metadata": {
    "ExecuteTime": {
     "end_time": "2018-11-30T16:20:44.894007Z",
     "start_time": "2018-11-30T16:20:37.673333Z"
    }
   },
   "outputs": [],
   "source": [
    "toy_X, toy_y, toy_lam = generate_poisson_data(1000000, 15,\n",
    "                                              binary_fraction=0.4,\n",
    "                                              terms=[(1, 1.0), (2, 15)],\n",
    "                                              scale_to_range=(0.0001, 0.1),\n",
    "                                              random_state=501)"
   ]
  },
  {
   "cell_type": "code",
   "execution_count": 190,
   "metadata": {
    "ExecuteTime": {
     "end_time": "2018-11-30T16:20:48.597676Z",
     "start_time": "2018-11-30T16:20:47.919691Z"
    }
   },
   "outputs": [
    {
     "data": {
      "image/png": "[encoded data removed]",
      "text/plain": [
       "<Figure size 1080x360 with 1 Axes>"
      ]
     },
     "metadata": {
      "needs_background": "light"
     },
     "output_type": "display_data"
    }
   ],
   "source": [
    "toy_lam.hist(bins=50, figsize=(15,5), log=True);"
   ]
  },
  {
   "cell_type": "code",
   "execution_count": 191,
   "metadata": {
    "ExecuteTime": {
     "end_time": "2018-11-30T16:20:51.602037Z",
     "start_time": "2018-11-30T16:20:51.583284Z"
    }
   },
   "outputs": [
    {
     "data": {
      "text/plain": [
       "0    996450\n",
       "1      3543\n",
       "2         7\n",
       "Name: y_poisson, dtype: int64"
      ]
     },
     "execution_count": 191,
     "metadata": {},
     "output_type": "execute_result"
    }
   ],
   "source": [
    "toy_y.value_counts()"
   ]
  },
  {
   "cell_type": "code",
   "execution_count": 192,
   "metadata": {
    "ExecuteTime": {
     "end_time": "2018-11-30T16:21:04.266193Z",
     "start_time": "2018-11-30T16:21:04.017414Z"
    }
   },
   "outputs": [
    {
     "data": {
      "text/plain": [
       "0.4077318664605004"
      ]
     },
     "execution_count": 192,
     "metadata": {},
     "output_type": "execute_result"
    }
   ],
   "source": [
    "# gini of actual generative distribution\n",
    "gini_coefficient(toy_lam, np.ones(len(toy_lam)), toy_y)"
   ]
  },
  {
   "cell_type": "markdown",
   "metadata": {},
   "source": [
    "#### Train a GLM"
   ]
  },
  {
   "cell_type": "code",
   "execution_count": 193,
   "metadata": {
    "ExecuteTime": {
     "end_time": "2018-11-30T16:21:09.687950Z",
     "start_time": "2018-11-30T16:21:09.683934Z"
    }
   },
   "outputs": [],
   "source": [
    "# X_train, X_test, y_train, y_test = train_test_split(toy_X, toy_y, test_size=0.3, random_state=303)\n",
    "# X_train = sm.add_constant(X_train)\n",
    "# X_test = sm.add_constant(X_test)"
   ]
  },
  {
   "cell_type": "code",
   "execution_count": 194,
   "metadata": {
    "ExecuteTime": {
     "end_time": "2018-11-30T16:21:11.468858Z",
     "start_time": "2018-11-30T16:21:10.463978Z"
    }
   },
   "outputs": [],
   "source": [
    "# model = sm.GLM(y_train, X_train, family=sm.families.Poisson())\n",
    "model = sm.GLM(toy_y, sm.add_constant(toy_X), family=sm.families.Poisson())"
   ]
  },
  {
   "cell_type": "code",
   "execution_count": 195,
   "metadata": {
    "ExecuteTime": {
     "end_time": "2018-11-30T16:21:22.344851Z",
     "start_time": "2018-11-30T16:21:13.211093Z"
    }
   },
   "outputs": [],
   "source": [
    "fitted = model.fit()"
   ]
  },
  {
   "cell_type": "code",
   "execution_count": 196,
   "metadata": {
    "ExecuteTime": {
     "end_time": "2018-11-30T16:21:26.895433Z",
     "start_time": "2018-11-30T16:21:26.139732Z"
    }
   },
   "outputs": [],
   "source": [
    "predictions = fitted.predict(sm.add_constant(toy_X))"
   ]
  },
  {
   "cell_type": "code",
   "execution_count": 197,
   "metadata": {
    "ExecuteTime": {
     "end_time": "2018-11-30T16:21:33.458058Z",
     "start_time": "2018-11-30T16:21:32.516009Z"
    }
   },
   "outputs": [
    {
     "data": {
      "image/png": "[encoded data removed]",
      "text/plain": [
       "<Figure size 1080x360 with 1 Axes>"
      ]
     },
     "metadata": {
      "needs_background": "light"
     },
     "output_type": "display_data"
    }
   ],
   "source": [
    "metamin = max(toy_lam.min(), predictions.min())\n",
    "metamax = max(toy_lam.max(), predictions.max())\n",
    "bins = np.linspace(metamin, metamax, 50)\n",
    "\n",
    "ax = toy_lam.hist(bins=bins, figsize=(15,5), alpha=0.4, log=True, color='blue');\n",
    "predictions.hist(bins=bins, figsize=(15,5), alpha=0.4, log=True, color='orange', ax=ax);"
   ]
  },
  {
   "cell_type": "code",
   "execution_count": 198,
   "metadata": {
    "ExecuteTime": {
     "end_time": "2018-11-30T16:21:47.209570Z",
     "start_time": "2018-11-30T16:21:46.926828Z"
    }
   },
   "outputs": [
    {
     "data": {
      "text/plain": [
       "0.3955878100775194"
      ]
     },
     "execution_count": 198,
     "metadata": {},
     "output_type": "execute_result"
    }
   ],
   "source": [
    "# Let's assume this model is perfect and re-sample a Poisson set of claims from it:\n",
    "resampled_from_preds = np.random.poisson(predictions)\n",
    "gini_coefficient(predictions, np.ones(len(predictions)), resampled_from_preds)"
   ]
  },
  {
   "cell_type": "markdown",
   "metadata": {},
   "source": [
    "This model has captured most of the variance (as evidenced by the very similar histograms) so has a very similar maximum theoretical gini."
   ]
  },
  {
   "cell_type": "code",
   "execution_count": 199,
   "metadata": {
    "ExecuteTime": {
     "end_time": "2018-11-30T16:21:50.951569Z",
     "start_time": "2018-11-30T16:21:50.695224Z"
    }
   },
   "outputs": [
    {
     "data": {
      "text/plain": [
       "0.39452029210008455"
      ]
     },
     "execution_count": 199,
     "metadata": {},
     "output_type": "execute_result"
    }
   ],
   "source": [
    "# Let's see what the actual performance is:\n",
    "gini_coefficient(predictions, np.ones(len(predictions)), toy_y)"
   ]
  },
  {
   "cell_type": "markdown",
   "metadata": {},
   "source": [
    "Even better than the truth! Amazing!"
   ]
  },
  {
   "cell_type": "code",
   "execution_count": 200,
   "metadata": {
    "ExecuteTime": {
     "end_time": "2018-11-30T16:22:32.817841Z",
     "start_time": "2018-11-30T16:22:32.812464Z"
    }
   },
   "outputs": [],
   "source": [
    "# drop 7 columns\n",
    "toy_X_subset = toy_X.iloc[:, 4:12]"
   ]
  },
  {
   "cell_type": "code",
   "execution_count": 201,
   "metadata": {
    "ExecuteTime": {
     "end_time": "2018-11-30T16:22:34.067599Z",
     "start_time": "2018-11-30T16:22:33.652243Z"
    }
   },
   "outputs": [],
   "source": [
    "# Now let's impair the model by only giving it access to a subset of variables:\n",
    "model_imp = sm.GLM(toy_y, sm.add_constant(toy_X_subset), family=sm.families.Poisson())"
   ]
  },
  {
   "cell_type": "code",
   "execution_count": 202,
   "metadata": {
    "ExecuteTime": {
     "end_time": "2018-11-30T16:22:39.212064Z",
     "start_time": "2018-11-30T16:22:34.598758Z"
    }
   },
   "outputs": [],
   "source": [
    "fitted_imp = model_imp.fit()"
   ]
  },
  {
   "cell_type": "code",
   "execution_count": 203,
   "metadata": {
    "ExecuteTime": {
     "end_time": "2018-11-30T16:22:40.244040Z",
     "start_time": "2018-11-30T16:22:39.982456Z"
    }
   },
   "outputs": [],
   "source": [
    "predictions_imp = fitted_imp.predict(sm.add_constant(toy_X_subset))"
   ]
  },
  {
   "cell_type": "code",
   "execution_count": 204,
   "metadata": {
    "ExecuteTime": {
     "end_time": "2018-11-30T16:22:42.033082Z",
     "start_time": "2018-11-30T16:22:41.062870Z"
    }
   },
   "outputs": [
    {
     "data": {
      "image/png": "[encoded data removed]",
      "text/plain": [
       "<Figure size 1080x360 with 1 Axes>"
      ]
     },
     "metadata": {
      "needs_background": "light"
     },
     "output_type": "display_data"
    }
   ],
   "source": [
    "metamin = max(toy_lam.min(), predictions_imp.min())\n",
    "metamax = max(toy_lam.max(), predictions_imp.max())\n",
    "bins = np.linspace(metamin, metamax, 50)\n",
    "\n",
    "ax = toy_lam.hist(bins=bins, figsize=(15,5), alpha=0.4, log=True, color='blue');\n",
    "predictions_imp.hist(bins=bins, figsize=(15,5), alpha=0.4, log=True, color='orange', ax=ax);"
   ]
  },
  {
   "cell_type": "code",
   "execution_count": 205,
   "metadata": {
    "ExecuteTime": {
     "end_time": "2018-11-30T16:22:46.515229Z",
     "start_time": "2018-11-30T16:22:46.207351Z"
    }
   },
   "outputs": [
    {
     "data": {
      "text/plain": [
       "0.3171805545505938"
      ]
     },
     "execution_count": 205,
     "metadata": {},
     "output_type": "execute_result"
    }
   ],
   "source": [
    "# Let's assume this model is perfect and re-sample a Poisson set of claims from it:\n",
    "resampled_from_preds = np.random.poisson(predictions_imp)\n",
    "gini_coefficient(predictions_imp, np.ones(len(predictions_imp)), resampled_from_preds)"
   ]
  },
  {
   "cell_type": "markdown",
   "metadata": {},
   "source": [
    "This model has captured less variance so has a lower maximum theoretical gini."
   ]
  },
  {
   "cell_type": "code",
   "execution_count": 206,
   "metadata": {
    "ExecuteTime": {
     "end_time": "2018-11-30T16:22:48.688227Z",
     "start_time": "2018-11-30T16:22:48.412200Z"
    }
   },
   "outputs": [
    {
     "data": {
      "text/plain": [
       "0.3191034458813611"
      ]
     },
     "execution_count": 206,
     "metadata": {},
     "output_type": "execute_result"
    }
   ],
   "source": [
    "# Let's see what the actual performance is:\n",
    "gini_coefficient(predictions_imp, np.ones(len(predictions_imp)), toy_y)"
   ]
  },
  {
   "cell_type": "markdown",
   "metadata": {},
   "source": [
    "Not far off its theoretical maximum."
   ]
  },
  {
   "cell_type": "code",
   "execution_count": 207,
   "metadata": {
    "ExecuteTime": {
     "end_time": "2018-11-30T16:22:52.543595Z",
     "start_time": "2018-11-30T16:22:52.539305Z"
    }
   },
   "outputs": [],
   "source": [
    "# drop 12 columns\n",
    "toy_X_subset2 = toy_X.iloc[:, 5:8]"
   ]
  },
  {
   "cell_type": "code",
   "execution_count": 208,
   "metadata": {
    "ExecuteTime": {
     "end_time": "2018-11-30T16:22:53.307984Z",
     "start_time": "2018-11-30T16:22:53.139402Z"
    }
   },
   "outputs": [],
   "source": [
    "# Now let's impair the model by only giving it access to a subset of variables:\n",
    "model_imp2 = sm.GLM(toy_y, sm.add_constant(toy_X_subset2), family=sm.families.Poisson())"
   ]
  },
  {
   "cell_type": "code",
   "execution_count": 209,
   "metadata": {
    "ExecuteTime": {
     "end_time": "2018-11-30T16:22:56.248747Z",
     "start_time": "2018-11-30T16:22:53.755254Z"
    }
   },
   "outputs": [],
   "source": [
    "fitted_imp2 = model_imp2.fit()"
   ]
  },
  {
   "cell_type": "code",
   "execution_count": 210,
   "metadata": {
    "ExecuteTime": {
     "end_time": "2018-11-30T16:22:56.524882Z",
     "start_time": "2018-11-30T16:22:56.360733Z"
    }
   },
   "outputs": [],
   "source": [
    "predictions_imp2 = fitted_imp2.predict(sm.add_constant(toy_X_subset2))"
   ]
  },
  {
   "cell_type": "code",
   "execution_count": 216,
   "metadata": {
    "ExecuteTime": {
     "end_time": "2018-11-30T17:48:06.567638Z",
     "start_time": "2018-11-30T17:48:05.650677Z"
    }
   },
   "outputs": [
    {
     "data": {
      "image/png": "[encoded data removed]",
      "text/plain": [
       "<Figure size 1080x360 with 1 Axes>"
      ]
     },
     "metadata": {
      "needs_background": "light"
     },
     "output_type": "display_data"
    }
   ],
   "source": [
    "metamin = max(toy_lam.min(), predictions_imp2.min())\n",
    "metamax = max(toy_lam.max(), predictions_imp2.max())\n",
    "bins = np.linspace(metamin, metamax, 50)\n",
    "\n",
    "ax = toy_lam.hist(bins=bins, figsize=(15,5), alpha=0.4, log=True, color='blue');\n",
    "predictions_imp2.hist(bins=bins, figsize=(15,5), alpha=0.4, log=True, color='orange', ax=ax);"
   ]
  },
  {
   "cell_type": "code",
   "execution_count": 212,
   "metadata": {
    "ExecuteTime": {
     "end_time": "2018-11-30T16:23:02.086013Z",
     "start_time": "2018-11-30T16:23:01.809561Z"
    }
   },
   "outputs": [
    {
     "data": {
      "text/plain": [
       "0.2755878086622806"
      ]
     },
     "execution_count": 212,
     "metadata": {},
     "output_type": "execute_result"
    }
   ],
   "source": [
    "# Let's assume this model is perfect and re-sample a Poisson set of claims from it:\n",
    "resampled_from_preds = np.random.poisson(predictions_imp2)\n",
    "gini_coefficient(predictions_imp2, np.ones(len(predictions_imp2)), resampled_from_preds)"
   ]
  },
  {
   "cell_type": "markdown",
   "metadata": {},
   "source": [
    "This model has captured less variance so has a lower maximum theoretical gini."
   ]
  },
  {
   "cell_type": "code",
   "execution_count": 213,
   "metadata": {
    "ExecuteTime": {
     "end_time": "2018-11-30T16:23:04.107682Z",
     "start_time": "2018-11-30T16:23:03.866501Z"
    }
   },
   "outputs": [
    {
     "data": {
      "text/plain": [
       "0.267922080685971"
      ]
     },
     "execution_count": 213,
     "metadata": {},
     "output_type": "execute_result"
    }
   ],
   "source": [
    "# Let's see what the actual performance is:\n",
    "gini_coefficient(predictions_imp2, np.ones(len(predictions_imp2)), toy_y)"
   ]
  },
  {
   "cell_type": "markdown",
   "metadata": {},
   "source": [
    "Not far off its theoretical maximum, but below."
   ]
  },
  {
   "cell_type": "code",
   "execution_count": null,
   "metadata": {},
   "outputs": [],
   "source": []
  }
 ],
 "metadata": {
  "kernelspec": {
   "display_name": "Python 3",
   "language": "python",
   "name": "python3"
  },
  "language_info": {
   "codemirror_mode": {
    "name": "ipython",
    "version": 3
   },
   "file_extension": ".py",
   "mimetype": "text/x-python",
   "name": "python",
   "nbconvert_exporter": "python",
   "pygments_lexer": "ipython3",
   "version": "3.6.6"
  },
  "toc": {
   "base_numbering": 1,
   "nav_menu": {},
   "number_sections": true,
   "sideBar": true,
   "skip_h1_title": false,
   "title_cell": "Table of Contents",
   "title_sidebar": "Contents",
   "toc_cell": false,
   "toc_position": {},
   "toc_section_display": true,
   "toc_window_display": false
  },
  "varInspector": {
   "cols": {
    "lenName": 16,
    "lenType": 16,
    "lenVar": 40
   },
   "kernels_config": {
    "python": {
     "delete_cmd_postfix": "",
     "delete_cmd_prefix": "del ",
     "library": "var_list.py",
     "varRefreshCmd": "print(var_dic_list())"
    },
    "r": {
     "delete_cmd_postfix": ") ",
     "delete_cmd_prefix": "rm(",
     "library": "var_list.r",
     "varRefreshCmd": "cat(var_dic_list()) "
    }
   },
   "types_to_exclude": [
    "module",
    "function",
    "builtin_function_or_method",
    "instance",
    "_Feature"
   ],
   "window_display": false
  }
 },
 "nbformat": 4,
 "nbformat_minor": 2
}
