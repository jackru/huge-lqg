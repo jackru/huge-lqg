{
 "cells": [
  {
   "cell_type": "markdown",
   "id": "84917b51",
   "metadata": {},
   "source": [
    "# Imports"
   ]
  },
  {
   "cell_type": "code",
   "execution_count": 1,
   "id": "b9e952f7",
   "metadata": {
    "ExecuteTime": {
     "end_time": "2021-07-02T15:00:28.651166Z",
     "start_time": "2021-07-02T15:00:25.551284Z"
    }
   },
   "outputs": [],
   "source": [
    "import matplotlib.pyplot as plt\n",
    "import numpy as np\n",
    "import pandas as pd\n",
    "import pymc3 as pm\n",
    "from scipy.stats import beta, gaussian_kde, norm, gamma, multivariate_normal, binom\n",
    "import seaborn as sns\n",
    "from sklearn.neighbors import KernelDensity\n",
    "from theano import tensor as tt\n",
    "\n",
    "%matplotlib inline"
   ]
  },
  {
   "cell_type": "markdown",
   "id": "a2c05f80",
   "metadata": {},
   "source": [
    "# Function definitions"
   ]
  },
  {
   "cell_type": "code",
   "execution_count": 2,
   "id": "e7571f92",
   "metadata": {
    "ExecuteTime": {
     "end_time": "2021-07-02T15:00:28.656978Z",
     "start_time": "2021-07-02T15:00:28.653462Z"
    }
   },
   "outputs": [],
   "source": [
    "def multiply_odds(p, odds_multiplier):\n",
    "    p = np.array(p)\n",
    "    odds_multiplier = np.array(odds_multiplier)\n",
    "    assert 0.0 < p.min()\n",
    "    assert p.max() < 1.0\n",
    "    assert (odds_multiplier >= 0).all()\n",
    "    old_odds = p / (1 - p)\n",
    "    new_odds = old_odds * odds_multiplier\n",
    "    new_p = new_odds / (1 + new_odds)\n",
    "    return new_p"
   ]
  },
  {
   "cell_type": "code",
   "execution_count": 3,
   "id": "bd2783eb",
   "metadata": {
    "ExecuteTime": {
     "end_time": "2021-07-02T15:00:28.662775Z",
     "start_time": "2021-07-02T15:00:28.659941Z"
    }
   },
   "outputs": [],
   "source": [
    "def relative_binom_log_likelihood(p: np.ndarray, n: int, x: int):\n",
    "    # the combinatorial factor is common to all p given fixed (n, x)\n",
    "    return np.log(p)*x + np.log(1-p)*(n-x)"
   ]
  },
  {
   "cell_type": "code",
   "execution_count": 4,
   "id": "0b8fe93f",
   "metadata": {
    "ExecuteTime": {
     "end_time": "2021-07-02T15:00:28.669297Z",
     "start_time": "2021-07-02T15:00:28.665902Z"
    }
   },
   "outputs": [],
   "source": [
    "def expected_loss(likelihood_grid, value_grid):\n",
    "    # returns a positive number for the expected loss\n",
    "    likelihood_grid = likelihood_grid / likelihood_grid.sum()\n",
    "    weighted_value_grid = likelihood_grid * value_grid\n",
    "    if weighted_value_grid.sum() > 0:\n",
    "        weighted_value_grid *= -1.0\n",
    "    return weighted_value_grid.clip(0).sum()"
   ]
  },
  {
   "cell_type": "markdown",
   "id": "ea8df845",
   "metadata": {},
   "source": [
    "# Constants"
   ]
  },
  {
   "cell_type": "code",
   "execution_count": 5,
   "id": "a77dcb98",
   "metadata": {
    "ExecuteTime": {
     "end_time": "2021-07-02T15:00:28.674234Z",
     "start_time": "2021-07-02T15:00:28.671466Z"
    }
   },
   "outputs": [],
   "source": [
    "EMPIRICAL_P_LOAN = 0.1\n",
    "N_QUANTILES = 7\n",
    "UNIVARIATE_SAMPLE_SIZE = 10000\n",
    "COPULA_SAMPLE_SIZE = 100\n",
    "COVARIANCE = -0.7"
   ]
  },
  {
   "cell_type": "markdown",
   "id": "e8d7206b",
   "metadata": {},
   "source": [
    "# Get reference data"
   ]
  },
  {
   "cell_type": "code",
   "execution_count": 6,
   "id": "301a8066",
   "metadata": {
    "ExecuteTime": {
     "end_time": "2021-07-02T15:00:28.684382Z",
     "start_time": "2021-07-02T15:00:28.676183Z"
    }
   },
   "outputs": [],
   "source": [
    "reference_data = pd.read_csv('../../../Documents/iwoca/ab_testing/reference_data_for_empirical_dist.csv')\n",
    "empirical_n_loans = len(reference_data)\n",
    "empirical_cltvs = reference_data['cltv_total_initial']\n",
    "min_cltv = empirical_cltvs.min()\n",
    "max_cltv = empirical_cltvs.max()\n",
    "range_cltv = max_cltv - min_cltv"
   ]
  },
  {
   "cell_type": "markdown",
   "id": "6eb6244c",
   "metadata": {},
   "source": [
    "# Control priors"
   ]
  },
  {
   "cell_type": "markdown",
   "id": "adf8efeb",
   "metadata": {},
   "source": [
    "## Prior over p(loan)"
   ]
  },
  {
   "cell_type": "code",
   "execution_count": 7,
   "id": "d898a12e",
   "metadata": {
    "ExecuteTime": {
     "end_time": "2021-07-02T15:00:28.694326Z",
     "start_time": "2021-07-02T15:00:28.686281Z"
    }
   },
   "outputs": [
    {
     "data": {
      "text/plain": [
       "array([0.09302423, 0.0961628 , 0.09817776, 0.09993127, 0.10170321,\n",
       "       0.1037859 , 0.10713345])"
      ]
     },
     "execution_count": 7,
     "metadata": {},
     "output_type": "execute_result"
    }
   ],
   "source": [
    "rate_prior = beta(empirical_n_loans, empirical_n_loans*(1-EMPIRICAL_P_LOAN)/EMPIRICAL_P_LOAN)\n",
    "quantile_points = np.linspace(1/(N_QUANTILES*2), 1-1/(N_QUANTILES*2), N_QUANTILES)\n",
    "p_prior_quantiles = rate_prior.ppf(quantile_points)\n",
    "p_prior_quantiles"
   ]
  },
  {
   "cell_type": "markdown",
   "id": "12abb4b0",
   "metadata": {},
   "source": [
    "## Prior over CLTV scale factor"
   ]
  },
  {
   "cell_type": "markdown",
   "id": "1660a27c",
   "metadata": {},
   "source": [
    "### Build kernel estimator as empirical distribution"
   ]
  },
  {
   "cell_type": "code",
   "execution_count": 8,
   "id": "4f986d23",
   "metadata": {
    "ExecuteTime": {
     "end_time": "2021-07-02T15:00:28.704246Z",
     "start_time": "2021-07-02T15:00:28.698575Z"
    }
   },
   "outputs": [
    {
     "data": {
      "text/plain": [
       "KernelDensity(bandwidth=4500.0, kernel='exponential')"
      ]
     },
     "execution_count": 8,
     "metadata": {},
     "output_type": "execute_result"
    }
   ],
   "source": [
    "# exponential kernel chosen as most appropriate for extrapolation\n",
    "# bandwidth selected by inspection\n",
    "empirical_cltv_kde = KernelDensity(kernel='exponential', bandwidth=4500.)\n",
    "empirical_cltv_kde.fit(empirical_cltvs.values.reshape(-1, 1))"
   ]
  },
  {
   "cell_type": "markdown",
   "id": "951a792e",
   "metadata": {},
   "source": [
    "### Approximate KDE using pymc.Interpolated to allow estimation and calibration of the scale factor"
   ]
  },
  {
   "cell_type": "code",
   "execution_count": 9,
   "id": "c18caf1b",
   "metadata": {
    "ExecuteTime": {
     "end_time": "2021-07-02T15:00:28.726583Z",
     "start_time": "2021-07-02T15:00:28.707329Z"
    }
   },
   "outputs": [],
   "source": [
    "x_points = np.concatenate([\n",
    "    np.linspace(min_cltv - range_cltv, min_cltv, 100),\n",
    "    np.array(empirical_cltvs.sort_values())[1:-1],\n",
    "    np.linspace(max_cltv, max_cltv + range_cltv, 100),\n",
    "])\n",
    "\n",
    "pdf_points = np.exp(empirical_cltv_kde.score_samples(x_points.reshape(-1, 1)))\n",
    "empirical_cltv_dist = pm.Interpolated.dist(x_points, pdf_points)"
   ]
  },
  {
   "cell_type": "code",
   "execution_count": 10,
   "id": "cfa866db",
   "metadata": {
    "ExecuteTime": {
     "end_time": "2021-07-02T15:00:31.348469Z",
     "start_time": "2021-07-02T15:00:28.728835Z"
    }
   },
   "outputs": [
    {
     "data": {
      "image/png": "[encoded data removed]",
      "text/plain": [
       "<Figure size 1080x360 with 1 Axes>"
      ]
     },
     "metadata": {
      "needs_background": "light"
     },
     "output_type": "display_data"
    }
   ],
   "source": [
    "fig, ax = plt.subplots(figsize=(15,5))\n",
    "ax.plot(x_points, empirical_cltv_dist.logp(x_points).eval());"
   ]
  },
  {
   "cell_type": "markdown",
   "id": "b29b84b1",
   "metadata": {},
   "source": [
    "### Estimate the log scale factor for the reference data (should be ≈ 0)"
   ]
  },
  {
   "cell_type": "code",
   "execution_count": 11,
   "id": "9e451af6",
   "metadata": {
    "ExecuteTime": {
     "end_time": "2021-07-02T15:00:42.932192Z",
     "start_time": "2021-07-02T15:00:31.350507Z"
    }
   },
   "outputs": [
    {
     "name": "stderr",
     "output_type": "stream",
     "text": [
      "Auto-assigning NUTS sampler...\n",
      "Initializing NUTS using jitter+adapt_diag...\n",
      "Multiprocess sampling (2 chains in 2 jobs)\n",
      "NUTS: [log_cltv_scaling_factor]\n"
     ]
    },
    {
     "data": {
      "text/html": [
       "\n",
       "    <div>\n",
       "        <style>\n",
       "            /* Turns off some styling */\n",
       "            progress {\n",
       "                /* gets rid of default border in Firefox and Opera. */\n",
       "                border: none;\n",
       "                /* Needs to be in here for Safari polyfill so background images work as expected. */\n",
       "                background-size: auto;\n",
       "            }\n",
       "            .progress-bar-interrupted, .progress-bar-interrupted::-webkit-progress-bar {\n",
       "                background: #F44336;\n",
       "            }\n",
       "        </style>\n",
       "      <progress value='8000' class='' max='8000' style='width:300px; height:20px; vertical-align: middle;'></progress>\n",
       "      100.00% [8000/8000 00:03<00:00 Sampling 2 chains, 0 divergences]\n",
       "    </div>\n",
       "    "
      ],
      "text/plain": [
       "<IPython.core.display.HTML object>"
      ]
     },
     "metadata": {},
     "output_type": "display_data"
    },
    {
     "name": "stderr",
     "output_type": "stream",
     "text": [
      "Sampling 2 chains for 2_000 tune and 2_000 draw iterations (4_000 + 4_000 draws total) took 8 seconds.\n"
     ]
    },
    {
     "data": {
      "image/png": "[encoded data removed]",
      "text/plain": [
       "<Figure size 864x144 with 2 Axes>"
      ]
     },
     "metadata": {
      "needs_background": "light"
     },
     "output_type": "display_data"
    }
   ],
   "source": [
    "obs_cltv = np.array(empirical_cltvs.sort_values())\n",
    "\n",
    "with pm.Model() as cltv_model:\n",
    "    # prior\n",
    "    log_cltv_scaling_factor = pm.Uniform('log_cltv_scaling_factor', -1.0, 1.0)\n",
    "    \n",
    "    # this returns the correct density in the transformed space\n",
    "    def scaled_empirical_logp(value):\n",
    "        return empirical_cltv_dist.logp(value/tt.exp(log_cltv_scaling_factor)) - log_cltv_scaling_factor\n",
    "    \n",
    "    # parameterisation\n",
    "    cltv = pm.DensityDist('cltv', scaled_empirical_logp, observed=obs_cltv)\n",
    "    \n",
    "    # plot\n",
    "    log_cltv_scale_prior_trace = pm.sample(tune=2000, draws=2000, return_inferencedata=True)\n",
    "    pm.plot_trace(log_cltv_scale_prior_trace)"
   ]
  },
  {
   "cell_type": "markdown",
   "id": "1569a2e2",
   "metadata": {},
   "source": [
    "### Calibrate the distribution to ensure log scale factor ≈ 0"
   ]
  },
  {
   "cell_type": "code",
   "execution_count": 12,
   "id": "f54f942e",
   "metadata": {
    "ExecuteTime": {
     "end_time": "2021-07-02T15:00:42.938637Z",
     "start_time": "2021-07-02T15:00:42.934436Z"
    }
   },
   "outputs": [
    {
     "data": {
      "text/plain": [
       "0.8958341352965282"
      ]
     },
     "execution_count": 12,
     "metadata": {},
     "output_type": "execute_result"
    }
   ],
   "source": [
    "# a retrospective scaling factor introduced to counteract the smoothing (stretching) effect of\n",
    "# kernel density estimation\n",
    "CALIBRATION_FACTOR = np.exp(-0.11)\n",
    "CALIBRATION_FACTOR"
   ]
  },
  {
   "cell_type": "code",
   "execution_count": 13,
   "id": "235251f4",
   "metadata": {
    "ExecuteTime": {
     "end_time": "2021-07-02T15:00:42.959364Z",
     "start_time": "2021-07-02T15:00:42.940447Z"
    }
   },
   "outputs": [],
   "source": [
    "empirical_cltv_kde.fit((empirical_cltvs * CALIBRATION_FACTOR).values.reshape(-1, 1))\n",
    "pdf_points = np.exp(empirical_cltv_kde.score_samples(x_points.reshape(-1, 1)))\n",
    "empirical_cltv_dist = pm.Interpolated.dist(x_points, pdf_points)"
   ]
  },
  {
   "cell_type": "code",
   "execution_count": 14,
   "id": "f9a91f1c",
   "metadata": {
    "ExecuteTime": {
     "end_time": "2021-07-02T15:00:51.969102Z",
     "start_time": "2021-07-02T15:00:42.963840Z"
    }
   },
   "outputs": [
    {
     "name": "stderr",
     "output_type": "stream",
     "text": [
      "Auto-assigning NUTS sampler...\n",
      "Initializing NUTS using jitter+adapt_diag...\n",
      "Multiprocess sampling (2 chains in 2 jobs)\n",
      "NUTS: [log_cltv_scaling_factor]\n"
     ]
    },
    {
     "data": {
      "text/html": [
       "\n",
       "    <div>\n",
       "        <style>\n",
       "            /* Turns off some styling */\n",
       "            progress {\n",
       "                /* gets rid of default border in Firefox and Opera. */\n",
       "                border: none;\n",
       "                /* Needs to be in here for Safari polyfill so background images work as expected. */\n",
       "                background-size: auto;\n",
       "            }\n",
       "            .progress-bar-interrupted, .progress-bar-interrupted::-webkit-progress-bar {\n",
       "                background: #F44336;\n",
       "            }\n",
       "        </style>\n",
       "      <progress value='8000' class='' max='8000' style='width:300px; height:20px; vertical-align: middle;'></progress>\n",
       "      100.00% [8000/8000 00:03<00:00 Sampling 2 chains, 0 divergences]\n",
       "    </div>\n",
       "    "
      ],
      "text/plain": [
       "<IPython.core.display.HTML object>"
      ]
     },
     "metadata": {},
     "output_type": "display_data"
    },
    {
     "name": "stderr",
     "output_type": "stream",
     "text": [
      "Sampling 2 chains for 2_000 tune and 2_000 draw iterations (4_000 + 4_000 draws total) took 7 seconds.\n"
     ]
    },
    {
     "data": {
      "image/png": "[encoded data removed]",
      "text/plain": [
       "<Figure size 864x144 with 2 Axes>"
      ]
     },
     "metadata": {
      "needs_background": "light"
     },
     "output_type": "display_data"
    }
   ],
   "source": [
    "obs_cltv = np.array(empirical_cltvs.sort_values())\n",
    "\n",
    "with pm.Model() as cltv_model:\n",
    "    # prior\n",
    "    log_cltv_scaling_factor = pm.Uniform('log_cltv_scaling_factor', -1.0, 1.0)\n",
    "    \n",
    "    # this returns the correct density in the transformed space\n",
    "    def scaled_empirical_logp(value):\n",
    "        return empirical_cltv_dist.logp(value/tt.exp(log_cltv_scaling_factor)) - log_cltv_scaling_factor\n",
    "    \n",
    "    # parameterisation\n",
    "    cltv = pm.DensityDist('cltv', scaled_empirical_logp, observed=obs_cltv)\n",
    "    \n",
    "    # plot\n",
    "    log_cltv_scale_prior_trace = pm.sample(tune=2000, draws=2000, return_inferencedata=True)\n",
    "    pm.plot_trace(log_cltv_scale_prior_trace)"
   ]
  },
  {
   "cell_type": "code",
   "execution_count": 15,
   "id": "d4f0e6f0",
   "metadata": {
    "ExecuteTime": {
     "end_time": "2021-07-02T15:00:51.973451Z",
     "start_time": "2021-07-02T15:00:51.971127Z"
    }
   },
   "outputs": [],
   "source": [
    "# uncomment the line below to check that the expected value of the log scale factor is ~0\n",
    "# log_cltv_scale_prior_trace.mean()"
   ]
  },
  {
   "cell_type": "markdown",
   "id": "2685ad70",
   "metadata": {},
   "source": [
    "### Derive the prior over the CLTV scale factor by using the trace"
   ]
  },
  {
   "cell_type": "code",
   "execution_count": 16,
   "id": "e6ac571d",
   "metadata": {
    "ExecuteTime": {
     "end_time": "2021-07-02T15:00:52.336238Z",
     "start_time": "2021-07-02T15:00:51.975487Z"
    }
   },
   "outputs": [
    {
     "data": {
      "text/plain": [
       "array([-0.06170957, -0.03812857, -0.01967181, -0.00134601,  0.01437621,\n",
       "        0.03140854,  0.06117901])"
      ]
     },
     "execution_count": 16,
     "metadata": {},
     "output_type": "execute_result"
    }
   ],
   "source": [
    "quantile_points = np.linspace(1/(N_QUANTILES*2), 1-1/(N_QUANTILES*2), N_QUANTILES)\n",
    "log_cltv_scale_prior_quantiles = ((log_cltv_scale_prior_trace.to_dataframe().iloc[:,2])\n",
    "                                  .quantile(quantile_points)\n",
    "                                  .values)\n",
    "log_cltv_scale_prior_quantiles"
   ]
  },
  {
   "cell_type": "markdown",
   "id": "55345e53",
   "metadata": {},
   "source": [
    "### Build a quick_kde function to approximate density\n",
    "This is used later in the simulation to allow vectorised calculation of densities"
   ]
  },
  {
   "cell_type": "code",
   "execution_count": 17,
   "id": "25f914cf",
   "metadata": {
    "ExecuteTime": {
     "end_time": "2021-07-02T15:00:52.528633Z",
     "start_time": "2021-07-02T15:00:52.338109Z"
    }
   },
   "outputs": [],
   "source": [
    "quick_kde_eval_points = np.linspace(min_cltv - range_cltv, max_cltv + range_cltv, 10000)\n",
    "quick_kde_pdf_points = empirical_cltv_kde.score_samples(quick_kde_eval_points.reshape(-1,1))\n",
    "    \n",
    "def quick_kde(cltvs):    \n",
    "    return np.interp(cltvs, quick_kde_eval_points, quick_kde_pdf_points)"
   ]
  },
  {
   "cell_type": "code",
   "execution_count": 18,
   "id": "e7ee5899",
   "metadata": {
    "ExecuteTime": {
     "end_time": "2021-07-02T15:00:52.535830Z",
     "start_time": "2021-07-02T15:00:52.530950Z"
    }
   },
   "outputs": [],
   "source": [
    "def cltv_log_likelihood(observed_values, scale_factors):\n",
    "    evaluation_points = np.divide.outer(observed_values, scale_factors)\n",
    "    evaluation_shape = evaluation_points.shape\n",
    "    return (quick_kde(evaluation_points.reshape(-1,1))\n",
    "            .reshape(evaluation_shape)\n",
    "            - np.log(scale_factors)).sum(axis=0)"
   ]
  },
  {
   "cell_type": "markdown",
   "id": "0a211c0c",
   "metadata": {},
   "source": [
    "# Collect marginal priors over uplifts"
   ]
  },
  {
   "cell_type": "markdown",
   "id": "d981761b",
   "metadata": {},
   "source": [
    "## p(loan)"
   ]
  },
  {
   "cell_type": "code",
   "execution_count": 19,
   "id": "50fe77e6",
   "metadata": {
    "ExecuteTime": {
     "end_time": "2021-07-02T15:00:52.540649Z",
     "start_time": "2021-07-02T15:00:52.537570Z"
    }
   },
   "outputs": [],
   "source": [
    "# let's start by assuming that the effect size on p(loan) is unlikely to be more extreme than e.g. 4x\n",
    "max_odds_mult = 4\n",
    "N_bins = 10\n",
    "\n",
    "max_logit = np.log(max_odds_mult)\n",
    "logit_bin_edges = np.linspace(-max_logit, max_logit, N_bins+1)\n",
    "logit_bin_midps = np.linspace(-max_logit, max_logit, 2*N_bins+1)[1::2]"
   ]
  },
  {
   "cell_type": "code",
   "execution_count": 20,
   "id": "bcc94f93",
   "metadata": {
    "ExecuteTime": {
     "end_time": "2021-07-02T15:00:52.546757Z",
     "start_time": "2021-07-02T15:00:52.542684Z"
    }
   },
   "outputs": [],
   "source": [
    "# convert dummy survey data for these bins into a distribution that pymc3 can use\n",
    "# pymc3 is only used for sampling\n",
    "# NB the interpolation could be improved by extending the list of midpoints with the outside bin edges (at which y=0)\n",
    "dummy_odds_survey_data = np.array([1,2,5,12,20,31,18,7,3,1])\n",
    "log_odds_multiplier_prior = pm.Interpolated.dist(logit_bin_midps, dummy_odds_survey_data)"
   ]
  },
  {
   "cell_type": "markdown",
   "id": "fde5797e",
   "metadata": {},
   "source": [
    "## E(CLTV | loan)"
   ]
  },
  {
   "cell_type": "code",
   "execution_count": 21,
   "id": "0406d7f1",
   "metadata": {
    "ExecuteTime": {
     "end_time": "2021-07-02T15:00:52.555066Z",
     "start_time": "2021-07-02T15:00:52.549050Z"
    }
   },
   "outputs": [
    {
     "data": {
      "text/plain": [
       "array([0.5       , 0.57434918, 0.65975396, 0.75785828, 0.87055056,\n",
       "       1.        , 1.14869835, 1.31950791, 1.51571657, 1.74110113,\n",
       "       2.        ])"
      ]
     },
     "execution_count": 21,
     "metadata": {},
     "output_type": "execute_result"
    }
   ],
   "source": [
    "# let's assume that the effect size on CLTV is unlikely to be more extreme than e.g. 2x\n",
    "max_cltv_mult = 2\n",
    "N_bins = 10\n",
    "\n",
    "max_log_cltv_mult = np.log(max_cltv_mult)\n",
    "log_cltv_bin_edges = np.linspace(-max_log_cltv_mult, max_log_cltv_mult, N_bins+1)\n",
    "log_cltv_bin_midps = np.linspace(-max_log_cltv_mult, max_log_cltv_mult, 2*N_bins+1)[1::2]\n",
    "\n",
    "np.exp(log_cltv_bin_edges)"
   ]
  },
  {
   "cell_type": "code",
   "execution_count": 22,
   "id": "e5eca4a3",
   "metadata": {
    "ExecuteTime": {
     "end_time": "2021-07-02T15:00:52.561027Z",
     "start_time": "2021-07-02T15:00:52.557254Z"
    }
   },
   "outputs": [],
   "source": [
    "# convert dummy survey data for these bins into a distribution that pymc3 can use\n",
    "# pymc3 is only used for sampling\n",
    "# NB the interpolation could be improved by extending the list of midpoints with the outside bin edges (at which y=0)\n",
    "dummy_cltv_survey_data = np.array([1,2,7,15,21,25,16,9,3,1])\n",
    "log_cltv_uplift_prior = pm.Interpolated.dist(log_cltv_bin_midps, dummy_cltv_survey_data)"
   ]
  },
  {
   "cell_type": "markdown",
   "id": "627f6283",
   "metadata": {},
   "source": [
    "# Construct the 2-D prior"
   ]
  },
  {
   "cell_type": "code",
   "execution_count": 23,
   "id": "6b89eca3",
   "metadata": {
    "ExecuteTime": {
     "end_time": "2021-07-02T15:00:52.571448Z",
     "start_time": "2021-07-02T15:00:52.566776Z"
    }
   },
   "outputs": [],
   "source": [
    "# This is the only place I'm currently using pymc3 (the \"frozen\" prior distributions)\n",
    "# I could probably get them from elsewhere if necessary (see below)\n",
    "log_odds_multiplier_sample = log_odds_multiplier_prior.random(size=UNIVARIATE_SAMPLE_SIZE)\n",
    "log_cltv_uplift_sample = log_cltv_uplift_prior.random(size=UNIVARIATE_SAMPLE_SIZE)"
   ]
  },
  {
   "cell_type": "markdown",
   "id": "7609a160",
   "metadata": {},
   "source": [
    "## Apply a copula"
   ]
  },
  {
   "cell_type": "code",
   "execution_count": 24,
   "id": "13aa2a21",
   "metadata": {
    "ExecuteTime": {
     "end_time": "2021-07-02T15:00:52.577646Z",
     "start_time": "2021-07-02T15:00:52.574321Z"
    }
   },
   "outputs": [],
   "source": [
    "cov_matrix = [[1., COVARIANCE], [COVARIANCE, 1.]]\n",
    "mv_norm = multivariate_normal(mean=[0, 0], cov=cov_matrix)\n",
    "mv_norm_rvs = mv_norm.rvs(COPULA_SAMPLE_SIZE)"
   ]
  },
  {
   "cell_type": "code",
   "execution_count": 25,
   "id": "e8e5c3c1",
   "metadata": {
    "ExecuteTime": {
     "end_time": "2021-07-02T15:00:52.582761Z",
     "start_time": "2021-07-02T15:00:52.579841Z"
    }
   },
   "outputs": [],
   "source": [
    "mv_norm_cdfs = norm.cdf(mv_norm_rvs)"
   ]
  },
  {
   "cell_type": "code",
   "execution_count": 26,
   "id": "12e1169d",
   "metadata": {
    "ExecuteTime": {
     "end_time": "2021-07-02T15:00:52.864951Z",
     "start_time": "2021-07-02T15:00:52.584659Z"
    }
   },
   "outputs": [
    {
     "data": {
      "image/png": "[encoded data removed]",
      "text/plain": [
       "<Figure size 432x432 with 3 Axes>"
      ]
     },
     "metadata": {
      "needs_background": "light"
     },
     "output_type": "display_data"
    }
   ],
   "source": [
    "log_odds_multiplier_sample_sorted = np.sort(log_odds_multiplier_sample)\n",
    "log_cltv_uplift_sample_sorted = np.sort(log_cltv_uplift_sample)\n",
    "\n",
    "log_odds_multiplier_prior_coupled = log_odds_multiplier_sample_sorted[np.floor(mv_norm_cdfs[:,0] * UNIVARIATE_SAMPLE_SIZE).astype(int)]\n",
    "log_cltv_uplift_prior_coupled = log_cltv_uplift_sample_sorted[np.floor(mv_norm_cdfs[:,1] * UNIVARIATE_SAMPLE_SIZE).astype(int)]\n",
    "\n",
    "sns.jointplot(x=log_odds_multiplier_prior_coupled, y=log_cltv_uplift_prior_coupled, kind='hex');"
   ]
  },
  {
   "cell_type": "markdown",
   "id": "208511a9",
   "metadata": {},
   "source": [
    "# Evaluate the test by running simulations"
   ]
  },
  {
   "cell_type": "markdown",
   "id": "2ed40bd6",
   "metadata": {},
   "source": [
    "## Setup prior grids"
   ]
  },
  {
   "cell_type": "code",
   "execution_count": 27,
   "id": "06beb360",
   "metadata": {
    "ExecuteTime": {
     "end_time": "2021-07-02T15:00:52.870829Z",
     "start_time": "2021-07-02T15:00:52.867252Z"
    }
   },
   "outputs": [],
   "source": [
    "# value_grid\n",
    "value_grid = np.empty(shape=(len(p_prior_quantiles),\n",
    "                             len(log_cltv_scale_prior_quantiles),\n",
    "                             len(log_odds_multiplier_prior_coupled)))\n",
    "\n",
    "p_A_grid = np.empty_like(value_grid)\n",
    "p_B_grid = np.empty_like(value_grid)\n",
    "cltv_A_grid = np.empty_like(value_grid)\n",
    "cltv_B_grid = np.empty_like(value_grid)"
   ]
  },
  {
   "cell_type": "code",
   "execution_count": 28,
   "id": "36f318c1",
   "metadata": {
    "ExecuteTime": {
     "end_time": "2021-07-02T15:00:52.967869Z",
     "start_time": "2021-07-02T15:00:52.873104Z"
    }
   },
   "outputs": [],
   "source": [
    "for i, p_A in enumerate(p_prior_quantiles):\n",
    "    p_A_grid[i,:,:] = p_A\n",
    "    \n",
    "    for j, cltv_scale_A in enumerate(log_cltv_scale_prior_quantiles):\n",
    "        cltv_A = np.exp(cltv_scale_A)\n",
    "        cltv_A_grid[:,j,:] = cltv_A\n",
    "        \n",
    "        for k, (odds_multiplier, cltv_uplift) in enumerate(zip(log_odds_multiplier_prior_coupled,\n",
    "                                                               log_cltv_uplift_prior_coupled)):\n",
    "            # calculate underlying \"true\" values\n",
    "            p_B = multiply_odds(p_A, np.exp(odds_multiplier))\n",
    "            p_B_grid[i,:,k] = p_B\n",
    "            \n",
    "            cltv_B = cltv_A * np.exp(cltv_uplift)\n",
    "            cltv_B_grid[:,j,k] = cltv_B\n",
    "            \n",
    "            B_minus_A = (p_B * cltv_B) - (p_A * cltv_A)\n",
    "            value_grid[i,j,k] = B_minus_A"
   ]
  },
  {
   "cell_type": "code",
   "execution_count": 29,
   "id": "44392a25",
   "metadata": {
    "ExecuteTime": {
     "end_time": "2021-07-02T15:00:52.973210Z",
     "start_time": "2021-07-02T15:00:52.970102Z"
    }
   },
   "outputs": [],
   "source": [
    "optimal_choice_grid = np.where(value_grid > 0, 'B', 'A')"
   ]
  },
  {
   "cell_type": "markdown",
   "id": "64e2e51b",
   "metadata": {},
   "source": [
    "## Check initial expected loss and choice (from priors alone)"
   ]
  },
  {
   "cell_type": "code",
   "execution_count": 30,
   "id": "5611f31b",
   "metadata": {
    "ExecuteTime": {
     "end_time": "2021-07-02T15:00:52.980083Z",
     "start_time": "2021-07-02T15:00:52.975126Z"
    }
   },
   "outputs": [
    {
     "data": {
      "text/plain": [
       "(0.007671672522553259, 'B')"
      ]
     },
     "execution_count": 30,
     "metadata": {},
     "output_type": "execute_result"
    }
   ],
   "source": [
    "prior_expected_loss = expected_loss(np.ones_like(value_grid), value_grid)\n",
    "initial_choice = 'B' if value_grid.sum() > 0 else 'A'\n",
    "prior_expected_loss, initial_choice"
   ]
  },
  {
   "cell_type": "code",
   "execution_count": 31,
   "id": "3def9d16",
   "metadata": {
    "ExecuteTime": {
     "end_time": "2021-07-02T15:00:53.013187Z",
     "start_time": "2021-07-02T15:00:52.982538Z"
    }
   },
   "outputs": [
    {
     "data": {
      "text/plain": [
       "0.008794063586632301"
      ]
     },
     "execution_count": 31,
     "metadata": {},
     "output_type": "execute_result"
    }
   ],
   "source": [
    "value_grid.mean()"
   ]
  },
  {
   "cell_type": "markdown",
   "id": "2b4ba0d9",
   "metadata": {},
   "source": [
    "## Run simulation"
   ]
  },
  {
   "cell_type": "code",
   "execution_count": 41,
   "id": "d557d6bb",
   "metadata": {
    "ExecuteTime": {
     "end_time": "2021-07-02T15:21:22.189444Z",
     "start_time": "2021-07-02T15:21:22.182072Z"
    },
    "scrolled": true
   },
   "outputs": [],
   "source": [
    "def run_simulation(threshold_loss, batch_size):\n",
    "    results = []\n",
    "    counter = 0\n",
    "    for idx in np.ndindex(value_grid.shape):\n",
    "        # reset initial values\n",
    "        exp_loss = prior_expected_loss\n",
    "        N_apps = 0\n",
    "        N_loans_A = 0\n",
    "        N_loans_B = 0\n",
    "        cltvs_A = []\n",
    "        cltvs_B = []\n",
    "\n",
    "        # do simulation\n",
    "        while exp_loss > threshold_loss:\n",
    "\n",
    "            # simulate applications\n",
    "            N_apps += batch_size\n",
    "            n_loans_A = binom.rvs(batch_size, p_A_grid[idx])\n",
    "            n_loans_B = binom.rvs(batch_size, p_B_grid[idx])\n",
    "            N_loans_A += n_loans_A\n",
    "            N_loans_B += n_loans_B\n",
    "            cltvs_A = np.concatenate([cltvs_A, empirical_cltv_dist.random(size=n_loans_A) * cltv_A_grid[idx]])\n",
    "            cltvs_B = np.concatenate([cltvs_B, empirical_cltv_dist.random(size=n_loans_B) * cltv_B_grid[idx]])\n",
    "\n",
    "            # calculate log likelihoods\n",
    "            ll_N_loans_A = relative_binom_log_likelihood(p_A_grid, N_apps, N_loans_A)\n",
    "            ll_N_loans_B = relative_binom_log_likelihood(p_B_grid, N_apps, N_loans_B)\n",
    "\n",
    "            ll_cltvs_A = cltv_log_likelihood(cltvs_A, cltv_A_grid)\n",
    "            ll_cltvs_B = cltv_log_likelihood(cltvs_B, cltv_B_grid)\n",
    "\n",
    "            total_ll = ll_N_loans_A + ll_N_loans_B + ll_cltvs_A + ll_cltvs_B\n",
    "            total_ll_shifted = total_ll - total_ll.max()\n",
    "\n",
    "            exp_loss = expected_loss(np.exp(total_ll_shifted), value_grid)\n",
    "\n",
    "        # the cost is negative if the initial_choice was not the true optimal choice\n",
    "        if initial_choice == optimal_choice_grid[idx]:\n",
    "            inferior_branch_cost = abs(value_grid[idx]) * N_apps\n",
    "        else:\n",
    "            inferior_branch_cost = -abs(value_grid[idx]) * N_apps\n",
    "\n",
    "        results.append({\n",
    "            'value_idx': value_grid[idx],\n",
    "            'inferior_branch_cost': inferior_branch_cost,\n",
    "            'N_apps': N_apps,\n",
    "            'exp_loss_change': exp_loss - prior_expected_loss,\n",
    "        })\n",
    "        counter += 1\n",
    "        if counter % 100 == 0:\n",
    "            print('.', end='')\n",
    "\n",
    "    results = pd.DataFrame(results)\n",
    "    expected_inferior_branch_cost = results['inferior_branch_cost'].mean()\n",
    "    expected_duration = results['N_apps'].mean() * 2\n",
    "    expected_benefit_per_app = -results['exp_loss_change'].mean()\n",
    "\n",
    "    summary = {\n",
    "        'expected_inferior_branch_cost': expected_inferior_branch_cost,\n",
    "        'expected_duration_in_apps': expected_duration,\n",
    "        'expected_benefit_per_app': expected_benefit_per_app,\n",
    "    }\n",
    "    \n",
    "    return results, summary"
   ]
  },
  {
   "cell_type": "code",
   "execution_count": 33,
   "id": "5cd21e2a",
   "metadata": {
    "ExecuteTime": {
     "end_time": "2021-07-02T15:13:33.958218Z",
     "start_time": "2021-07-02T15:00:53.028239Z"
    }
   },
   "outputs": [
    {
     "name": "stdout",
     "output_type": "stream",
     "text": [
      ".................................................threshold 0.007594955797327727 complete...\n",
      ".................................................threshold 0.006079800474123458 complete...\n",
      ".................................................threshold 0.0045646451509191895 complete...\n",
      ".................................................threshold 0.0030494898277149203 complete...\n",
      ".................................................threshold 0.001534334504510652 complete...\n"
     ]
    }
   ],
   "source": [
    "hyper_results = []\n",
    "for threshold in np.linspace(0.99, 0.2, 5) * prior_expected_loss:\n",
    "    _, summary = run_simulation(threshold, 100)\n",
    "    summary['threshold'] = threshold\n",
    "    hyper_results.append(summary)\n",
    "    print(f'threshold {threshold} complete...')\n",
    "hyper_results = pd.DataFrame(hyper_results)"
   ]
  },
  {
   "cell_type": "markdown",
   "id": "daeedc11",
   "metadata": {},
   "source": [
    "# Specify the costs and benefits of running the test"
   ]
  },
  {
   "cell_type": "code",
   "execution_count": 34,
   "id": "68d39bbf",
   "metadata": {
    "ExecuteTime": {
     "end_time": "2021-07-02T15:13:33.966929Z",
     "start_time": "2021-07-02T15:13:33.960150Z"
    }
   },
   "outputs": [
    {
     "data": {
      "text/plain": [
       "1469.2026943230248"
      ]
     },
     "execution_count": 34,
     "metadata": {},
     "output_type": "execute_result"
    }
   ],
   "source": [
    "current_value_per_app = p_A_grid.mean() * empirical_cltvs.mean()\n",
    "current_value_per_app"
   ]
  },
  {
   "cell_type": "code",
   "execution_count": 35,
   "id": "ce145a82",
   "metadata": {
    "ExecuteTime": {
     "end_time": "2021-07-02T15:13:33.976103Z",
     "start_time": "2021-07-02T15:13:33.969847Z"
    }
   },
   "outputs": [],
   "source": [
    "def profit_optimisation(results_df, upfront_cost=0, maintenance_cost_per_app=0,\n",
    "                        value_per_app=1, half_life_in_apps=None):\n",
    "    results_df = results_df.copy()\n",
    "    results_df['expected_inferior_branch_cost'] = results_df['expected_inferior_branch_cost'] * value_per_app\n",
    "    results_df['upfront_cost'] = upfront_cost\n",
    "    results_df['maintenance_cost'] = maintenance_cost_per_app * results_df['expected_duration_in_apps']\n",
    "    results_df['total_benefit'] = (results_df['expected_benefit_per_app']\n",
    "                                   * value_per_app\n",
    "                                   * half_life_in_apps/np.log(2))\n",
    "    results_df['total_cost'] = (results_df['expected_inferior_branch_cost']\n",
    "                                + results_df['upfront_cost']\n",
    "                                + results_df['maintenance_cost'])\n",
    "    results_df['total_profit'] = results_df['total_benefit'] - results_df['total_cost']\n",
    "    return results_df"
   ]
  },
  {
   "cell_type": "code",
   "execution_count": 36,
   "id": "df7ccc78",
   "metadata": {
    "ExecuteTime": {
     "end_time": "2021-07-02T15:13:33.996295Z",
     "start_time": "2021-07-02T15:13:33.978717Z"
    }
   },
   "outputs": [
    {
     "data": {
      "text/html": [
       "<div>\n",
       "<style scoped>\n",
       "    .dataframe tbody tr th:only-of-type {\n",
       "        vertical-align: middle;\n",
       "    }\n",
       "\n",
       "    .dataframe tbody tr th {\n",
       "        vertical-align: top;\n",
       "    }\n",
       "\n",
       "    .dataframe thead th {\n",
       "        text-align: right;\n",
       "    }\n",
       "</style>\n",
       "<table border=\"1\" class=\"dataframe\">\n",
       "  <thead>\n",
       "    <tr style=\"text-align: right;\">\n",
       "      <th></th>\n",
       "      <th>expected_inferior_branch_cost</th>\n",
       "      <th>expected_duration_in_apps</th>\n",
       "      <th>expected_benefit_per_app</th>\n",
       "      <th>threshold</th>\n",
       "      <th>upfront_cost</th>\n",
       "      <th>maintenance_cost</th>\n",
       "      <th>total_benefit</th>\n",
       "      <th>total_cost</th>\n",
       "      <th>total_profit</th>\n",
       "    </tr>\n",
       "  </thead>\n",
       "  <tbody>\n",
       "    <tr>\n",
       "      <th>0</th>\n",
       "      <td>1279.503043</td>\n",
       "      <td>211.102041</td>\n",
       "      <td>0.004564</td>\n",
       "      <td>0.007595</td>\n",
       "      <td>5000</td>\n",
       "      <td>2111.020408</td>\n",
       "      <td>9673.861509</td>\n",
       "      <td>8390.523451</td>\n",
       "      <td>1283.338057</td>\n",
       "    </tr>\n",
       "    <tr>\n",
       "      <th>1</th>\n",
       "      <td>1341.381107</td>\n",
       "      <td>248.408163</td>\n",
       "      <td>0.005048</td>\n",
       "      <td>0.006080</td>\n",
       "      <td>5000</td>\n",
       "      <td>2484.081633</td>\n",
       "      <td>10700.601805</td>\n",
       "      <td>8825.462740</td>\n",
       "      <td>1875.139065</td>\n",
       "    </tr>\n",
       "    <tr>\n",
       "      <th>2</th>\n",
       "      <td>1269.985930</td>\n",
       "      <td>308.040816</td>\n",
       "      <td>0.005493</td>\n",
       "      <td>0.004565</td>\n",
       "      <td>5000</td>\n",
       "      <td>3080.408163</td>\n",
       "      <td>11642.637571</td>\n",
       "      <td>9350.394093</td>\n",
       "      <td>2292.243478</td>\n",
       "    </tr>\n",
       "    <tr>\n",
       "      <th>3</th>\n",
       "      <td>1414.588605</td>\n",
       "      <td>443.836735</td>\n",
       "      <td>0.005989</td>\n",
       "      <td>0.003049</td>\n",
       "      <td>5000</td>\n",
       "      <td>4438.367347</td>\n",
       "      <td>12694.388189</td>\n",
       "      <td>10852.955952</td>\n",
       "      <td>1841.432237</td>\n",
       "    </tr>\n",
       "    <tr>\n",
       "      <th>4</th>\n",
       "      <td>1595.368747</td>\n",
       "      <td>993.306122</td>\n",
       "      <td>0.006781</td>\n",
       "      <td>0.001534</td>\n",
       "      <td>5000</td>\n",
       "      <td>9933.061224</td>\n",
       "      <td>14372.591572</td>\n",
       "      <td>16528.429971</td>\n",
       "      <td>-2155.838400</td>\n",
       "    </tr>\n",
       "  </tbody>\n",
       "</table>\n",
       "</div>"
      ],
      "text/plain": [
       "   expected_inferior_branch_cost  expected_duration_in_apps  \\\n",
       "0                    1279.503043                 211.102041   \n",
       "1                    1341.381107                 248.408163   \n",
       "2                    1269.985930                 308.040816   \n",
       "3                    1414.588605                 443.836735   \n",
       "4                    1595.368747                 993.306122   \n",
       "\n",
       "   expected_benefit_per_app  threshold  upfront_cost  maintenance_cost  \\\n",
       "0                  0.004564   0.007595          5000       2111.020408   \n",
       "1                  0.005048   0.006080          5000       2484.081633   \n",
       "2                  0.005493   0.004565          5000       3080.408163   \n",
       "3                  0.005989   0.003049          5000       4438.367347   \n",
       "4                  0.006781   0.001534          5000       9933.061224   \n",
       "\n",
       "   total_benefit    total_cost  total_profit  \n",
       "0    9673.861509   8390.523451   1283.338057  \n",
       "1   10700.601805   8825.462740   1875.139065  \n",
       "2   11642.637571   9350.394093   2292.243478  \n",
       "3   12694.388189  10852.955952   1841.432237  \n",
       "4   14372.591572  16528.429971  -2155.838400  "
      ]
     },
     "execution_count": 36,
     "metadata": {},
     "output_type": "execute_result"
    }
   ],
   "source": [
    "profit_optimisation(\n",
    "    results_df=hyper_results,\n",
    "    upfront_cost=5000,\n",
    "    maintenance_cost_per_app=10,\n",
    "    value_per_app=current_value_per_app,\n",
    "    half_life_in_apps=1000,\n",
    ")"
   ]
  },
  {
   "cell_type": "markdown",
   "id": "c637d354",
   "metadata": {},
   "source": [
    "Interestingly, the `expected_inferior_branch_cost` seems relatively stable. My theory for this is that as the threshold is lowered, the test will run for longer in both cases where the original_choice was optimal (cost is positive) and where it was suboptimal (cost is negative). However it will tend to run for **much** longer in the suboptimal initial choice case as the expected loss typically needs to increase before it decreases for these cases. Therefore more time is spent on average accumulating negative cost. Also, this test starts from quite an uncertain position, whereas a test with a stronger initial prior favourite would be expected to accumulate higher opportunity costs of testing."
   ]
  },
  {
   "cell_type": "code",
   "execution_count": null,
   "id": "95f51cc0",
   "metadata": {},
   "outputs": [],
   "source": []
  }
 ],
 "metadata": {
  "kernelspec": {
   "display_name": "Python 3",
   "language": "python",
   "name": "python3"
  },
  "language_info": {
   "codemirror_mode": {
    "name": "ipython",
    "version": 3
   },
   "file_extension": ".py",
   "mimetype": "text/x-python",
   "name": "python",
   "nbconvert_exporter": "python",
   "pygments_lexer": "ipython3",
   "version": "3.9.4"
  }
 },
 "nbformat": 4,
 "nbformat_minor": 5
}
