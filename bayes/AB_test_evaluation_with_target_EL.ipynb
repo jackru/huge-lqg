{
 "cells": [
  {
   "cell_type": "markdown",
   "metadata": {},
   "source": [
    "# Imports"
   ]
  },
  {
   "cell_type": "code",
   "execution_count": 1,
   "metadata": {
    "ExecuteTime": {
     "end_time": "2021-05-27T21:07:17.287403Z",
     "start_time": "2021-05-27T21:07:16.243572Z"
    }
   },
   "outputs": [],
   "source": [
    "import matplotlib.pyplot as plt\n",
    "import numpy as np\n",
    "import pandas as pd\n",
    "from scipy.stats import beta, binom, lognorm"
   ]
  },
  {
   "cell_type": "markdown",
   "metadata": {},
   "source": [
    "# Definitions"
   ]
  },
  {
   "cell_type": "code",
   "execution_count": 2,
   "metadata": {
    "ExecuteTime": {
     "end_time": "2021-05-27T21:07:20.640970Z",
     "start_time": "2021-05-27T21:07:20.637780Z"
    }
   },
   "outputs": [],
   "source": [
    "def multiply_odds(p, odds_multiplier):\n",
    "    p = np.array(p)\n",
    "    odds_multiplier = np.array(odds_multiplier)\n",
    "    assert 0.0 < p.min()\n",
    "    assert p.max() < 1.0\n",
    "    assert (odds_multiplier >= 0).all()\n",
    "    old_odds = p / (1 - p)\n",
    "    new_odds = old_odds * odds_multiplier\n",
    "    new_p = new_odds / (1 + new_odds)\n",
    "    return new_p"
   ]
  },
  {
   "cell_type": "code",
   "execution_count": 3,
   "metadata": {
    "ExecuteTime": {
     "end_time": "2021-05-27T21:07:23.717213Z",
     "start_time": "2021-05-27T21:07:23.714266Z"
    }
   },
   "outputs": [],
   "source": [
    "def relative_binom_log_likelihood(p: np.ndarray, n: int, x: int):\n",
    "    # the combinatorial factor is common to all p given fixed (n, x)\n",
    "    return np.log(p)*x + np.log(1-p)*(n-x)"
   ]
  },
  {
   "cell_type": "code",
   "execution_count": 4,
   "metadata": {
    "ExecuteTime": {
     "end_time": "2021-05-27T21:07:34.906616Z",
     "start_time": "2021-05-27T21:07:34.903620Z"
    }
   },
   "outputs": [],
   "source": [
    "def joint_likelihood(A_grid, B_grid, nA=0, kA=0, nB=0, kB=0):    \n",
    "    ll_A = relative_binom_log_likelihood(A_grid, nA, kA)\n",
    "    ll_B = relative_binom_log_likelihood(B_grid, nB, kB)\n",
    "\n",
    "    loglikelihood = ll_A + ll_B\n",
    "    likelihood = np.exp(loglikelihood)\n",
    "    \n",
    "    return likelihood / likelihood.sum()"
   ]
  },
  {
   "cell_type": "code",
   "execution_count": 5,
   "metadata": {
    "ExecuteTime": {
     "end_time": "2021-05-27T21:07:37.501717Z",
     "start_time": "2021-05-27T21:07:37.498936Z"
    }
   },
   "outputs": [],
   "source": [
    "def expected_loss(likelihood_grid, diff_grid):\n",
    "    weighted_diff_grid = likelihood_grid * diff_grid\n",
    "    if weighted_diff_grid.sum() > 0:\n",
    "        weighted_diff_grid *= -1\n",
    "    return weighted_diff_grid.clip(0).sum()"
   ]
  },
  {
   "cell_type": "markdown",
   "metadata": {},
   "source": [
    "# Setup"
   ]
  },
  {
   "cell_type": "code",
   "execution_count": 7,
   "metadata": {
    "ExecuteTime": {
     "end_time": "2021-05-27T21:08:33.244958Z",
     "start_time": "2021-05-27T21:08:33.240594Z"
    }
   },
   "outputs": [],
   "source": [
    "GRID_RESOLUTION = 100\n",
    "CLTV_A = 22000\n",
    "CLTV_B = 20000\n",
    "\n",
    "prior_A = beta(4, 56)\n",
    "prior_uplift = lognorm(0.4, 0.22)"
   ]
  },
  {
   "cell_type": "code",
   "execution_count": 8,
   "metadata": {
    "ExecuteTime": {
     "end_time": "2021-05-27T21:08:50.316579Z",
     "start_time": "2021-05-27T21:08:50.312611Z"
    }
   },
   "outputs": [],
   "source": [
    "quantiles = np.linspace(1/(GRID_RESOLUTION*2), 1-1/(GRID_RESOLUTION*2), GRID_RESOLUTION)\n",
    "A_grid, uplift_grid = np.meshgrid(prior_A.ppf(quantiles), prior_uplift.ppf(quantiles))"
   ]
  },
  {
   "cell_type": "code",
   "execution_count": 9,
   "metadata": {
    "ExecuteTime": {
     "end_time": "2021-05-27T21:08:51.679635Z",
     "start_time": "2021-05-27T21:08:51.676359Z"
    }
   },
   "outputs": [],
   "source": [
    "B_grid = multiply_odds(A_grid, uplift_grid)"
   ]
  },
  {
   "cell_type": "code",
   "execution_count": 10,
   "metadata": {
    "ExecuteTime": {
     "end_time": "2021-05-27T21:09:17.358401Z",
     "start_time": "2021-05-27T21:09:17.350745Z"
    }
   },
   "outputs": [
    {
     "data": {
      "text/plain": [
       "95.74620222023272"
      ]
     },
     "execution_count": 10,
     "metadata": {},
     "output_type": "execute_result"
    }
   ],
   "source": [
    "diff_grid = (A_grid * CLTV_A) - (B_grid * CLTV_B)\n",
    "likelihood_grid = joint_likelihood(A_grid, B_grid) # i.e. the prior\n",
    "exp_loss = expected_loss(likelihood_grid, diff_grid)\n",
    "exp_loss"
   ]
  },
  {
   "cell_type": "code",
   "execution_count": 11,
   "metadata": {
    "ExecuteTime": {
     "end_time": "2021-05-27T21:09:22.685678Z",
     "start_time": "2021-05-27T21:09:22.277601Z"
    }
   },
   "outputs": [
    {
     "data": {
      "image/png": "[encoded data removed]",
      "text/plain": [
       "<Figure size 1080x360 with 1 Axes>"
      ]
     },
     "metadata": {
      "needs_background": "light"
     },
     "output_type": "display_data"
    }
   ],
   "source": [
    "fig, ax = plt.subplots(figsize=(15,5))\n",
    "ax = plt.hist([A_grid.flatten(), B_grid.flatten()], bins=100);"
   ]
  },
  {
   "cell_type": "markdown",
   "metadata": {},
   "source": [
    "# Simulation"
   ]
  },
  {
   "cell_type": "code",
   "execution_count": 12,
   "metadata": {
    "ExecuteTime": {
     "end_time": "2021-05-27T21:09:33.010562Z",
     "start_time": "2021-05-27T21:09:33.003086Z"
    }
   },
   "outputs": [],
   "source": [
    "def run_simulation(A_grid, B_grid, threshold_loss, batch_size,\n",
    "                   value_A=1, value_B=1, upfront_cost=0, maintenance_cost=0, half_life=None):\n",
    "    results = []\n",
    "    initial_choice = 'A' if (A_grid.mean() * value_A) >= (B_grid.mean() * value_B) else 'B'\n",
    "    diff_grid = (A_grid * value_A) - (B_grid * value_B)\n",
    "    prior_likelihood = joint_likelihood(A_grid, B_grid)\n",
    "    initial_exp_loss = expected_loss(prior_likelihood, diff_grid)\n",
    "    \n",
    "    for p_A, p_B in zip(A_grid.flatten(), B_grid.flatten()):\n",
    "        exp_loss = initial_exp_loss\n",
    "        optimal_choice = 'A' if p_A >= p_B else 'B'\n",
    "        flips = 0\n",
    "        kA = 0\n",
    "        kB = 0\n",
    "        \n",
    "        while exp_loss > threshold_loss:\n",
    "            flips += batch_size\n",
    "            kA += binom.rvs(batch_size, p_A)\n",
    "            kB += binom.rvs(batch_size, p_B)\n",
    "            likelihood_grid = joint_likelihood(A_grid, B_grid, nA=flips, kA=kA, nB=flips, kB=kB)\n",
    "            exp_loss = expected_loss(likelihood_grid, diff_grid)\n",
    "        \n",
    "        if initial_choice == optimal_choice:\n",
    "            inferior_branch_cost = abs((p_A * value_A) - (p_B * value_B)) * flips\n",
    "        else:\n",
    "            inferior_branch_cost = -abs((p_A * value_A) - (p_B * value_B)) * flips\n",
    "        \n",
    "        results.append({\n",
    "            'p_A': p_A,\n",
    "            'p_B': p_B,\n",
    "            'kA': kA,\n",
    "            'kB': kB,\n",
    "            'inferior_branch_cost': inferior_branch_cost,\n",
    "            'flips': flips,\n",
    "            'exp_loss_change': exp_loss - initial_exp_loss,\n",
    "        })\n",
    "    \n",
    "    results = pd.DataFrame(results)\n",
    "    expected_inferior_branch_cost = results['inferior_branch_cost'].mean()\n",
    "    expected_duration = results['flips'].mean() * 2\n",
    "    expected_benefit_per_app = -results['exp_loss_change'].mean()\n",
    "#     expected_payoff_time = expected_cost / expected_benefit\n",
    "    \n",
    "    summary = {\n",
    "        'expected_inferior_branch_cost': expected_inferior_branch_cost,\n",
    "        'expected_duration_in_apps': expected_duration,\n",
    "        'expected_benefit_per_app': expected_benefit_per_app,\n",
    "#         'expected_payoff_time': expected_payoff_time,\n",
    "    }\n",
    "    \n",
    "    return summary, results"
   ]
  },
  {
   "cell_type": "code",
   "execution_count": 17,
   "metadata": {
    "ExecuteTime": {
     "end_time": "2021-05-27T21:13:21.209560Z",
     "start_time": "2021-05-27T21:13:07.765336Z"
    }
   },
   "outputs": [
    {
     "name": "stderr",
     "output_type": "stream",
     "text": [
      "<ipython-input-4-b5fae67046bf>:8: RuntimeWarning: invalid value encountered in true_divide\n",
      "  return likelihood / likelihood.sum()\n"
     ]
    }
   ],
   "source": [
    "summary, results = run_simulation(A_grid, B_grid, 50, 100, CLTV_A, CLTV_B)"
   ]
  },
  {
   "cell_type": "code",
   "execution_count": 18,
   "metadata": {
    "ExecuteTime": {
     "end_time": "2021-05-27T21:13:21.216176Z",
     "start_time": "2021-05-27T21:13:21.211783Z"
    }
   },
   "outputs": [
    {
     "data": {
      "text/plain": [
       "{'expected_inferior_branch_cost': 34011.76769895379,\n",
       " 'expected_duration_in_apps': 584.06,\n",
       " 'expected_benefit_per_app': 63.64027875385906}"
      ]
     },
     "execution_count": 18,
     "metadata": {},
     "output_type": "execute_result"
    }
   ],
   "source": [
    "summary"
   ]
  },
  {
   "cell_type": "markdown",
   "metadata": {},
   "source": [
    "# Hyperparameter tuning"
   ]
  },
  {
   "cell_type": "code",
   "execution_count": 41,
   "metadata": {
    "ExecuteTime": {
     "end_time": "2021-05-27T21:28:23.229398Z",
     "start_time": "2021-05-27T21:24:51.126496Z"
    }
   },
   "outputs": [
    {
     "name": "stderr",
     "output_type": "stream",
     "text": [
      "<ipython-input-4-b5fae67046bf>:8: RuntimeWarning: invalid value encountered in true_divide\n",
      "  return likelihood / likelihood.sum()\n"
     ]
    },
    {
     "name": "stdout",
     "output_type": "stream",
     "text": [
      "threshold 80 complete...\n",
      "threshold 70 complete...\n",
      "threshold 60 complete...\n",
      "threshold 50 complete...\n",
      "threshold 40 complete...\n",
      "threshold 30 complete...\n",
      "threshold 20 complete...\n",
      "threshold 10 complete...\n",
      "threshold 5 complete...\n"
     ]
    }
   ],
   "source": [
    "hyper_results = []\n",
    "for threshold in [80, 70, 60, 50, 40, 30, 20, 10, 5]:\n",
    "    summary, _ = run_simulation(A_grid, B_grid, threshold, 100, CLTV_A, CLTV_B)\n",
    "    summary['threshold'] = threshold\n",
    "    hyper_results.append(summary)\n",
    "    print(f'threshold {threshold} complete...')\n",
    "hyper_results = pd.DataFrame(hyper_results)"
   ]
  },
  {
   "cell_type": "code",
   "execution_count": 42,
   "metadata": {
    "ExecuteTime": {
     "end_time": "2021-05-27T21:28:23.240464Z",
     "start_time": "2021-05-27T21:28:23.231833Z"
    }
   },
   "outputs": [
    {
     "data": {
      "text/html": [
       "<div>\n",
       "<style scoped>\n",
       "    .dataframe tbody tr th:only-of-type {\n",
       "        vertical-align: middle;\n",
       "    }\n",
       "\n",
       "    .dataframe tbody tr th {\n",
       "        vertical-align: top;\n",
       "    }\n",
       "\n",
       "    .dataframe thead th {\n",
       "        text-align: right;\n",
       "    }\n",
       "</style>\n",
       "<table border=\"1\" class=\"dataframe\">\n",
       "  <thead>\n",
       "    <tr style=\"text-align: right;\">\n",
       "      <th></th>\n",
       "      <th>expected_inferior_branch_cost</th>\n",
       "      <th>expected_duration_in_apps</th>\n",
       "      <th>expected_benefit_per_app</th>\n",
       "      <th>threshold</th>\n",
       "    </tr>\n",
       "  </thead>\n",
       "  <tbody>\n",
       "    <tr>\n",
       "      <th>0</th>\n",
       "      <td>26011.959198</td>\n",
       "      <td>334.82</td>\n",
       "      <td>48.258163</td>\n",
       "      <td>80</td>\n",
       "    </tr>\n",
       "    <tr>\n",
       "      <th>1</th>\n",
       "      <td>27990.324604</td>\n",
       "      <td>383.92</td>\n",
       "      <td>52.120279</td>\n",
       "      <td>70</td>\n",
       "    </tr>\n",
       "    <tr>\n",
       "      <th>2</th>\n",
       "      <td>29658.696080</td>\n",
       "      <td>471.90</td>\n",
       "      <td>58.032699</td>\n",
       "      <td>60</td>\n",
       "    </tr>\n",
       "    <tr>\n",
       "      <th>3</th>\n",
       "      <td>33265.942479</td>\n",
       "      <td>583.38</td>\n",
       "      <td>63.890002</td>\n",
       "      <td>50</td>\n",
       "    </tr>\n",
       "    <tr>\n",
       "      <th>4</th>\n",
       "      <td>39374.255268</td>\n",
       "      <td>748.78</td>\n",
       "      <td>69.852875</td>\n",
       "      <td>40</td>\n",
       "    </tr>\n",
       "    <tr>\n",
       "      <th>5</th>\n",
       "      <td>47226.931177</td>\n",
       "      <td>974.72</td>\n",
       "      <td>76.208693</td>\n",
       "      <td>30</td>\n",
       "    </tr>\n",
       "    <tr>\n",
       "      <th>6</th>\n",
       "      <td>55541.568195</td>\n",
       "      <td>1311.16</td>\n",
       "      <td>82.562260</td>\n",
       "      <td>20</td>\n",
       "    </tr>\n",
       "    <tr>\n",
       "      <th>7</th>\n",
       "      <td>77574.689953</td>\n",
       "      <td>1874.58</td>\n",
       "      <td>89.372334</td>\n",
       "      <td>10</td>\n",
       "    </tr>\n",
       "    <tr>\n",
       "      <th>8</th>\n",
       "      <td>96489.257606</td>\n",
       "      <td>2263.26</td>\n",
       "      <td>92.639299</td>\n",
       "      <td>5</td>\n",
       "    </tr>\n",
       "  </tbody>\n",
       "</table>\n",
       "</div>"
      ],
      "text/plain": [
       "   expected_inferior_branch_cost  expected_duration_in_apps  \\\n",
       "0                   26011.959198                     334.82   \n",
       "1                   27990.324604                     383.92   \n",
       "2                   29658.696080                     471.90   \n",
       "3                   33265.942479                     583.38   \n",
       "4                   39374.255268                     748.78   \n",
       "5                   47226.931177                     974.72   \n",
       "6                   55541.568195                    1311.16   \n",
       "7                   77574.689953                    1874.58   \n",
       "8                   96489.257606                    2263.26   \n",
       "\n",
       "   expected_benefit_per_app  threshold  \n",
       "0                 48.258163         80  \n",
       "1                 52.120279         70  \n",
       "2                 58.032699         60  \n",
       "3                 63.890002         50  \n",
       "4                 69.852875         40  \n",
       "5                 76.208693         30  \n",
       "6                 82.562260         20  \n",
       "7                 89.372334         10  \n",
       "8                 92.639299          5  "
      ]
     },
     "execution_count": 42,
     "metadata": {},
     "output_type": "execute_result"
    }
   ],
   "source": [
    "hyper_results"
   ]
  },
  {
   "cell_type": "code",
   "execution_count": 43,
   "metadata": {
    "ExecuteTime": {
     "end_time": "2021-05-27T21:28:23.251559Z",
     "start_time": "2021-05-27T21:28:23.247791Z"
    }
   },
   "outputs": [],
   "source": [
    "def profit_optimisation(results_df, upfront_cost=0, maintenance_cost_per_app=0, half_life_in_apps=None):\n",
    "    results_df = results_df.copy()\n",
    "    results_df['upfront_cost'] = upfront_cost\n",
    "    results_df['maintenance_cost'] = maintenance_cost_per_app * results_df['expected_duration_in_apps']\n",
    "    results_df['total_benefit'] = results_df['expected_benefit_per_app'] * half_life_in_apps/np.log(2)\n",
    "    results_df['total_cost'] = (results_df['expected_inferior_branch_cost']\n",
    "                                + results_df['upfront_cost']\n",
    "                                + results_df['maintenance_cost'])\n",
    "    results_df['total_profit'] = results_df['total_benefit'] - results_df['total_cost']\n",
    "    return results_df"
   ]
  },
  {
   "cell_type": "code",
   "execution_count": 44,
   "metadata": {
    "ExecuteTime": {
     "end_time": "2021-05-27T21:28:23.313522Z",
     "start_time": "2021-05-27T21:28:23.254832Z"
    }
   },
   "outputs": [
    {
     "data": {
      "text/html": [
       "<div>\n",
       "<style scoped>\n",
       "    .dataframe tbody tr th:only-of-type {\n",
       "        vertical-align: middle;\n",
       "    }\n",
       "\n",
       "    .dataframe tbody tr th {\n",
       "        vertical-align: top;\n",
       "    }\n",
       "\n",
       "    .dataframe thead th {\n",
       "        text-align: right;\n",
       "    }\n",
       "</style>\n",
       "<table border=\"1\" class=\"dataframe\">\n",
       "  <thead>\n",
       "    <tr style=\"text-align: right;\">\n",
       "      <th></th>\n",
       "      <th>expected_inferior_branch_cost</th>\n",
       "      <th>expected_duration_in_apps</th>\n",
       "      <th>expected_benefit_per_app</th>\n",
       "      <th>threshold</th>\n",
       "      <th>upfront_cost</th>\n",
       "      <th>maintenance_cost</th>\n",
       "      <th>total_benefit</th>\n",
       "      <th>total_cost</th>\n",
       "      <th>total_profit</th>\n",
       "    </tr>\n",
       "  </thead>\n",
       "  <tbody>\n",
       "    <tr>\n",
       "      <th>0</th>\n",
       "      <td>26011.959198</td>\n",
       "      <td>334.82</td>\n",
       "      <td>48.258163</td>\n",
       "      <td>80</td>\n",
       "      <td>10000</td>\n",
       "      <td>3348.2</td>\n",
       "      <td>69621.812215</td>\n",
       "      <td>39360.159198</td>\n",
       "      <td>30261.653017</td>\n",
       "    </tr>\n",
       "    <tr>\n",
       "      <th>1</th>\n",
       "      <td>27990.324604</td>\n",
       "      <td>383.92</td>\n",
       "      <td>52.120279</td>\n",
       "      <td>70</td>\n",
       "      <td>10000</td>\n",
       "      <td>3839.2</td>\n",
       "      <td>75193.667699</td>\n",
       "      <td>41829.524604</td>\n",
       "      <td>33364.143096</td>\n",
       "    </tr>\n",
       "    <tr>\n",
       "      <th>2</th>\n",
       "      <td>29658.696080</td>\n",
       "      <td>471.90</td>\n",
       "      <td>58.032699</td>\n",
       "      <td>60</td>\n",
       "      <td>10000</td>\n",
       "      <td>4719.0</td>\n",
       "      <td>83723.486483</td>\n",
       "      <td>44377.696080</td>\n",
       "      <td>39345.790403</td>\n",
       "    </tr>\n",
       "    <tr>\n",
       "      <th>3</th>\n",
       "      <td>33265.942479</td>\n",
       "      <td>583.38</td>\n",
       "      <td>63.890002</td>\n",
       "      <td>50</td>\n",
       "      <td>10000</td>\n",
       "      <td>5833.8</td>\n",
       "      <td>92173.789062</td>\n",
       "      <td>49099.742479</td>\n",
       "      <td>43074.046582</td>\n",
       "    </tr>\n",
       "    <tr>\n",
       "      <th>4</th>\n",
       "      <td>39374.255268</td>\n",
       "      <td>748.78</td>\n",
       "      <td>69.852875</td>\n",
       "      <td>40</td>\n",
       "      <td>10000</td>\n",
       "      <td>7487.8</td>\n",
       "      <td>100776.396617</td>\n",
       "      <td>56862.055268</td>\n",
       "      <td>43914.341349</td>\n",
       "    </tr>\n",
       "    <tr>\n",
       "      <th>5</th>\n",
       "      <td>47226.931177</td>\n",
       "      <td>974.72</td>\n",
       "      <td>76.208693</td>\n",
       "      <td>30</td>\n",
       "      <td>10000</td>\n",
       "      <td>9747.2</td>\n",
       "      <td>109945.903830</td>\n",
       "      <td>66974.131177</td>\n",
       "      <td>42971.772652</td>\n",
       "    </tr>\n",
       "    <tr>\n",
       "      <th>6</th>\n",
       "      <td>55541.568195</td>\n",
       "      <td>1311.16</td>\n",
       "      <td>82.562260</td>\n",
       "      <td>20</td>\n",
       "      <td>10000</td>\n",
       "      <td>13111.6</td>\n",
       "      <td>119112.163181</td>\n",
       "      <td>78653.168195</td>\n",
       "      <td>40458.994987</td>\n",
       "    </tr>\n",
       "    <tr>\n",
       "      <th>7</th>\n",
       "      <td>77574.689953</td>\n",
       "      <td>1874.58</td>\n",
       "      <td>89.372334</td>\n",
       "      <td>10</td>\n",
       "      <td>10000</td>\n",
       "      <td>18745.8</td>\n",
       "      <td>128937.022475</td>\n",
       "      <td>106320.489953</td>\n",
       "      <td>22616.532522</td>\n",
       "    </tr>\n",
       "    <tr>\n",
       "      <th>8</th>\n",
       "      <td>96489.257606</td>\n",
       "      <td>2263.26</td>\n",
       "      <td>92.639299</td>\n",
       "      <td>5</td>\n",
       "      <td>10000</td>\n",
       "      <td>22632.6</td>\n",
       "      <td>133650.257930</td>\n",
       "      <td>129121.857606</td>\n",
       "      <td>4528.400323</td>\n",
       "    </tr>\n",
       "  </tbody>\n",
       "</table>\n",
       "</div>"
      ],
      "text/plain": [
       "   expected_inferior_branch_cost  expected_duration_in_apps  \\\n",
       "0                   26011.959198                     334.82   \n",
       "1                   27990.324604                     383.92   \n",
       "2                   29658.696080                     471.90   \n",
       "3                   33265.942479                     583.38   \n",
       "4                   39374.255268                     748.78   \n",
       "5                   47226.931177                     974.72   \n",
       "6                   55541.568195                    1311.16   \n",
       "7                   77574.689953                    1874.58   \n",
       "8                   96489.257606                    2263.26   \n",
       "\n",
       "   expected_benefit_per_app  threshold  upfront_cost  maintenance_cost  \\\n",
       "0                 48.258163         80         10000            3348.2   \n",
       "1                 52.120279         70         10000            3839.2   \n",
       "2                 58.032699         60         10000            4719.0   \n",
       "3                 63.890002         50         10000            5833.8   \n",
       "4                 69.852875         40         10000            7487.8   \n",
       "5                 76.208693         30         10000            9747.2   \n",
       "6                 82.562260         20         10000           13111.6   \n",
       "7                 89.372334         10         10000           18745.8   \n",
       "8                 92.639299          5         10000           22632.6   \n",
       "\n",
       "   total_benefit     total_cost  total_profit  \n",
       "0   69621.812215   39360.159198  30261.653017  \n",
       "1   75193.667699   41829.524604  33364.143096  \n",
       "2   83723.486483   44377.696080  39345.790403  \n",
       "3   92173.789062   49099.742479  43074.046582  \n",
       "4  100776.396617   56862.055268  43914.341349  \n",
       "5  109945.903830   66974.131177  42971.772652  \n",
       "6  119112.163181   78653.168195  40458.994987  \n",
       "7  128937.022475  106320.489953  22616.532522  \n",
       "8  133650.257930  129121.857606   4528.400323  "
      ]
     },
     "execution_count": 44,
     "metadata": {},
     "output_type": "execute_result"
    }
   ],
   "source": [
    "profit_optimisation(\n",
    "    results_df=hyper_results,\n",
    "    upfront_cost=10000,\n",
    "    maintenance_cost_per_app=10,\n",
    "    half_life_in_apps=1000,\n",
    ")"
   ]
  },
  {
   "cell_type": "markdown",
   "metadata": {},
   "source": [
    "# Notes"
   ]
  },
  {
   "cell_type": "markdown",
   "metadata": {},
   "source": [
    "We probably don't need to replicate the test for each successive threshold - we could just run once for the harshest threshold and then keep track of when each of the other \"easier\" levels were reached. We could then make up for (and improve on) the extra smoothing benefit of large N by increasing the resolution."
   ]
  },
  {
   "cell_type": "markdown",
   "metadata": {},
   "source": [
    "# Archive"
   ]
  },
  {
   "cell_type": "code",
   "execution_count": 224,
   "metadata": {
    "ExecuteTime": {
     "end_time": "2021-05-27T12:00:31.937494Z",
     "start_time": "2021-05-27T12:00:31.933937Z"
    }
   },
   "outputs": [],
   "source": [
    "def binom_log_likelihood(p, n, x):\n",
    "    log_comb = np.log(comb(n, x))\n",
    "    assert not np.isinf(log_comb)\n",
    "    return log_comb + np.log(p)*x + np.log(1-p)*(n-x)"
   ]
  },
  {
   "cell_type": "code",
   "execution_count": 289,
   "metadata": {
    "ExecuteTime": {
     "end_time": "2021-05-27T13:09:04.640142Z",
     "start_time": "2021-05-27T13:09:04.637350Z"
    }
   },
   "outputs": [],
   "source": [
    "def safe_binom_log_likelihood(p, n, x):\n",
    "    log_comb = gammaln(n+1) - gammaln(x+1) - gammaln(n-x+1)\n",
    "    return log_comb + np.log(p)*x + np.log(1-p)*(n-x)"
   ]
  },
  {
   "cell_type": "code",
   "execution_count": 222,
   "metadata": {
    "ExecuteTime": {
     "end_time": "2021-05-27T12:00:31.217268Z",
     "start_time": "2021-05-27T12:00:31.213287Z"
    }
   },
   "outputs": [],
   "source": [
    "def plot_dist(dist, resolution=100, x=None, figsize=(15,5), ax=None, style='r-', label=None):\n",
    "    if ax is None:\n",
    "        fig, ax = plt.subplots(figsize=figsize)\n",
    "    if x is None:\n",
    "        x = np.linspace(dist.ppf(1/(resolution*2)), dist.ppf(1 - 1/(resolution*2)), resolution)\n",
    "    ax.plot(x, dist.pdf(x), style, lw=4, alpha=0.6, label=label)\n",
    "    plt.legend()\n",
    "    return ax"
   ]
  }
 ],
 "metadata": {
  "kernelspec": {
   "display_name": "Python 3",
   "language": "python",
   "name": "python3"
  },
  "language_info": {
   "codemirror_mode": {
    "name": "ipython",
    "version": 3
   },
   "file_extension": ".py",
   "mimetype": "text/x-python",
   "name": "python",
   "nbconvert_exporter": "python",
   "pygments_lexer": "ipython3",
   "version": "3.9.4"
  }
 },
 "nbformat": 4,
 "nbformat_minor": 2
}
