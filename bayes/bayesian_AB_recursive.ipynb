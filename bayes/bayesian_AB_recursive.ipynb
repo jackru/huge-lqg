{
 "cells": [
  {
   "cell_type": "markdown",
   "metadata": {
    "heading_collapsed": true
   },
   "source": [
    "# Imports"
   ]
  },
  {
   "cell_type": "code",
   "execution_count": 1,
   "metadata": {
    "ExecuteTime": {
     "end_time": "2020-11-11T18:44:57.439306Z",
     "start_time": "2020-11-11T18:44:57.064773Z"
    },
    "hidden": true
   },
   "outputs": [],
   "source": [
    "from scipy.stats import beta\n",
    "from itertools import combinations, combinations_with_replacement\n",
    "from collections import defaultdict"
   ]
  },
  {
   "cell_type": "markdown",
   "metadata": {
    "heading_collapsed": true
   },
   "source": [
    "# Definitions"
   ]
  },
  {
   "cell_type": "code",
   "execution_count": 2,
   "metadata": {
    "ExecuteTime": {
     "end_time": "2020-11-11T18:44:57.452116Z",
     "start_time": "2020-11-11T18:44:57.445138Z"
    },
    "hidden": true
   },
   "outputs": [],
   "source": [
    "def get_beta_mean(obs_pos, obs_n):\n",
    "    return beta.mean(obs_pos + 1, obs_n - obs_pos + 1)"
   ]
  },
  {
   "cell_type": "markdown",
   "metadata": {},
   "source": [
    "# Recursive AB"
   ]
  },
  {
   "cell_type": "markdown",
   "metadata": {
    "heading_collapsed": true
   },
   "source": [
    "## Notes"
   ]
  },
  {
   "cell_type": "markdown",
   "metadata": {
    "hidden": true
   },
   "source": [
    "This notebook aims to quantify the value of exploration vs exploitation in the AB testing context:\n",
    " - It uses a recursive approach inspired by the one used to solve the mirror trader problem\n",
    " - The value of a test is in its ability to generate information that will change a decision\n",
    " \n",
    "Initial assumptions:\n",
    " - There are two choices of coin to flip (A and B)\n",
    " - These coins have fixed inherent p(heads)\n",
    "\n",
    "Minimal scenario specification:\n",
    " - The number of successes and failures of coin A\n",
    " - The number of successes and failures of coin B\n",
    " - The number of tosses remaining\n",
    " - i.e. this is a five-dimensional state space - could get tricky quickly...\n",
    " - can use symmetry to shrink the problem a bit maybe (combinations not permutations)\n",
    " \n",
    "Objective = maximise expected return\n",
    "\n",
    "Recursive strategy:\n",
    " - start from ((0,0), (0,0), 1)\n",
    " - then all possible states of 2-flip game, then 3-flip game etc\n",
    " \n",
    "Some heuristics\n",
    " - If coins have identical histories, pick A\n",
    " - If coins have same expectation, pick one with fewer throws"
   ]
  },
  {
   "cell_type": "markdown",
   "metadata": {},
   "source": [
    "## Constants"
   ]
  },
  {
   "cell_type": "code",
   "execution_count": 3,
   "metadata": {
    "ExecuteTime": {
     "end_time": "2020-11-11T18:44:57.466544Z",
     "start_time": "2020-11-11T18:44:57.457783Z"
    }
   },
   "outputs": [],
   "source": [
    "MAX_GAME_LENGTH = 40"
   ]
  },
  {
   "cell_type": "markdown",
   "metadata": {},
   "source": [
    "## Enumerate possible states for a given length of history"
   ]
  },
  {
   "cell_type": "code",
   "execution_count": 4,
   "metadata": {
    "ExecuteTime": {
     "end_time": "2020-11-11T18:44:57.621354Z",
     "start_time": "2020-11-11T18:44:57.470642Z"
    }
   },
   "outputs": [
    {
     "name": "stdout",
     "output_type": "stream",
     "text": [
      "CPU times: user 115 ms, sys: 3.64 ms, total: 119 ms\n",
      "Wall time: 140 ms\n"
     ]
    }
   ],
   "source": [
    "%%time\n",
    "max_flips = MAX_GAME_LENGTH - 1\n",
    "\n",
    "def get_scores(N):\n",
    "    scores = []\n",
    "    for n in range(N+1):\n",
    "        scores.append((n,N))\n",
    "    return scores\n",
    "\n",
    "scores_dict = {}\n",
    "for flips_so_far in range(max_flips + 1):\n",
    "    scores_dict[flips_so_far] = get_scores(flips_so_far)\n",
    "    \n",
    "shares = defaultdict(list)\n",
    "for flips_so_far in range(max_flips + 1):\n",
    "    for flips_A in range(flips_so_far // 2 + 1):\n",
    "        shares[flips_so_far].append((flips_A, flips_so_far-flips_A))\n",
    "\n",
    "shares_with_results = defaultdict(set)\n",
    "for flips_so_far in range(max_flips + 1):\n",
    "    for s in shares[flips_so_far]:\n",
    "        shares_with_results[flips_so_far].update(set([\n",
    "            tuple(sorted((a,b)))\n",
    "            for a in scores_dict[s[0]]\n",
    "            for b in scores_dict[s[1]]\n",
    "        ]))\n",
    "    shares_with_results[flips_so_far] = sorted(shares_with_results[flips_so_far],\n",
    "                                               key=lambda x: (x[0][1], x[0][0], x[1][0]))"
   ]
  },
  {
   "cell_type": "code",
   "execution_count": 5,
   "metadata": {
    "ExecuteTime": {
     "end_time": "2020-11-11T18:44:57.631394Z",
     "start_time": "2020-11-11T18:44:57.625505Z"
    }
   },
   "outputs": [],
   "source": [
    "# shares_with_results[2]"
   ]
  },
  {
   "cell_type": "markdown",
   "metadata": {},
   "source": [
    "## For a given length game, enumerate all possible game states"
   ]
  },
  {
   "cell_type": "code",
   "execution_count": 6,
   "metadata": {
    "ExecuteTime": {
     "end_time": "2020-11-11T18:44:57.751668Z",
     "start_time": "2020-11-11T18:44:57.633622Z"
    }
   },
   "outputs": [
    {
     "name": "stdout",
     "output_type": "stream",
     "text": [
      "CPU times: user 86.2 ms, sys: 15.7 ms, total: 102 ms\n",
      "Wall time: 113 ms\n"
     ]
    }
   ],
   "source": [
    "%%time\n",
    "game_states = defaultdict(list)\n",
    "max_game_length = MAX_GAME_LENGTH\n",
    "\n",
    "for game_length in range(1, max_game_length + 1):\n",
    "    for flips_so_far in range(game_length):\n",
    "        game_states[game_length] += [(tup, game_length - flips_so_far)\n",
    "                                     for tup in shares_with_results[flips_so_far]]"
   ]
  },
  {
   "cell_type": "code",
   "execution_count": 7,
   "metadata": {
    "ExecuteTime": {
     "end_time": "2020-11-11T18:44:57.771717Z",
     "start_time": "2020-11-11T18:44:57.757347Z"
    }
   },
   "outputs": [],
   "source": [
    "# game_states[3]"
   ]
  },
  {
   "cell_type": "markdown",
   "metadata": {},
   "source": [
    "## Evaluate game states"
   ]
  },
  {
   "cell_type": "code",
   "execution_count": 8,
   "metadata": {
    "ExecuteTime": {
     "end_time": "2020-11-11T18:44:57.790634Z",
     "start_time": "2020-11-11T18:44:57.786065Z"
    }
   },
   "outputs": [],
   "source": [
    "def tuple_add(tup1, tup2):\n",
    "    assert len(tup1) == len(tup2)\n",
    "    return tuple([tup1[i] + tup2[i] for i in range(len(tup1))])"
   ]
  },
  {
   "cell_type": "code",
   "execution_count": 9,
   "metadata": {
    "ExecuteTime": {
     "end_time": "2020-11-11T18:44:57.806724Z",
     "start_time": "2020-11-11T18:44:57.802064Z"
    }
   },
   "outputs": [],
   "source": [
    "def update_state(game_state, coin, result):\n",
    "    assert coin in ('A', 'B')\n",
    "    assert result in (0, 1)\n",
    "    (coin_A_history, coin_B_history), flips_left = game_state\n",
    "    update = (result, 1)\n",
    "    if coin == 'A':\n",
    "        coin_A_history = tuple_add(coin_A_history, update)\n",
    "    if coin == 'B':\n",
    "        coin_B_history = tuple_add(coin_B_history, update)\n",
    "    return (tuple(sorted((coin_A_history, coin_B_history))), flips_left - 1)"
   ]
  },
  {
   "cell_type": "code",
   "execution_count": 10,
   "metadata": {
    "ExecuteTime": {
     "end_time": "2020-11-11T18:44:57.825293Z",
     "start_time": "2020-11-11T18:44:57.812898Z"
    }
   },
   "outputs": [],
   "source": [
    "def evaluate(game_state, value_dict):\n",
    "    (coin_A_history, coin_B_history), flips_left = game_state\n",
    "    \n",
    "    p_A = get_beta_mean(*coin_A_history)\n",
    "    p_B = get_beta_mean(*coin_B_history)\n",
    "    \n",
    "    if flips_left == 1:\n",
    "        value = max(p_A, p_B)\n",
    "        choice = 'A' if p_A > p_B else 'B' if p_B > p_A else 'either'\n",
    "    else:\n",
    "        coin_A_value = (p_A\n",
    "                        + p_A * value_dict[update_state(game_state, 'A', 1)][0]\n",
    "                        + (1 - p_A) * value_dict[update_state(game_state, 'A', 0)][0])\n",
    "        coin_B_value = (p_B\n",
    "                        + p_B * value_dict[update_state(game_state, 'B', 1)][0]\n",
    "                        + (1 - p_B) * value_dict[update_state(game_state, 'B', 0)][0])\n",
    "        value = max(coin_A_value, coin_B_value)\n",
    "        choice = 'A' if coin_A_value > coin_B_value else 'B' if coin_B_value > coin_A_value else 'either'\n",
    "        \n",
    "    return value, choice"
   ]
  },
  {
   "cell_type": "code",
   "execution_count": 11,
   "metadata": {
    "ExecuteTime": {
     "end_time": "2020-11-11T18:47:50.923185Z",
     "start_time": "2020-11-11T18:44:57.831602Z"
    }
   },
   "outputs": [
    {
     "name": "stdout",
     "output_type": "stream",
     "text": [
      "CPU times: user 2min 51s, sys: 495 ms, total: 2min 52s\n",
      "Wall time: 2min 53s\n"
     ]
    }
   ],
   "source": [
    "%%time\n",
    "value_dict = {}\n",
    "for game_length in range(1, MAX_GAME_LENGTH + 1):\n",
    "    for game_state in sorted(game_states[game_length], key=lambda x: x[-1]):\n",
    "        value_dict[game_state] = evaluate(game_state, value_dict)"
   ]
  },
  {
   "cell_type": "code",
   "execution_count": 12,
   "metadata": {
    "ExecuteTime": {
     "end_time": "2020-11-11T18:47:50.940735Z",
     "start_time": "2020-11-11T18:47:50.926181Z"
    }
   },
   "outputs": [
    {
     "data": {
      "text/plain": [
       "[(1, 1),\n",
       " (2, 3),\n",
       " (3, 9),\n",
       " (4, 19),\n",
       " (5, 38),\n",
       " (6, 66),\n",
       " (7, 110),\n",
       " (8, 170),\n",
       " (9, 255),\n",
       " (10, 365),\n",
       " (11, 511),\n",
       " (12, 693),\n",
       " (13, 924),\n",
       " (14, 1204),\n",
       " (15, 1548),\n",
       " (16, 1956),\n",
       " (17, 2445),\n",
       " (18, 3015),\n",
       " (19, 3685),\n",
       " (20, 4455),\n",
       " (21, 5346),\n",
       " (22, 6358),\n",
       " (23, 7514),\n",
       " (24, 8814),\n",
       " (25, 10283),\n",
       " (26, 11921),\n",
       " (27, 13755),\n",
       " (28, 15785),\n",
       " (29, 18040),\n",
       " (30, 20520),\n",
       " (31, 23256),\n",
       " (32, 26248),\n",
       " (33, 29529),\n",
       " (34, 33099),\n",
       " (35, 36993),\n",
       " (36, 41211),\n",
       " (37, 45790),\n",
       " (38, 50730),\n",
       " (39, 56070),\n",
       " (40, 61810)]"
      ]
     },
     "execution_count": 12,
     "metadata": {},
     "output_type": "execute_result"
    }
   ],
   "source": [
    "[(k, len(game_states[k])) for k in game_states.keys()]"
   ]
  },
  {
   "cell_type": "code",
   "execution_count": 30,
   "metadata": {
    "ExecuteTime": {
     "end_time": "2020-11-11T20:51:17.892969Z",
     "start_time": "2020-11-11T20:51:17.884449Z"
    }
   },
   "outputs": [
    {
     "data": {
      "text/plain": [
       "(7.770686872480059, 'A')"
      ]
     },
     "execution_count": 30,
     "metadata": {},
     "output_type": "execute_result"
    }
   ],
   "source": [
    "value_dict[(((3, 5), (15, 23)), 12)]"
   ]
  },
  {
   "cell_type": "code",
   "execution_count": 15,
   "metadata": {
    "ExecuteTime": {
     "end_time": "2020-11-11T18:57:13.474028Z",
     "start_time": "2020-11-11T18:57:13.466868Z"
    }
   },
   "outputs": [
    {
     "data": {
      "text/plain": [
       "544544"
      ]
     },
     "execution_count": 15,
     "metadata": {},
     "output_type": "execute_result"
    }
   ],
   "source": [
    "len(value_dict)"
   ]
  },
  {
   "cell_type": "code",
   "execution_count": 31,
   "metadata": {
    "ExecuteTime": {
     "end_time": "2020-11-11T20:56:37.525801Z",
     "start_time": "2020-11-11T20:56:37.517431Z"
    }
   },
   "outputs": [],
   "source": [
    "def choose_lower_expectation(game_state):\n",
    "    (coin_A_history, coin_B_history), flips_left = game_state\n",
    "    \n",
    "    p_A = get_beta_mean(*coin_A_history)\n",
    "    p_B = get_beta_mean(*coin_B_history)\n",
    "    \n",
    "    lower_expectation_choice = 'A' if p_A < p_B else 'B'\n",
    "    \n",
    "    return lower_expectation_choice == value_dict[game_state][1]"
   ]
  },
  {
   "cell_type": "code",
   "execution_count": 55,
   "metadata": {
    "ExecuteTime": {
     "end_time": "2020-11-11T21:35:56.351611Z",
     "start_time": "2020-11-11T21:35:56.343598Z"
    }
   },
   "outputs": [
    {
     "data": {
      "text/plain": [
       "True"
      ]
     },
     "execution_count": 55,
     "metadata": {},
     "output_type": "execute_result"
    }
   ],
   "source": [
    "choose_lower_expectation((((1, 2), (4, 7)), 12))"
   ]
  },
  {
   "cell_type": "code",
   "execution_count": 57,
   "metadata": {
    "ExecuteTime": {
     "end_time": "2020-11-14T17:05:46.282687Z",
     "start_time": "2020-11-14T17:05:45.660655Z"
    }
   },
   "outputs": [
    {
     "data": {
      "text/plain": [
       "[(((0, 0), (2, 3)), 13),\n",
       " (((0, 0), (3, 5)), 11),\n",
       " (((0, 0), (4, 6)), 10),\n",
       " (((1, 1), (4, 5)), 10),\n",
       " (((0, 0), (4, 7)), 9),\n",
       " (((0, 1), (2, 6)), 9),\n",
       " (((0, 2), (1, 5)), 9),\n",
       " (((0, 0), (5, 8)), 8),\n",
       " (((0, 0), (5, 9)), 7),\n",
       " (((0, 0), (6, 9)), 7),\n",
       " (((0, 1), (3, 8)), 7),\n",
       " (((1, 1), (6, 8)), 7),\n",
       " (((1, 2), (4, 7)), 7),\n",
       " (((2, 2), (6, 7)), 7),\n",
       " (((2, 3), (4, 6)), 7),\n",
       " (((0, 0), (6, 10)), 6),\n",
       " (((0, 1), (3, 9)), 6),\n",
       " (((1, 1), (7, 9)), 6),\n",
       " (((0, 2), (2, 8)), 6),\n",
       " (((0, 3), (1, 7)), 6),\n",
       " (((0, 0), (6, 11)), 5),\n",
       " (((0, 0), (7, 11)), 5),\n",
       " (((0, 1), (4, 10)), 5),\n",
       " (((0, 2), (2, 9)), 5),\n",
       " (((1, 2), (5, 9)), 5),\n",
       " (((0, 0), (7, 12)), 4),\n",
       " (((0, 1), (4, 11)), 4),\n",
       " (((1, 1), (8, 11)), 4),\n",
       " (((3, 3), (8, 9)), 4),\n",
       " (((0, 0), (7, 13)), 3),\n",
       " (((0, 1), (4, 12)), 3),\n",
       " (((1, 1), (9, 12)), 3),\n",
       " (((1, 2), (6, 11)), 3),\n",
       " (((2, 2), (9, 11)), 3),\n",
       " (((1, 3), (4, 10)), 3),\n",
       " (((0, 4), (1, 9)), 3),\n",
       " (((2, 3), (7, 11)), 2)]"
      ]
     },
     "execution_count": 57,
     "metadata": {},
     "output_type": "execute_result"
    }
   ],
   "source": [
    "[game_state for game_state in game_states[16] if choose_lower_expectation(game_state)]"
   ]
  },
  {
   "cell_type": "code",
   "execution_count": null,
   "metadata": {},
   "outputs": [],
   "source": []
  },
  {
   "cell_type": "code",
   "execution_count": 49,
   "metadata": {
    "ExecuteTime": {
     "end_time": "2020-11-11T21:10:59.436216Z",
     "start_time": "2020-11-11T21:08:15.154629Z"
    }
   },
   "outputs": [
    {
     "data": {
      "text/plain": [
       "[(0, 0, 0),\n",
       " (1, 1, 0),\n",
       " (2, 3, 0),\n",
       " (3, 9, 0),\n",
       " (4, 19, 0),\n",
       " (5, 38, 0),\n",
       " (6, 66, 0),\n",
       " (7, 110, 0),\n",
       " (8, 170, 0),\n",
       " (9, 255, 1),\n",
       " (10, 365, 3),\n",
       " (11, 511, 6),\n",
       " (12, 693, 9),\n",
       " (13, 924, 17),\n",
       " (14, 1204, 19),\n",
       " (15, 1548, 29),\n",
       " (16, 1956, 37),\n",
       " (17, 2445, 50),\n",
       " (18, 3015, 65),\n",
       " (19, 3685, 81),\n",
       " (20, 4455, 106),\n",
       " (21, 5346, 131),\n",
       " (22, 6358, 154),\n",
       " (23, 7514, 189),\n",
       " (24, 8814, 221),\n",
       " (25, 10283, 262),\n",
       " (26, 11921, 305),\n",
       " (27, 13755, 363),\n",
       " (28, 15785, 418),\n",
       " (29, 18040, 477),\n",
       " (30, 20520, 546),\n",
       " (31, 23256, 624),\n",
       " (32, 26248, 714),\n",
       " (33, 29529, 807),\n",
       " (34, 33099, 911),\n",
       " (35, 36993, 1017),\n",
       " (36, 41211, 1140),\n",
       " (37, 45790, 1274),\n",
       " (38, 50730, 1400),\n",
       " (39, 56070, 1534),\n",
       " (40, 61810, 1704)]"
      ]
     },
     "execution_count": 49,
     "metadata": {},
     "output_type": "execute_result"
    }
   ],
   "source": [
    "[(game_length, len(game_states[game_length]), len(\n",
    "    [game_state for game_state in game_states[game_length] if choose_lower_expectation(game_state)]\n",
    ")) for game_length in range(41)]"
   ]
  },
  {
   "cell_type": "code",
   "execution_count": 43,
   "metadata": {
    "ExecuteTime": {
     "end_time": "2020-11-11T21:02:58.599561Z",
     "start_time": "2020-11-11T21:02:58.589938Z"
    }
   },
   "outputs": [
    {
     "data": {
      "text/plain": [
       "(6.770926097711813, 'A')"
      ]
     },
     "execution_count": 43,
     "metadata": {},
     "output_type": "execute_result"
    }
   ],
   "source": [
    "value_dict[(((1, 1), (4, 5)), 9)]"
   ]
  },
  {
   "cell_type": "code",
   "execution_count": 14,
   "metadata": {
    "ExecuteTime": {
     "end_time": "2020-11-11T18:47:51.002110Z",
     "start_time": "2020-11-11T18:47:50.973417Z"
    }
   },
   "outputs": [
    {
     "ename": "SyntaxError",
     "evalue": "'break' outside loop (<ipython-input-14-6aaf1f276005>, line 4)",
     "output_type": "error",
     "traceback": [
      "\u001b[0;36m  File \u001b[0;32m\"<ipython-input-14-6aaf1f276005>\"\u001b[0;36m, line \u001b[0;32m4\u001b[0m\n\u001b[0;31mSyntaxError\u001b[0m\u001b[0;31m:\u001b[0m 'break' outside loop\n"
     ]
    }
   ],
   "source": [
    "break"
   ]
  },
  {
   "cell_type": "markdown",
   "metadata": {
    "heading_collapsed": true
   },
   "source": [
    "# Mirror trader"
   ]
  },
  {
   "cell_type": "code",
   "execution_count": null,
   "metadata": {
    "ExecuteTime": {
     "end_time": "2020-11-11T18:47:51.008243Z",
     "start_time": "2020-11-11T18:44:57.090Z"
    },
    "hidden": true
   },
   "outputs": [],
   "source": [
    "days = 200"
   ]
  },
  {
   "cell_type": "code",
   "execution_count": null,
   "metadata": {
    "ExecuteTime": {
     "end_time": "2020-11-11T18:47:51.018540Z",
     "start_time": "2020-11-11T18:44:57.092Z"
    },
    "hidden": true
   },
   "outputs": [],
   "source": [
    "%%time\n",
    "expectations = {(obs_pos, obs_n): get_beta_mean(obs_pos, obs_n)\n",
    "                for obs_n in range(days)\n",
    "                for obs_pos in range(int((obs_n + 1)/2), obs_n + 1)}"
   ]
  },
  {
   "cell_type": "code",
   "execution_count": null,
   "metadata": {
    "ExecuteTime": {
     "end_time": "2020-11-11T18:47:51.032795Z",
     "start_time": "2020-11-11T18:44:57.093Z"
    },
    "hidden": true
   },
   "outputs": [],
   "source": [
    "def calculate_pv(obs_pos, obs_n, n_to_go, pv_lookup, exp_p_lookup):\n",
    "    if n_to_go == 1:\n",
    "        return max(2 * exp_p_lookup.get((obs_pos, obs_n), 0) - 1, 0)\n",
    "    elif obs_n > (2 * obs_pos):\n",
    "        return pv_lookup[(0, 0, n_to_go)]\n",
    "    else:\n",
    "        p_success = exp_p_lookup.get((obs_pos, obs_n))\n",
    "        return max(pv_lookup.get((0, 0, n_to_go), 0),\n",
    "                   (p_success * (1 + pv_lookup[(obs_pos + 1, obs_n + 1, n_to_go - 1)])\n",
    "                    + (1 - p_success) * (-1 + pv_lookup[(obs_pos, obs_n + 1, n_to_go - 1)])))"
   ]
  },
  {
   "cell_type": "code",
   "execution_count": null,
   "metadata": {
    "ExecuteTime": {
     "end_time": "2020-11-11T18:47:51.035494Z",
     "start_time": "2020-11-11T18:44:57.094Z"
    },
    "hidden": true
   },
   "outputs": [],
   "source": [
    "def bet_against_pv(obs_pos, obs_n, n_to_go, pv_lookup, exp_p_lookup):\n",
    "    obs_pos = max(obs_pos, obs_n - obs_pos)\n",
    "    if n_to_go == 1:\n",
    "        return 2 * exp_p_lookup.get((obs_pos, obs_n), 0) - 1\n",
    "    else:\n",
    "        p_success = exp_p_lookup.get((obs_pos, obs_n))\n",
    "        return max(pv_lookup.get((0, 0, n_to_go), 0),\n",
    "                   (p_success * (1 + pv_lookup[(obs_pos + 1, obs_n + 1, n_to_go - 1)])\n",
    "                    + (1 - p_success) * (-1 + pv_lookup[(obs_pos, obs_n + 1, n_to_go - 1)])))"
   ]
  },
  {
   "cell_type": "code",
   "execution_count": null,
   "metadata": {
    "ExecuteTime": {
     "end_time": "2020-11-11T18:47:51.037309Z",
     "start_time": "2020-11-11T18:44:57.096Z"
    },
    "hidden": true
   },
   "outputs": [],
   "source": [
    "expectations[(5,10)]"
   ]
  },
  {
   "cell_type": "code",
   "execution_count": null,
   "metadata": {
    "ExecuteTime": {
     "end_time": "2020-11-11T18:47:51.044854Z",
     "start_time": "2020-11-11T18:44:57.097Z"
    },
    "hidden": true
   },
   "outputs": [],
   "source": [
    "%%time\n",
    "pv_lookup = {}\n",
    "for N in range(1,days+1):\n",
    "    for n_to_go in range(1, N+1):\n",
    "        n_obs = N - n_to_go\n",
    "        for n_pos in range(n_obs+1):\n",
    "            pv_lookup[(n_pos, n_obs, n_to_go)] = bet_against_pv(n_pos, n_obs, n_to_go, pv_lookup, expectations)"
   ]
  },
  {
   "cell_type": "code",
   "execution_count": null,
   "metadata": {
    "ExecuteTime": {
     "end_time": "2020-11-11T18:47:51.052490Z",
     "start_time": "2020-11-11T18:44:57.099Z"
    },
    "hidden": true
   },
   "outputs": [],
   "source": [
    "for i in range(20,201,20):\n",
    "    print(f'{i} days: Optimal return per day: {pv_lookup[(0,0,i)] / i:.3f}')"
   ]
  },
  {
   "cell_type": "markdown",
   "metadata": {},
   "source": [
    "# Appendix"
   ]
  },
  {
   "cell_type": "code",
   "execution_count": null,
   "metadata": {
    "ExecuteTime": {
     "end_time": "2020-11-11T18:47:51.054241Z",
     "start_time": "2020-11-11T18:44:57.100Z"
    }
   },
   "outputs": [],
   "source": [
    "import pandas as pd\n",
    "from scipy.stats import binom"
   ]
  },
  {
   "cell_type": "code",
   "execution_count": null,
   "metadata": {
    "ExecuteTime": {
     "end_time": "2020-11-11T18:47:51.058550Z",
     "start_time": "2020-11-11T18:44:57.102Z"
    }
   },
   "outputs": [],
   "source": [
    "def get_likelihood(obs_pos, obs_n, resolution=200):\n",
    "    likelihood = pd.DataFrame()\n",
    "    likelihood['prob'] = np.linspace(0, 1, (resolution * 2 + 1))[1:-1:2]\n",
    "    likelihood['ldf'] = likelihood['prob'].apply(lambda p: binom.pmf(obs_pos, obs_n, p))\n",
    "    likelihood['ldf'] /= likelihood['ldf'].mean()\n",
    "    likelihood['lmf'] = likelihood['ldf'] / likelihood['ldf'].sum()\n",
    "    likelihood['expectation'] = likelihood['prob'] * likelihood['lmf']\n",
    "    return likelihood"
   ]
  },
  {
   "cell_type": "code",
   "execution_count": null,
   "metadata": {
    "ExecuteTime": {
     "end_time": "2020-11-11T18:47:51.063471Z",
     "start_time": "2020-11-11T18:44:57.105Z"
    }
   },
   "outputs": [],
   "source": [
    "def get_expectation(obs_pos, obs_n, resolution=200):\n",
    "    return get_likelihood(obs_pos, obs_n, resolution)['expectation'].sum()"
   ]
  },
  {
   "cell_type": "code",
   "execution_count": null,
   "metadata": {
    "ExecuteTime": {
     "end_time": "2020-11-11T18:47:51.066564Z",
     "start_time": "2020-11-11T18:44:57.107Z"
    }
   },
   "outputs": [],
   "source": [
    "# TODO: enable big numbers\n",
    "def prob_success(obs_pos, obs_n):\n",
    "    top = bottom = 0\n",
    "    pascal_coeffs = pascal(obs_n - obs_pos + 1, kind='lower', exact=True)[-1]\n",
    "    pascal_coeffs = pascal_coeffs * [(-1)**n for n in range(len(pascal_coeffs))]\n",
    "    integrated_exponent = obs_pos + 1\n",
    "    for i, coeff in enumerate(pascal_coeffs):\n",
    "        top += coeff / (integrated_exponent + 1)\n",
    "        bottom += coeff / integrated_exponent\n",
    "        exponent += 1\n",
    "    return top / bottom"
   ]
  },
  {
   "cell_type": "markdown",
   "metadata": {},
   "source": [
    "### Try only calculating beta_mean on demand (this was much slower)"
   ]
  },
  {
   "cell_type": "code",
   "execution_count": null,
   "metadata": {
    "ExecuteTime": {
     "end_time": "2020-11-11T18:47:51.068258Z",
     "start_time": "2020-11-11T18:44:57.108Z"
    }
   },
   "outputs": [],
   "source": [
    "# def get_beta_mean(obs_pos, obs_n, lookup=None):\n",
    "#     beta_mean = beta.mean(obs_pos + 1, obs_n - obs_pos + 1)\n",
    "#     if lookup:\n",
    "#         lookup[(obs_pos, obs_n)] = beta_mean\n",
    "#     return beta_mean"
   ]
  },
  {
   "cell_type": "code",
   "execution_count": null,
   "metadata": {
    "ExecuteTime": {
     "end_time": "2020-11-11T18:47:51.070639Z",
     "start_time": "2020-11-11T18:44:57.110Z"
    }
   },
   "outputs": [],
   "source": [
    "# def calculate_pv(obs_pos, obs_n, n_to_go, pv_lookup, exp_p_lookup):\n",
    "#     if n_to_go == 1:\n",
    "#         return max(2 * exp_p_lookup.get((obs_pos, obs_n), get_beta_mean(obs_pos, obs_n, exp_p_lookup)) - 1, 0)\n",
    "#     elif obs_n > (2 * obs_pos):\n",
    "#         return pv_lookup[(0, 0, n_to_go)]\n",
    "#     else:\n",
    "#         p_success = exp_p_lookup.get((obs_pos, obs_n), get_beta_mean(obs_pos, obs_n, exp_p_lookup))\n",
    "#         return max(pv_lookup.get((0, 0, n_to_go), 0),\n",
    "#                    (p_success * (1 + pv_lookup[(obs_pos + 1, obs_n + 1, n_to_go - 1)])\n",
    "#                     + (1 - p_success) * (-1 + pv_lookup[(obs_pos, obs_n + 1, n_to_go - 1)])))"
   ]
  }
 ],
 "metadata": {
  "kernelspec": {
   "display_name": "Python 3",
   "language": "python",
   "name": "python3"
  },
  "language_info": {
   "codemirror_mode": {
    "name": "ipython",
    "version": 3
   },
   "file_extension": ".py",
   "mimetype": "text/x-python",
   "name": "python",
   "nbconvert_exporter": "python",
   "pygments_lexer": "ipython3",
   "version": "3.7.5"
  },
  "varInspector": {
   "cols": {
    "lenName": 16,
    "lenType": 16,
    "lenVar": 40
   },
   "kernels_config": {
    "python": {
     "delete_cmd_postfix": "",
     "delete_cmd_prefix": "del ",
     "library": "var_list.py",
     "varRefreshCmd": "print(var_dic_list())"
    },
    "r": {
     "delete_cmd_postfix": ") ",
     "delete_cmd_prefix": "rm(",
     "library": "var_list.r",
     "varRefreshCmd": "cat(var_dic_list()) "
    }
   },
   "types_to_exclude": [
    "module",
    "function",
    "builtin_function_or_method",
    "instance",
    "_Feature"
   ],
   "window_display": false
  }
 },
 "nbformat": 4,
 "nbformat_minor": 2
}
