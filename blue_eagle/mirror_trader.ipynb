{
 "cells": [
  {
   "cell_type": "markdown",
   "metadata": {},
   "source": [
    "# Mirror trader"
   ]
  },
  {
   "cell_type": "code",
   "execution_count": 2,
   "metadata": {},
   "outputs": [],
   "source": [
    "from scipy.stats import beta"
   ]
  },
  {
   "cell_type": "code",
   "execution_count": 3,
   "metadata": {},
   "outputs": [],
   "source": [
    "def get_beta_mean(obs_pos, obs_n):\n",
    "    return beta.mean(obs_pos + 1, obs_n - obs_pos + 1)"
   ]
  },
  {
   "cell_type": "code",
   "execution_count": 4,
   "metadata": {},
   "outputs": [],
   "source": [
    "days = 200"
   ]
  },
  {
   "cell_type": "code",
   "execution_count": 5,
   "metadata": {},
   "outputs": [
    {
     "name": "stdout",
     "output_type": "stream",
     "text": [
      "CPU times: user 1.51 s, sys: 10.6 ms, total: 1.52 s\n",
      "Wall time: 1.53 s\n"
     ]
    }
   ],
   "source": [
    "%%time\n",
    "expectations = {(obs_pos, obs_n): get_beta_mean(obs_pos, obs_n)\n",
    "                for obs_n in range(days)\n",
    "                for obs_pos in range(int((obs_n + 1)/2), obs_n + 1)}"
   ]
  },
  {
   "cell_type": "code",
   "execution_count": 6,
   "metadata": {},
   "outputs": [],
   "source": [
    "# Assumes we can only bet with the trader\n",
    "def calculate_pv(obs_pos, obs_n, n_to_go, pv_lookup, exp_p_lookup):\n",
    "    if n_to_go == 1:\n",
    "        return max(2 * exp_p_lookup.get((obs_pos, obs_n), 0) - 1, 0)\n",
    "    elif obs_n > (2 * obs_pos):\n",
    "        return pv_lookup[(0, 0, n_to_go)]\n",
    "    else:\n",
    "        p_success = exp_p_lookup.get((obs_pos, obs_n))\n",
    "        return max(pv_lookup.get((0, 0, n_to_go), 0),\n",
    "                   (p_success * (1 + pv_lookup[(obs_pos + 1, obs_n + 1, n_to_go - 1)])\n",
    "                    + (1 - p_success) * (-1 + pv_lookup[(obs_pos, obs_n + 1, n_to_go - 1)])))"
   ]
  },
  {
   "cell_type": "code",
   "execution_count": 7,
   "metadata": {},
   "outputs": [],
   "source": [
    "# Assumes we can bet with or against the trader\n",
    "def bet_against_pv(obs_pos, obs_n, n_to_go, pv_lookup, exp_p_lookup):\n",
    "    obs_pos = max(obs_pos, obs_n - obs_pos)\n",
    "    if n_to_go == 1:\n",
    "        return 2 * exp_p_lookup.get((obs_pos, obs_n), 0) - 1\n",
    "    else:\n",
    "        p_success = exp_p_lookup.get((obs_pos, obs_n))\n",
    "        return max(pv_lookup.get((0, 0, n_to_go), 0),\n",
    "                   (p_success * (1 + pv_lookup[(obs_pos + 1, obs_n + 1, n_to_go - 1)])\n",
    "                    + (1 - p_success) * (-1 + pv_lookup[(obs_pos, obs_n + 1, n_to_go - 1)])))"
   ]
  },
  {
   "cell_type": "code",
   "execution_count": 8,
   "metadata": {},
   "outputs": [
    {
     "data": {
      "text/plain": [
       "0.5"
      ]
     },
     "execution_count": 8,
     "metadata": {},
     "output_type": "execute_result"
    }
   ],
   "source": [
    "expectations[(5,10)]"
   ]
  },
  {
   "cell_type": "code",
   "execution_count": 17,
   "metadata": {},
   "outputs": [
    {
     "name": "stdout",
     "output_type": "stream",
     "text": [
      "CPU times: user 3.63 s, sys: 80.8 ms, total: 3.71 s\n",
      "Wall time: 3.73 s\n"
     ]
    }
   ],
   "source": [
    "%%time\n",
    "\n",
    "strategy = bet_against_pv\n",
    "\n",
    "pv_lookup = {}\n",
    "for N in range(1,days+1):\n",
    "    for n_to_go in range(1,N+1):\n",
    "        n_obs = N - n_to_go\n",
    "        for n_pos in range(n_obs+1):\n",
    "            pv_lookup[(n_pos, n_obs, n_to_go)] = strategy(n_pos, n_obs, n_to_go, pv_lookup, expectations)"
   ]
  },
  {
   "cell_type": "code",
   "execution_count": 18,
   "metadata": {},
   "outputs": [
    {
     "name": "stdout",
     "output_type": "stream",
     "text": [
      "20 days: Optimal return per day: 0.537\n",
      "40 days: Optimal return per day: 0.638\n",
      "60 days: Optimal return per day: 0.691\n",
      "80 days: Optimal return per day: 0.725\n",
      "100 days: Optimal return per day: 0.750\n",
      "120 days: Optimal return per day: 0.769\n",
      "140 days: Optimal return per day: 0.784\n",
      "160 days: Optimal return per day: 0.796\n",
      "180 days: Optimal return per day: 0.806\n",
      "200 days: Optimal return per day: 0.815\n"
     ]
    }
   ],
   "source": [
    "for i in range(20,201,20):\n",
    "    print(f'{i} days: Optimal return per day: {pv_lookup[(0,0,i)] / i:.3f}')"
   ]
  },
  {
   "cell_type": "markdown",
   "metadata": {
    "heading_collapsed": true
   },
   "source": [
    "# Appendix"
   ]
  },
  {
   "cell_type": "code",
   "execution_count": null,
   "metadata": {
    "hidden": true
   },
   "outputs": [],
   "source": [
    "import pandas as pd\n",
    "from scipy.stats import binom"
   ]
  },
  {
   "cell_type": "code",
   "execution_count": null,
   "metadata": {
    "hidden": true
   },
   "outputs": [],
   "source": [
    "def get_likelihood(obs_pos, obs_n, resolution=200):\n",
    "    likelihood = pd.DataFrame()\n",
    "    likelihood['prob'] = np.linspace(0, 1, (resolution * 2 + 1))[1:-1:2]\n",
    "    likelihood['ldf'] = likelihood['prob'].apply(lambda p: binom.pmf(obs_pos, obs_n, p))\n",
    "    likelihood['ldf'] /= likelihood['ldf'].mean()\n",
    "    likelihood['lmf'] = likelihood['ldf'] / likelihood['ldf'].sum()\n",
    "    likelihood['expectation'] = likelihood['prob'] * likelihood['lmf']\n",
    "    return likelihood"
   ]
  },
  {
   "cell_type": "code",
   "execution_count": null,
   "metadata": {
    "hidden": true
   },
   "outputs": [],
   "source": [
    "def get_expectation(obs_pos, obs_n, resolution=200):\n",
    "    return get_likelihood(obs_pos, obs_n, resolution)['expectation'].sum()"
   ]
  },
  {
   "cell_type": "code",
   "execution_count": null,
   "metadata": {
    "hidden": true
   },
   "outputs": [],
   "source": [
    "# TODO: enable big numbers\n",
    "def prob_success(obs_pos, obs_n):\n",
    "    top = bottom = 0\n",
    "    pascal_coeffs = pascal(obs_n - obs_pos + 1, kind='lower', exact=True)[-1]\n",
    "    pascal_coeffs = pascal_coeffs * [(-1)**n for n in range(len(pascal_coeffs))]\n",
    "    integrated_exponent = obs_pos + 1\n",
    "    for i, coeff in enumerate(pascal_coeffs):\n",
    "        top += coeff / (integrated_exponent + 1)\n",
    "        bottom += coeff / integrated_exponent\n",
    "        exponent += 1\n",
    "    return top / bottom"
   ]
  },
  {
   "cell_type": "markdown",
   "metadata": {
    "hidden": true
   },
   "source": [
    "### Try only calculating beta_mean on demand (this was much slower)"
   ]
  },
  {
   "cell_type": "code",
   "execution_count": 3,
   "metadata": {
    "hidden": true
   },
   "outputs": [],
   "source": [
    "# def get_beta_mean(obs_pos, obs_n, lookup=None):\n",
    "#     beta_mean = beta.mean(obs_pos + 1, obs_n - obs_pos + 1)\n",
    "#     if lookup:\n",
    "#         lookup[(obs_pos, obs_n)] = beta_mean\n",
    "#     return beta_mean"
   ]
  },
  {
   "cell_type": "code",
   "execution_count": 6,
   "metadata": {
    "hidden": true
   },
   "outputs": [],
   "source": [
    "# def calculate_pv(obs_pos, obs_n, n_to_go, pv_lookup, exp_p_lookup):\n",
    "#     if n_to_go == 1:\n",
    "#         return max(2 * exp_p_lookup.get((obs_pos, obs_n), get_beta_mean(obs_pos, obs_n, exp_p_lookup)) - 1, 0)\n",
    "#     elif obs_n > (2 * obs_pos):\n",
    "#         return pv_lookup[(0, 0, n_to_go)]\n",
    "#     else:\n",
    "#         p_success = exp_p_lookup.get((obs_pos, obs_n), get_beta_mean(obs_pos, obs_n, exp_p_lookup))\n",
    "#         return max(pv_lookup.get((0, 0, n_to_go), 0),\n",
    "#                    (p_success * (1 + pv_lookup[(obs_pos + 1, obs_n + 1, n_to_go - 1)])\n",
    "#                     + (1 - p_success) * (-1 + pv_lookup[(obs_pos, obs_n + 1, n_to_go - 1)])))"
   ]
  }
 ],
 "metadata": {
  "kernelspec": {
   "display_name": "Python 3",
   "language": "python",
   "name": "python3"
  },
  "language_info": {
   "codemirror_mode": {
    "name": "ipython",
    "version": 3
   },
   "file_extension": ".py",
   "mimetype": "text/x-python",
   "name": "python",
   "nbconvert_exporter": "python",
   "pygments_lexer": "ipython3",
   "version": "3.7.4"
  },
  "varInspector": {
   "cols": {
    "lenName": 16,
    "lenType": 16,
    "lenVar": 40
   },
   "kernels_config": {
    "python": {
     "delete_cmd_postfix": "",
     "delete_cmd_prefix": "del ",
     "library": "var_list.py",
     "varRefreshCmd": "print(var_dic_list())"
    },
    "r": {
     "delete_cmd_postfix": ") ",
     "delete_cmd_prefix": "rm(",
     "library": "var_list.r",
     "varRefreshCmd": "cat(var_dic_list()) "
    }
   },
   "types_to_exclude": [
    "module",
    "function",
    "builtin_function_or_method",
    "instance",
    "_Feature"
   ],
   "window_display": false
  }
 },
 "nbformat": 4,
 "nbformat_minor": 2
}
