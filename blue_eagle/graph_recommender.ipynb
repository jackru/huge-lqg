{
 "cells": [
  {
   "cell_type": "code",
   "execution_count": 30,
   "metadata": {},
   "outputs": [],
   "source": [
    "import random\n",
    "\n",
    "import numpy as np\n",
    "import pandas as pd"
   ]
  },
  {
   "cell_type": "markdown",
   "metadata": {},
   "source": [
    "Our metric is the Expected Degrees of Separation, EDS, between Shop A and Shop B. That is, imagine a token is given to a customer of Shop A at random. The customer is told to give the token to a customer in the next shop they visit, again at random, and to mark the token. At each step the customer is told to do the same thing, so that the number of marks on the token records the number of customers the token has passed through. If the token comes to Shop B, it is taken, and the number of marks is recorded. EDS is the expected number of marks on the token at the destination shop.\n",
    "\n",
    "Suppose we have a transition matrix, the probability that a customer Shop A also shops at Shop B.\n",
    "\n",
    "From Shop A\t  |To Shop B       |P(A -> B)\n",
    "--------------|----------------|--------\n",
    "Tesco, Bristol|\tBoots, Bath\t   |0.1\n",
    "Tesco, Bristol|\tAsda, Bristol  |0.2\n",
    "Asda, Bristol |\tCurrys, Bristol|0.1\n",
    "\n",
    "We are looking for a table of the form:\n",
    "\n",
    "Source Shop A |\tDestination Shop B |EDS(A -> … -> B)\n",
    "--------------|--------------------|-----------------\n",
    "Tesco, Bristol|\tBoots, Bath|3.5\n",
    "Tesco, Bristol|Asda, Bristol|2.3\n",
    "Tesco, Bristol|\tCurrys, Bristol|4.0\n",
    "\n"
   ]
  },
  {
   "cell_type": "code",
   "execution_count": 64,
   "metadata": {},
   "outputs": [
    {
     "data": {
      "text/plain": [
       "[(0, 0), (1, 0), (2, 0), (3, 0), (4, 0)]"
      ]
     },
     "execution_count": 64,
     "metadata": {},
     "output_type": "execute_result"
    }
   ],
   "source": [
    "# cities = ['bristol', 'bath', 'torquay', 'falmouth', 'gloucester', 'frome']\n",
    "# brands = ['tesco', 'boots', 'currys', 'asda', 'specsavers', 'whsmith']\n",
    "\n",
    "cities = range(40)\n",
    "brands = range(25)\n",
    "\n",
    "shops = [(brand, city) for city in cities for brand in brands]\n",
    "shops[:5]"
   ]
  },
  {
   "cell_type": "code",
   "execution_count": 65,
   "metadata": {},
   "outputs": [
    {
     "data": {
      "text/html": [
       "<div>\n",
       "<style scoped>\n",
       "    .dataframe tbody tr th:only-of-type {\n",
       "        vertical-align: middle;\n",
       "    }\n",
       "\n",
       "    .dataframe tbody tr th {\n",
       "        vertical-align: top;\n",
       "    }\n",
       "\n",
       "    .dataframe thead th {\n",
       "        text-align: right;\n",
       "    }\n",
       "</style>\n",
       "<table border=\"1\" class=\"dataframe\">\n",
       "  <thead>\n",
       "    <tr style=\"text-align: right;\">\n",
       "      <th></th>\n",
       "      <th>from_shop</th>\n",
       "      <th>to_shop</th>\n",
       "      <th>p_also_shops</th>\n",
       "    </tr>\n",
       "  </thead>\n",
       "  <tbody>\n",
       "    <tr>\n",
       "      <th>0</th>\n",
       "      <td>(0, 0)</td>\n",
       "      <td>(1, 0)</td>\n",
       "      <td>45</td>\n",
       "    </tr>\n",
       "    <tr>\n",
       "      <th>1</th>\n",
       "      <td>(0, 0)</td>\n",
       "      <td>(2, 0)</td>\n",
       "      <td>67</td>\n",
       "    </tr>\n",
       "    <tr>\n",
       "      <th>2</th>\n",
       "      <td>(0, 0)</td>\n",
       "      <td>(3, 0)</td>\n",
       "      <td>29</td>\n",
       "    </tr>\n",
       "    <tr>\n",
       "      <th>3</th>\n",
       "      <td>(0, 0)</td>\n",
       "      <td>(4, 0)</td>\n",
       "      <td>19</td>\n",
       "    </tr>\n",
       "    <tr>\n",
       "      <th>4</th>\n",
       "      <td>(0, 0)</td>\n",
       "      <td>(5, 0)</td>\n",
       "      <td>73</td>\n",
       "    </tr>\n",
       "  </tbody>\n",
       "</table>\n",
       "</div>"
      ],
      "text/plain": [
       "  from_shop to_shop p_also_shops\n",
       "0    (0, 0)  (1, 0)           45\n",
       "1    (0, 0)  (2, 0)           67\n",
       "2    (0, 0)  (3, 0)           29\n",
       "3    (0, 0)  (4, 0)           19\n",
       "4    (0, 0)  (5, 0)           73"
      ]
     },
     "execution_count": 65,
     "metadata": {},
     "output_type": "execute_result"
    }
   ],
   "source": [
    "tm_dict = {}\n",
    "idx = 0\n",
    "for from_shop in range(len(shops)):\n",
    "    for to_shop in range(len(shops)):\n",
    "        if from_shop != to_shop:\n",
    "            transition_probability = np.random.randint(1,100)\n",
    "            tm_dict[idx] = {\n",
    "                'from_shop': shops[from_shop],\n",
    "                'to_shop': shops[to_shop],\n",
    "                'p_also_shops': transition_probability,\n",
    "            }\n",
    "            idx += 1\n",
    "\n",
    "transition_matrix = pd.DataFrame(tm_dict).T\n",
    "transition_matrix = transition_matrix[['from_shop', 'to_shop', 'p_also_shops']]\n",
    "transition_matrix.head()"
   ]
  },
  {
   "cell_type": "code",
   "execution_count": 66,
   "metadata": {},
   "outputs": [],
   "source": [
    "possible_transitions = {}\n",
    "for shop_A in shops:\n",
    "    possible_transitions[shop_A] = transition_matrix[\n",
    "        transition_matrix['from_shop'] == shop_A\n",
    "    ][['to_shop', 'p_also_shops']]"
   ]
  },
  {
   "cell_type": "code",
   "execution_count": 67,
   "metadata": {},
   "outputs": [
    {
     "name": "stdout",
     "output_type": "stream",
     "text": [
      "From (0, 0) to (1, 0): 1092.4\n",
      "From (0, 0) to (2, 0): 1224.2\n",
      "From (0, 0) to (3, 0): 1120.4\n",
      "From (0, 0) to (4, 0): 337.2\n",
      "From (0, 0) to (5, 0): 745.8\n",
      "From (0, 0) to (6, 0): 1737.2\n",
      "From (0, 0) to (7, 0): 481.2\n",
      "From (0, 0) to (8, 0): 1323.0\n",
      "From (0, 0) to (9, 0): 1104.2\n",
      "From (0, 0) to (10, 0): 437.6\n"
     ]
    }
   ],
   "source": [
    "n_trials = 5\n",
    "\n",
    "for row in transition_matrix.index[:10]:\n",
    "    shop_A = transition_matrix.loc[row, 'from_shop']\n",
    "    shop_B = transition_matrix.loc[row, 'to_shop']\n",
    "    results = []\n",
    "    for trial in range(n_trials):\n",
    "        current_shop = shop_A\n",
    "        marks = 0\n",
    "        while current_shop != shop_B:\n",
    "            possible_destinations = possible_transitions[current_shop]\n",
    "            probs = possible_destinations['p_also_shops'].astype(float)\n",
    "            probs = probs / probs.sum()\n",
    "            marks += 1\n",
    "            current_shop = np.random.choice(\n",
    "                possible_destinations['to_shop'],\n",
    "                p=probs\n",
    "            )\n",
    "        results.append(marks)\n",
    "    print(f'From {shop_A} to {shop_B}: {np.array(results).mean()}')"
   ]
  }
 ],
 "metadata": {
  "kernelspec": {
   "display_name": "Python 3",
   "language": "python",
   "name": "python3"
  },
  "language_info": {
   "codemirror_mode": {
    "name": "ipython",
    "version": 3
   },
   "file_extension": ".py",
   "mimetype": "text/x-python",
   "name": "python",
   "nbconvert_exporter": "python",
   "pygments_lexer": "ipython3",
   "version": "3.6.6"
  }
 },
 "nbformat": 4,
 "nbformat_minor": 2
}
