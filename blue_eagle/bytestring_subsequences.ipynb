{
 "cells": [
  {
   "cell_type": "markdown",
   "metadata": {
    "heading_collapsed": true
   },
   "source": [
    "# Imports"
   ]
  },
  {
   "cell_type": "code",
   "execution_count": 1,
   "metadata": {
    "ExecuteTime": {
     "end_time": "2019-02-14T23:04:30.518604Z",
     "start_time": "2019-02-14T23:04:29.332137Z"
    },
    "hidden": true
   },
   "outputs": [],
   "source": [
    "import re\n",
    "\n",
    "from random import choices, randint\n",
    "from string import ascii_lowercase\n",
    "from time import time\n",
    "\n",
    "import matplotlib.pyplot as plt\n",
    "import numpy as np\n",
    "import pandas as pd\n",
    "import seaborn as sns\n",
    "\n",
    "%matplotlib inline"
   ]
  },
  {
   "cell_type": "markdown",
   "metadata": {
    "heading_collapsed": true
   },
   "source": [
    "# Instructions"
   ]
  },
  {
   "cell_type": "markdown",
   "metadata": {
    "hidden": true
   },
   "source": [
    "In summary: We have two sequences A & B. We wish to produce a Boolean sequence, A', where each element says whether or not the corresponding element in A has a subsequence which occurs in B.\n",
    "\n",
    "More formally, we have two sequences of sequences of bytes, A & B, for each of A & B no sequence of bytes occurs in the sequence more than once. E.g. (using pseudo code), A or B might be < < 1, 2, 3 >, < 3, 2, 1 > >, but neither would be < < 1, 2, 3 >, <2, 3>, < 1, 2, 3 > > as this has an element that occurs more than once; namely < 1, 2, 3 >.\n",
    "\n",
    "We wish to produce a Boolean sequence, A', such that for any x in A' with index i, x is 'true' if and only if there exists a y in B and a sequence z where z is a consecutive subsequence of the ith element of A and z == y. By consecutive subsequence we mean z is as a result of taking a range of elements, just like taking a substring of a string.\n",
    "\n",
    "For example:\n",
    "A = < < 1, 2, 3 >, < 2, 3 >, < 1, 44, 3 >, < 100, 6, 33, > , < 7 > >\n",
    "B = < < 44, 1 >, < 100, 33 >, < 2, 3 >, < 7, 28 > >\n",
    "then A' would be < true, true, false, false, false >\n",
    "\n",
    "You may assume the sequences of bytes in both A and B are quite short, say around length 20 or less.  Please write three methods such that given parameters A and B, returns A', where\n",
    "\n",
    "1. Both A & B are trivially small, and you need not worry about the frequency with which your method will be called in an application - it won't be that often.\n",
    "2. For one method it is assumed A is really big (it certainly cannot fit in memory or on the hard drives of a single computer), B is trivially small; length a couple of 100 say.\n",
    "3. As above but switch A and B, so B is really big and A is small.\n",
    "4. Both A and B are large.\n",
    "\n",
    "You don't have to assume A & B are of a specific type, it's up to you to determine what is the natural type of these things.  You may choose streams, iterators, lists, rdds, arrays ... etc, whatever you think best fits."
   ]
  },
  {
   "cell_type": "markdown",
   "metadata": {
    "heading_collapsed": true
   },
   "source": [
    "# Generate test data"
   ]
  },
  {
   "cell_type": "markdown",
   "metadata": {
    "hidden": true
   },
   "source": [
    "Choices:\n",
    " - I am choosing to represent byte sequences with strings\n",
    " - Justification: Any byte can be mapped to a character and vice-versa (for a 256 character set)\n",
    " - This also allows me to use optimised regex code if necessary\n",
    " - I am choosing to use lowercase letters for simplicity of debugging, but this this could be extended to larger (e.g. 256 character) sets"
   ]
  },
  {
   "cell_type": "code",
   "execution_count": 2,
   "metadata": {
    "ExecuteTime": {
     "end_time": "2019-02-14T23:04:30.526670Z",
     "start_time": "2019-02-14T23:04:30.521622Z"
    },
    "hidden": true
   },
   "outputs": [],
   "source": [
    "def generate_list_of_strings(min_len, max_len, n, index=False):\n",
    "    \"\"\"Generate test data\"\"\"\n",
    "    strings = [''.join(choices(ascii_lowercase, k=randint(min_len, max_len))) for i in range(n)]\n",
    "    return list(zip(strings, range(n))) if index else strings"
   ]
  },
  {
   "cell_type": "markdown",
   "metadata": {},
   "source": [
    "# Function definitions"
   ]
  },
  {
   "cell_type": "markdown",
   "metadata": {},
   "source": [
    "These two functions allow basic searching of items in A for substrings in B. Numpy is used for convenience but this is fairly bare-metal code. It performs surprisingly well."
   ]
  },
  {
   "cell_type": "code",
   "execution_count": 3,
   "metadata": {
    "ExecuteTime": {
     "end_time": "2019-02-14T23:04:30.534392Z",
     "start_time": "2019-02-14T23:04:30.529511Z"
    }
   },
   "outputs": [],
   "source": [
    "def get_all_substrings(string, min_len=1, return_lengths=True):\n",
    "    \"\"\"Get all substrings above a minimum length for a given string\"\"\"\n",
    "    length = len(string)\n",
    "    for i in range(length):\n",
    "        for j in range(i + min_len, length + 1):\n",
    "            yield (string[i:j], j - i) if return_lengths else string[i:j]"
   ]
  },
  {
   "cell_type": "code",
   "execution_count": 4,
   "metadata": {
    "ExecuteTime": {
     "end_time": "2019-02-14T23:04:30.551100Z",
     "start_time": "2019-02-14T23:04:30.541816Z"
    }
   },
   "outputs": [],
   "source": [
    "def find_exact_match(A, B):\n",
    "    \"\"\"Finds all substrings of A and exact matches against B\"\"\"\n",
    "    B_sorted = np.array(sorted(B, key=len))\n",
    "    B_lengths = np.array([len(b) for b in B_sorted])\n",
    "    \n",
    "    min_len = B_lengths.min()\n",
    "    \n",
    "    start_idx = {}\n",
    "    stop_idx = {}\n",
    "    for length in set(B_lengths):\n",
    "        start_idx[length] = np.searchsorted(B_lengths, length, side='left')\n",
    "        stop_idx[length] = np.searchsorted(B_lengths, length, side='right')\n",
    "    \n",
    "    return[any([substr in B_sorted[start_idx.get(str_len, 0):stop_idx.get(str_len, 0)]\n",
    "                for substr, str_len in get_all_substrings(a, min_len)])\n",
    "           for a in A]"
   ]
  },
  {
   "cell_type": "markdown",
   "metadata": {},
   "source": [
    "These functions use the python regex library. List comp and map are very comparable in performance terms - list comp preferred for readbility."
   ]
  },
  {
   "cell_type": "code",
   "execution_count": 5,
   "metadata": {
    "ExecuteTime": {
     "end_time": "2019-02-14T23:04:30.561433Z",
     "start_time": "2019-02-14T23:04:30.554660Z"
    }
   },
   "outputs": [],
   "source": [
    "def regex_find_list_comp(A, B):\n",
    "    compiled_regex = re.compile('|'.join(B))\n",
    "    return [bool(compiled_regex.search(a)) for a in A]"
   ]
  },
  {
   "cell_type": "code",
   "execution_count": 6,
   "metadata": {
    "ExecuteTime": {
     "end_time": "2019-02-14T23:04:30.568980Z",
     "start_time": "2019-02-14T23:04:30.564287Z"
    }
   },
   "outputs": [],
   "source": [
    "def regex_find_map(A, B):\n",
    "    compiled_regex = re.compile('|'.join(B))\n",
    "    return map(lambda a: bool(compiled_regex.search(a)), A)"
   ]
  },
  {
   "cell_type": "markdown",
   "metadata": {},
   "source": [
    "Deduping might be important..."
   ]
  },
  {
   "cell_type": "code",
   "execution_count": 7,
   "metadata": {
    "ExecuteTime": {
     "end_time": "2019-02-14T23:04:30.581483Z",
     "start_time": "2019-02-14T23:04:30.571236Z"
    }
   },
   "outputs": [],
   "source": [
    "def dedupe_substrings(B, finder=regex_find_list_comp):\n",
    "    B_sorted = np.array(sorted(B, key=len))\n",
    "    B_lengths = np.array([len(b) for b in B_sorted])\n",
    "    \n",
    "    for length in set(B_lengths):\n",
    "        start_idx = np.searchsorted(B_lengths, length, side='left')\n",
    "        stop_idx = np.searchsorted(B_lengths, length, side='right')\n",
    "        dupes = finder(B_sorted[stop_idx:], B_sorted[start_idx:stop_idx])\n",
    "        mask = np.concatenate((np.ones(stop_idx), np.logical_not(dupes))).astype(bool)\n",
    "        B_sorted = B_sorted[mask]\n",
    "        B_lengths = B_lengths[mask]\n",
    "    \n",
    "    return B_sorted"
   ]
  },
  {
   "cell_type": "markdown",
   "metadata": {},
   "source": [
    "These functions add logic to avoid searching for impossible matches (substrings of A that are longer than items in B)"
   ]
  },
  {
   "cell_type": "code",
   "execution_count": 8,
   "metadata": {
    "ExecuteTime": {
     "end_time": "2019-02-14T23:04:30.591962Z",
     "start_time": "2019-02-14T23:04:30.584479Z"
    }
   },
   "outputs": [],
   "source": [
    "def quick_find(A, B):\n",
    "    B_sorted = np.array(sorted(B, key=len))\n",
    "    B_lengths = np.array([len(b) for b in B_sorted])\n",
    "    regex_dict = {}\n",
    "    for length in set(B_lengths):\n",
    "        stop_idx = np.searchsorted(B_lengths, length, side='right')\n",
    "        regex_dict[length] = re.compile('|'.join(B_sorted[:stop_idx]))\n",
    "    return [bool(regex_dict[len(a)].search(a)) for a in A]"
   ]
  },
  {
   "cell_type": "code",
   "execution_count": 9,
   "metadata": {
    "ExecuteTime": {
     "end_time": "2019-02-14T23:04:30.598194Z",
     "start_time": "2019-02-14T23:04:30.593472Z"
    }
   },
   "outputs": [],
   "source": [
    "def quick_find_deduped(A, B):\n",
    "    B_deduped = dedupe_substrings(B)\n",
    "    B_lengths = np.array([len(b) for b in B_deduped])\n",
    "    regex_dict = {}\n",
    "    for length in set(B_lengths):\n",
    "        stop_idx = np.searchsorted(B_lengths, length, side='right')\n",
    "        regex_dict[length] = re.compile('|'.join(B_deduped[:stop_idx]))\n",
    "    return [bool(regex_dict[len(a)].search(a)) for a in A]"
   ]
  },
  {
   "cell_type": "markdown",
   "metadata": {},
   "source": [
    "# Algorithmic performance (single core) per method "
   ]
  },
  {
   "cell_type": "code",
   "execution_count": 44,
   "metadata": {
    "ExecuteTime": {
     "end_time": "2019-02-14T23:23:03.547183Z",
     "start_time": "2019-02-14T23:15:33.072451Z"
    }
   },
   "outputs": [],
   "source": [
    "results = {}\n",
    " \n",
    "for n in [500, 1000, 2000, 4000, 8000, 12000, 18000, 24000, 30000]:\n",
    "    \n",
    "    test_A = generate_list_of_strings(3, 20, n, index=False)\n",
    "    test_B = generate_list_of_strings(3, 20, n, index=False)\n",
    "    \n",
    "    for method in [find_exact_match,\n",
    "                   regex_find_list_comp,\n",
    "                   regex_find_map,\n",
    "                   quick_find,\n",
    "                   quick_find_deduped]:\n",
    "        \n",
    "        results[(n, method.__name__)] = {}\n",
    "        start_time = time()\n",
    "        results[(n, method.__name__)]['checksum'] = sum(list(method(test_A, test_B)))\n",
    "        results[(n, method.__name__)]['time'] = time() - start_time\n",
    "\n",
    "results_df = pd.DataFrame(results).T.reset_index().rename(columns={'level_0': 'size', 'level_1': 'method'})"
   ]
  },
  {
   "cell_type": "code",
   "execution_count": 80,
   "metadata": {
    "ExecuteTime": {
     "end_time": "2019-02-14T23:55:06.457949Z",
     "start_time": "2019-02-14T23:55:06.267452Z"
    }
   },
   "outputs": [
    {
     "data": {
      "text/html": [
       "<div>\n",
       "<style scoped>\n",
       "    .dataframe tbody tr th:only-of-type {\n",
       "        vertical-align: middle;\n",
       "    }\n",
       "\n",
       "    .dataframe tbody tr th {\n",
       "        vertical-align: top;\n",
       "    }\n",
       "\n",
       "    .dataframe thead th {\n",
       "        text-align: right;\n",
       "    }\n",
       "</style>\n",
       "<table border=\"1\" class=\"dataframe\">\n",
       "  <thead>\n",
       "    <tr style=\"text-align: right;\">\n",
       "      <th></th>\n",
       "      <th>size</th>\n",
       "      <th>method</th>\n",
       "      <th>checksum</th>\n",
       "      <th>time</th>\n",
       "    </tr>\n",
       "  </thead>\n",
       "  <tbody>\n",
       "    <tr>\n",
       "      <th>0</th>\n",
       "      <td>500</td>\n",
       "      <td>find_exact_match</td>\n",
       "      <td>7.0</td>\n",
       "      <td>0.199082</td>\n",
       "    </tr>\n",
       "    <tr>\n",
       "      <th>1</th>\n",
       "      <td>500</td>\n",
       "      <td>regex_find_list_comp</td>\n",
       "      <td>7.0</td>\n",
       "      <td>0.029581</td>\n",
       "    </tr>\n",
       "    <tr>\n",
       "      <th>2</th>\n",
       "      <td>500</td>\n",
       "      <td>regex_find_map</td>\n",
       "      <td>7.0</td>\n",
       "      <td>0.013714</td>\n",
       "    </tr>\n",
       "    <tr>\n",
       "      <th>3</th>\n",
       "      <td>500</td>\n",
       "      <td>quick_find</td>\n",
       "      <td>7.0</td>\n",
       "      <td>0.132187</td>\n",
       "    </tr>\n",
       "    <tr>\n",
       "      <th>4</th>\n",
       "      <td>500</td>\n",
       "      <td>quick_find_deduped</td>\n",
       "      <td>7.0</td>\n",
       "      <td>0.238521</td>\n",
       "    </tr>\n",
       "    <tr>\n",
       "      <th>5</th>\n",
       "      <td>1000</td>\n",
       "      <td>find_exact_match</td>\n",
       "      <td>28.0</td>\n",
       "      <td>0.396278</td>\n",
       "    </tr>\n",
       "    <tr>\n",
       "      <th>6</th>\n",
       "      <td>1000</td>\n",
       "      <td>regex_find_list_comp</td>\n",
       "      <td>28.0</td>\n",
       "      <td>0.087707</td>\n",
       "    </tr>\n",
       "    <tr>\n",
       "      <th>7</th>\n",
       "      <td>1000</td>\n",
       "      <td>regex_find_map</td>\n",
       "      <td>28.0</td>\n",
       "      <td>0.054979</td>\n",
       "    </tr>\n",
       "    <tr>\n",
       "      <th>8</th>\n",
       "      <td>1000</td>\n",
       "      <td>quick_find</td>\n",
       "      <td>28.0</td>\n",
       "      <td>0.404198</td>\n",
       "    </tr>\n",
       "    <tr>\n",
       "      <th>9</th>\n",
       "      <td>1000</td>\n",
       "      <td>quick_find_deduped</td>\n",
       "      <td>28.0</td>\n",
       "      <td>0.400750</td>\n",
       "    </tr>\n",
       "    <tr>\n",
       "      <th>10</th>\n",
       "      <td>2000</td>\n",
       "      <td>find_exact_match</td>\n",
       "      <td>98.0</td>\n",
       "      <td>0.954768</td>\n",
       "    </tr>\n",
       "    <tr>\n",
       "      <th>11</th>\n",
       "      <td>2000</td>\n",
       "      <td>regex_find_list_comp</td>\n",
       "      <td>98.0</td>\n",
       "      <td>0.400258</td>\n",
       "    </tr>\n",
       "    <tr>\n",
       "      <th>12</th>\n",
       "      <td>2000</td>\n",
       "      <td>regex_find_map</td>\n",
       "      <td>98.0</td>\n",
       "      <td>0.284884</td>\n",
       "    </tr>\n",
       "    <tr>\n",
       "      <th>13</th>\n",
       "      <td>2000</td>\n",
       "      <td>quick_find</td>\n",
       "      <td>98.0</td>\n",
       "      <td>0.899427</td>\n",
       "    </tr>\n",
       "    <tr>\n",
       "      <th>14</th>\n",
       "      <td>2000</td>\n",
       "      <td>quick_find_deduped</td>\n",
       "      <td>98.0</td>\n",
       "      <td>0.925551</td>\n",
       "    </tr>\n",
       "    <tr>\n",
       "      <th>15</th>\n",
       "      <td>4000</td>\n",
       "      <td>find_exact_match</td>\n",
       "      <td>517.0</td>\n",
       "      <td>1.997806</td>\n",
       "    </tr>\n",
       "    <tr>\n",
       "      <th>16</th>\n",
       "      <td>4000</td>\n",
       "      <td>regex_find_list_comp</td>\n",
       "      <td>517.0</td>\n",
       "      <td>1.049998</td>\n",
       "    </tr>\n",
       "    <tr>\n",
       "      <th>17</th>\n",
       "      <td>4000</td>\n",
       "      <td>regex_find_map</td>\n",
       "      <td>517.0</td>\n",
       "      <td>0.956029</td>\n",
       "    </tr>\n",
       "    <tr>\n",
       "      <th>18</th>\n",
       "      <td>4000</td>\n",
       "      <td>quick_find</td>\n",
       "      <td>517.0</td>\n",
       "      <td>2.589860</td>\n",
       "    </tr>\n",
       "    <tr>\n",
       "      <th>19</th>\n",
       "      <td>4000</td>\n",
       "      <td>quick_find_deduped</td>\n",
       "      <td>517.0</td>\n",
       "      <td>2.460611</td>\n",
       "    </tr>\n",
       "    <tr>\n",
       "      <th>20</th>\n",
       "      <td>8000</td>\n",
       "      <td>find_exact_match</td>\n",
       "      <td>1629.0</td>\n",
       "      <td>5.025916</td>\n",
       "    </tr>\n",
       "    <tr>\n",
       "      <th>21</th>\n",
       "      <td>8000</td>\n",
       "      <td>regex_find_list_comp</td>\n",
       "      <td>1629.0</td>\n",
       "      <td>3.879491</td>\n",
       "    </tr>\n",
       "    <tr>\n",
       "      <th>22</th>\n",
       "      <td>8000</td>\n",
       "      <td>regex_find_map</td>\n",
       "      <td>1629.0</td>\n",
       "      <td>3.684684</td>\n",
       "    </tr>\n",
       "    <tr>\n",
       "      <th>23</th>\n",
       "      <td>8000</td>\n",
       "      <td>quick_find</td>\n",
       "      <td>1629.0</td>\n",
       "      <td>5.560874</td>\n",
       "    </tr>\n",
       "    <tr>\n",
       "      <th>24</th>\n",
       "      <td>8000</td>\n",
       "      <td>quick_find_deduped</td>\n",
       "      <td>1629.0</td>\n",
       "      <td>5.346978</td>\n",
       "    </tr>\n",
       "    <tr>\n",
       "      <th>25</th>\n",
       "      <td>12000</td>\n",
       "      <td>find_exact_match</td>\n",
       "      <td>3472.0</td>\n",
       "      <td>9.039587</td>\n",
       "    </tr>\n",
       "    <tr>\n",
       "      <th>26</th>\n",
       "      <td>12000</td>\n",
       "      <td>regex_find_list_comp</td>\n",
       "      <td>3472.0</td>\n",
       "      <td>7.966384</td>\n",
       "    </tr>\n",
       "    <tr>\n",
       "      <th>27</th>\n",
       "      <td>12000</td>\n",
       "      <td>regex_find_map</td>\n",
       "      <td>3472.0</td>\n",
       "      <td>7.632665</td>\n",
       "    </tr>\n",
       "    <tr>\n",
       "      <th>28</th>\n",
       "      <td>12000</td>\n",
       "      <td>quick_find</td>\n",
       "      <td>3472.0</td>\n",
       "      <td>8.550846</td>\n",
       "    </tr>\n",
       "    <tr>\n",
       "      <th>29</th>\n",
       "      <td>12000</td>\n",
       "      <td>quick_find_deduped</td>\n",
       "      <td>3472.0</td>\n",
       "      <td>8.945903</td>\n",
       "    </tr>\n",
       "    <tr>\n",
       "      <th>30</th>\n",
       "      <td>18000</td>\n",
       "      <td>find_exact_match</td>\n",
       "      <td>7437.0</td>\n",
       "      <td>16.876555</td>\n",
       "    </tr>\n",
       "    <tr>\n",
       "      <th>31</th>\n",
       "      <td>18000</td>\n",
       "      <td>regex_find_list_comp</td>\n",
       "      <td>7437.0</td>\n",
       "      <td>15.501278</td>\n",
       "    </tr>\n",
       "    <tr>\n",
       "      <th>32</th>\n",
       "      <td>18000</td>\n",
       "      <td>regex_find_map</td>\n",
       "      <td>7437.0</td>\n",
       "      <td>16.714849</td>\n",
       "    </tr>\n",
       "    <tr>\n",
       "      <th>33</th>\n",
       "      <td>18000</td>\n",
       "      <td>quick_find</td>\n",
       "      <td>7437.0</td>\n",
       "      <td>14.529356</td>\n",
       "    </tr>\n",
       "    <tr>\n",
       "      <th>34</th>\n",
       "      <td>18000</td>\n",
       "      <td>quick_find_deduped</td>\n",
       "      <td>7437.0</td>\n",
       "      <td>12.336163</td>\n",
       "    </tr>\n",
       "    <tr>\n",
       "      <th>35</th>\n",
       "      <td>24000</td>\n",
       "      <td>find_exact_match</td>\n",
       "      <td>11881.0</td>\n",
       "      <td>28.587738</td>\n",
       "    </tr>\n",
       "    <tr>\n",
       "      <th>36</th>\n",
       "      <td>24000</td>\n",
       "      <td>regex_find_list_comp</td>\n",
       "      <td>11881.0</td>\n",
       "      <td>27.581674</td>\n",
       "    </tr>\n",
       "    <tr>\n",
       "      <th>37</th>\n",
       "      <td>24000</td>\n",
       "      <td>regex_find_map</td>\n",
       "      <td>11881.0</td>\n",
       "      <td>26.796640</td>\n",
       "    </tr>\n",
       "    <tr>\n",
       "      <th>38</th>\n",
       "      <td>24000</td>\n",
       "      <td>quick_find</td>\n",
       "      <td>11881.0</td>\n",
       "      <td>22.165973</td>\n",
       "    </tr>\n",
       "    <tr>\n",
       "      <th>39</th>\n",
       "      <td>24000</td>\n",
       "      <td>quick_find_deduped</td>\n",
       "      <td>11881.0</td>\n",
       "      <td>15.837130</td>\n",
       "    </tr>\n",
       "    <tr>\n",
       "      <th>40</th>\n",
       "      <td>30000</td>\n",
       "      <td>find_exact_match</td>\n",
       "      <td>16504.0</td>\n",
       "      <td>39.454542</td>\n",
       "    </tr>\n",
       "    <tr>\n",
       "      <th>41</th>\n",
       "      <td>30000</td>\n",
       "      <td>regex_find_list_comp</td>\n",
       "      <td>16504.0</td>\n",
       "      <td>42.081443</td>\n",
       "    </tr>\n",
       "    <tr>\n",
       "      <th>42</th>\n",
       "      <td>30000</td>\n",
       "      <td>regex_find_map</td>\n",
       "      <td>16504.0</td>\n",
       "      <td>40.610359</td>\n",
       "    </tr>\n",
       "    <tr>\n",
       "      <th>43</th>\n",
       "      <td>30000</td>\n",
       "      <td>quick_find</td>\n",
       "      <td>16504.0</td>\n",
       "      <td>30.124068</td>\n",
       "    </tr>\n",
       "    <tr>\n",
       "      <th>44</th>\n",
       "      <td>30000</td>\n",
       "      <td>quick_find_deduped</td>\n",
       "      <td>16504.0</td>\n",
       "      <td>19.958280</td>\n",
       "    </tr>\n",
       "  </tbody>\n",
       "</table>\n",
       "</div>"
      ],
      "text/plain": [
       "     size                method  checksum       time\n",
       "0     500      find_exact_match       7.0   0.199082\n",
       "1     500  regex_find_list_comp       7.0   0.029581\n",
       "2     500        regex_find_map       7.0   0.013714\n",
       "3     500            quick_find       7.0   0.132187\n",
       "4     500    quick_find_deduped       7.0   0.238521\n",
       "5    1000      find_exact_match      28.0   0.396278\n",
       "6    1000  regex_find_list_comp      28.0   0.087707\n",
       "7    1000        regex_find_map      28.0   0.054979\n",
       "8    1000            quick_find      28.0   0.404198\n",
       "9    1000    quick_find_deduped      28.0   0.400750\n",
       "10   2000      find_exact_match      98.0   0.954768\n",
       "11   2000  regex_find_list_comp      98.0   0.400258\n",
       "12   2000        regex_find_map      98.0   0.284884\n",
       "13   2000            quick_find      98.0   0.899427\n",
       "14   2000    quick_find_deduped      98.0   0.925551\n",
       "15   4000      find_exact_match     517.0   1.997806\n",
       "16   4000  regex_find_list_comp     517.0   1.049998\n",
       "17   4000        regex_find_map     517.0   0.956029\n",
       "18   4000            quick_find     517.0   2.589860\n",
       "19   4000    quick_find_deduped     517.0   2.460611\n",
       "20   8000      find_exact_match    1629.0   5.025916\n",
       "21   8000  regex_find_list_comp    1629.0   3.879491\n",
       "22   8000        regex_find_map    1629.0   3.684684\n",
       "23   8000            quick_find    1629.0   5.560874\n",
       "24   8000    quick_find_deduped    1629.0   5.346978\n",
       "25  12000      find_exact_match    3472.0   9.039587\n",
       "26  12000  regex_find_list_comp    3472.0   7.966384\n",
       "27  12000        regex_find_map    3472.0   7.632665\n",
       "28  12000            quick_find    3472.0   8.550846\n",
       "29  12000    quick_find_deduped    3472.0   8.945903\n",
       "30  18000      find_exact_match    7437.0  16.876555\n",
       "31  18000  regex_find_list_comp    7437.0  15.501278\n",
       "32  18000        regex_find_map    7437.0  16.714849\n",
       "33  18000            quick_find    7437.0  14.529356\n",
       "34  18000    quick_find_deduped    7437.0  12.336163\n",
       "35  24000      find_exact_match   11881.0  28.587738\n",
       "36  24000  regex_find_list_comp   11881.0  27.581674\n",
       "37  24000        regex_find_map   11881.0  26.796640\n",
       "38  24000            quick_find   11881.0  22.165973\n",
       "39  24000    quick_find_deduped   11881.0  15.837130\n",
       "40  30000      find_exact_match   16504.0  39.454542\n",
       "41  30000  regex_find_list_comp   16504.0  42.081443\n",
       "42  30000        regex_find_map   16504.0  40.610359\n",
       "43  30000            quick_find   16504.0  30.124068\n",
       "44  30000    quick_find_deduped   16504.0  19.958280"
      ]
     },
     "execution_count": 80,
     "metadata": {},
     "output_type": "execute_result"
    }
   ],
   "source": [
    "results_df"
   ]
  },
  {
   "cell_type": "code",
   "execution_count": 46,
   "metadata": {
    "ExecuteTime": {
     "end_time": "2019-02-14T23:23:21.805328Z",
     "start_time": "2019-02-14T23:23:21.242307Z"
    }
   },
   "outputs": [
    {
     "data": {
      "image/png": "[encoded data removed]",
      "text/plain": [
       "<Figure size 1080x576 with 1 Axes>"
      ]
     },
     "metadata": {
      "needs_background": "light"
     },
     "output_type": "display_data"
    }
   ],
   "source": [
    "fig, ax = plt.subplots(figsize=(15,8))\n",
    "sns.lineplot(data=results_df, x='size', y='time', hue='method', style='method', ax=ax);"
   ]
  },
  {
   "cell_type": "markdown",
   "metadata": {},
   "source": [
    "# Case 1: Small A, small B"
   ]
  },
  {
   "cell_type": "markdown",
   "metadata": {},
   "source": [
    "No need to parallelize: Use `find_exact_match()` or any other finder method above."
   ]
  },
  {
   "cell_type": "markdown",
   "metadata": {},
   "source": [
    "# SparkContext settings"
   ]
  },
  {
   "cell_type": "markdown",
   "metadata": {},
   "source": [
    "The below code is running on a low-powered MacBook pro with 4 cores, running PySpark in jupyter as described [here](https://towardsdatascience.com/how-to-use-pyspark-on-your-computer-9c7180075617). However code should translate to a cluster or more powerful machine."
   ]
  },
  {
   "cell_type": "code",
   "execution_count": 79,
   "metadata": {
    "ExecuteTime": {
     "end_time": "2019-02-14T23:40:21.064063Z",
     "start_time": "2019-02-14T23:40:21.056397Z"
    }
   },
   "outputs": [
    {
     "data": {
      "text/plain": [
       "4"
      ]
     },
     "execution_count": 79,
     "metadata": {},
     "output_type": "execute_result"
    }
   ],
   "source": [
    "sc.defaultParallelism"
   ]
  },
  {
   "cell_type": "markdown",
   "metadata": {},
   "source": [
    "# Case 2: Big A, small B"
   ]
  },
  {
   "cell_type": "markdown",
   "metadata": {},
   "source": [
    "Strategy:\n",
    " - Dedupe and broadcast (or just use local variable) B\n",
    " - Parallelize A\n",
    " - Generate all substrings for A in partition\n",
    " - Exact match search against B in parallel\n",
    " - Collect results"
   ]
  },
  {
   "cell_type": "code",
   "execution_count": 53,
   "metadata": {
    "ExecuteTime": {
     "end_time": "2019-02-14T23:26:19.270992Z",
     "start_time": "2019-02-14T23:26:13.813183Z"
    }
   },
   "outputs": [],
   "source": [
    "A = generate_list_of_strings(min_len=3, max_len=20, n=1000000, index=True)\n",
    "B = generate_list_of_strings(min_len=3, max_len=20, n=200)"
   ]
  },
  {
   "cell_type": "code",
   "execution_count": 54,
   "metadata": {
    "ExecuteTime": {
     "end_time": "2019-02-14T23:26:30.064392Z",
     "start_time": "2019-02-14T23:26:23.899100Z"
    }
   },
   "outputs": [
    {
     "name": "stdout",
     "output_type": "stream",
     "text": [
      "CPU times: user 6.01 s, sys: 42.1 ms, total: 6.05 s\n",
      "Wall time: 6.16 s\n"
     ]
    },
    {
     "data": {
      "text/plain": [
       "6477"
      ]
     },
     "execution_count": 54,
     "metadata": {},
     "output_type": "execute_result"
    }
   ],
   "source": [
    "%%time\n",
    "sum(quick_find_deduped([a[0] for a in A], B))"
   ]
  },
  {
   "cell_type": "code",
   "execution_count": 55,
   "metadata": {
    "ExecuteTime": {
     "end_time": "2019-02-14T23:26:34.853640Z",
     "start_time": "2019-02-14T23:26:34.843472Z"
    }
   },
   "outputs": [],
   "source": [
    "B_deduped = list(dedupe_substrings(B)) # numpy arrays seem much slower to process than lists\n",
    "min_len_B = min([len(b) for b in B_deduped])"
   ]
  },
  {
   "cell_type": "code",
   "execution_count": 56,
   "metadata": {
    "ExecuteTime": {
     "end_time": "2019-02-14T23:26:43.056535Z",
     "start_time": "2019-02-14T23:26:42.273356Z"
    }
   },
   "outputs": [],
   "source": [
    "rdd_A = sc.parallelize(A)"
   ]
  },
  {
   "cell_type": "code",
   "execution_count": 57,
   "metadata": {
    "ExecuteTime": {
     "end_time": "2019-02-14T23:26:47.667942Z",
     "start_time": "2019-02-14T23:26:47.664145Z"
    }
   },
   "outputs": [],
   "source": [
    "rdd_A_substring_lists = rdd_A.map(lambda x: (list(get_all_substrings(x[0], min_len_B, return_lengths=False)), x[1]))"
   ]
  },
  {
   "cell_type": "code",
   "execution_count": 62,
   "metadata": {
    "ExecuteTime": {
     "end_time": "2019-02-14T23:30:57.981068Z",
     "start_time": "2019-02-14T23:30:44.529984Z"
    }
   },
   "outputs": [
    {
     "name": "stdout",
     "output_type": "stream",
     "text": [
      "CPU times: user 49.9 ms, sys: 16.3 ms, total: 66.2 ms\n",
      "Wall time: 13.4 s\n"
     ]
    }
   ],
   "source": [
    "%%time\n",
    "answer = rdd_A_substring_lists.map(lambda x: bool(set(x[0]).intersection(B_deduped))).collect()"
   ]
  },
  {
   "cell_type": "code",
   "execution_count": 64,
   "metadata": {
    "ExecuteTime": {
     "end_time": "2019-02-14T23:31:37.685652Z",
     "start_time": "2019-02-14T23:31:37.653098Z"
    }
   },
   "outputs": [
    {
     "data": {
      "text/plain": [
       "6477"
      ]
     },
     "execution_count": 64,
     "metadata": {},
     "output_type": "execute_result"
    }
   ],
   "source": [
    "sum(answer)"
   ]
  },
  {
   "cell_type": "markdown",
   "metadata": {},
   "source": [
    "# Case 3: Small A, big B"
   ]
  },
  {
   "cell_type": "markdown",
   "metadata": {},
   "source": [
    "Strategy:\n",
    " - Paralellize B (no deduping)\n",
    " - Generate all substrings of A and parallelize\n",
    " - Exact match search in parallel\n",
    " - Collect results"
   ]
  },
  {
   "cell_type": "code",
   "execution_count": 59,
   "metadata": {
    "ExecuteTime": {
     "end_time": "2019-02-14T23:27:23.100571Z",
     "start_time": "2019-02-14T23:27:18.842688Z"
    }
   },
   "outputs": [],
   "source": [
    "A = generate_list_of_strings(min_len=4, max_len=20, n=200, index=True)\n",
    "B = generate_list_of_strings(min_len=4, max_len=20, n=1000000)"
   ]
  },
  {
   "cell_type": "code",
   "execution_count": 60,
   "metadata": {
    "ExecuteTime": {
     "end_time": "2019-02-14T23:27:24.665114Z",
     "start_time": "2019-02-14T23:27:24.617732Z"
    }
   },
   "outputs": [],
   "source": [
    "A_strings_only = list(zip(*A))[0]"
   ]
  },
  {
   "cell_type": "code",
   "execution_count": 65,
   "metadata": {
    "ExecuteTime": {
     "end_time": "2019-02-14T23:31:55.196301Z",
     "start_time": "2019-02-14T23:31:44.311296Z"
    }
   },
   "outputs": [
    {
     "name": "stdout",
     "output_type": "stream",
     "text": [
      "CPU times: user 10.7 s, sys: 107 ms, total: 10.8 s\n",
      "Wall time: 10.9 s\n"
     ]
    },
    {
     "data": {
      "text/plain": [
       "177"
      ]
     },
     "execution_count": 65,
     "metadata": {},
     "output_type": "execute_result"
    }
   ],
   "source": [
    "%%time\n",
    "sum(find_exact_match(A_strings_only, B))"
   ]
  },
  {
   "cell_type": "code",
   "execution_count": 66,
   "metadata": {
    "ExecuteTime": {
     "end_time": "2019-02-14T23:31:59.012932Z",
     "start_time": "2019-02-14T23:31:58.987815Z"
    }
   },
   "outputs": [
    {
     "data": {
      "text/plain": [
       "19231"
      ]
     },
     "execution_count": 66,
     "metadata": {},
     "output_type": "execute_result"
    }
   ],
   "source": [
    "A_substrings = [(substr, idx) for (a, idx) in A for substr in list(get_all_substrings(a, return_lengths=False))]\n",
    "len(A_substrings)"
   ]
  },
  {
   "cell_type": "code",
   "execution_count": 67,
   "metadata": {
    "ExecuteTime": {
     "end_time": "2019-02-14T23:32:03.068012Z",
     "start_time": "2019-02-14T23:32:02.710515Z"
    }
   },
   "outputs": [],
   "source": [
    "rdd_A = sc.parallelize(A_substrings)\n",
    "rdd_B = sc.parallelize(B).keyBy(lambda x: x)"
   ]
  },
  {
   "cell_type": "code",
   "execution_count": 68,
   "metadata": {
    "ExecuteTime": {
     "end_time": "2019-02-14T23:32:04.596372Z",
     "start_time": "2019-02-14T23:32:04.470922Z"
    }
   },
   "outputs": [],
   "source": [
    "test = rdd_A.join(rdd_B).values().keys().distinct()"
   ]
  },
  {
   "cell_type": "code",
   "execution_count": 69,
   "metadata": {
    "ExecuteTime": {
     "end_time": "2019-02-14T23:32:13.414777Z",
     "start_time": "2019-02-14T23:32:06.073501Z"
    }
   },
   "outputs": [
    {
     "name": "stdout",
     "output_type": "stream",
     "text": [
      "CPU times: user 4.78 ms, sys: 2.53 ms, total: 7.31 ms\n",
      "Wall time: 7.34 s\n"
     ]
    },
    {
     "data": {
      "text/plain": [
       "177"
      ]
     },
     "execution_count": 69,
     "metadata": {},
     "output_type": "execute_result"
    }
   ],
   "source": [
    "%%time\n",
    "len(test.collect())"
   ]
  },
  {
   "cell_type": "markdown",
   "metadata": {},
   "source": [
    "# Case 4: Big A, big B"
   ]
  },
  {
   "cell_type": "markdown",
   "metadata": {},
   "source": [
    "Strategy:\n",
    " - Parallelize A\n",
    " - Generate all substrings and re-parallelize\n",
    " - Parallelize B\n",
    " - Exact match search in parallel\n",
    " - Collect results (assuming list of booleans will fit in local memory) "
   ]
  },
  {
   "cell_type": "code",
   "execution_count": 81,
   "metadata": {
    "ExecuteTime": {
     "end_time": "2019-02-15T07:55:43.668038Z",
     "start_time": "2019-02-15T07:55:41.326085Z"
    }
   },
   "outputs": [],
   "source": [
    "A = generate_list_of_strings(min_len=4, max_len=20, n=150000, index=True)\n",
    "B = generate_list_of_strings(min_len=4, max_len=20, n=150000)"
   ]
  },
  {
   "cell_type": "code",
   "execution_count": 71,
   "metadata": {
    "ExecuteTime": {
     "end_time": "2019-02-14T23:32:36.785902Z",
     "start_time": "2019-02-14T23:32:36.762426Z"
    }
   },
   "outputs": [],
   "source": [
    "A_strings_only = list(zip(*A))[0]"
   ]
  },
  {
   "cell_type": "code",
   "execution_count": 73,
   "metadata": {
    "ExecuteTime": {
     "end_time": "2019-02-14T23:37:52.356459Z",
     "start_time": "2019-02-14T23:36:21.385117Z"
    }
   },
   "outputs": [
    {
     "name": "stdout",
     "output_type": "stream",
     "text": [
      "CPU times: user 1min 29s, sys: 891 ms, total: 1min 30s\n",
      "Wall time: 1min 30s\n"
     ]
    },
    {
     "data": {
      "text/plain": [
       "2784"
      ]
     },
     "execution_count": 73,
     "metadata": {},
     "output_type": "execute_result"
    }
   ],
   "source": [
    "%%time\n",
    "sum(find_exact_match(A_strings_only, B))"
   ]
  },
  {
   "cell_type": "code",
   "execution_count": 82,
   "metadata": {
    "ExecuteTime": {
     "end_time": "2019-02-15T07:55:51.535742Z",
     "start_time": "2019-02-15T07:55:51.142063Z"
    }
   },
   "outputs": [],
   "source": [
    "rdd_A = sc.parallelize(A)\n",
    "rdd_B = sc.parallelize(B).keyBy(lambda x: x)"
   ]
  },
  {
   "cell_type": "code",
   "execution_count": 83,
   "metadata": {
    "ExecuteTime": {
     "end_time": "2019-02-15T07:55:54.023708Z",
     "start_time": "2019-02-15T07:55:53.241657Z"
    }
   },
   "outputs": [
    {
     "data": {
      "text/plain": [
       "4"
      ]
     },
     "execution_count": 83,
     "metadata": {},
     "output_type": "execute_result"
    }
   ],
   "source": [
    "min_len_B = rdd_B.map(lambda x: len(x[0])).min()\n",
    "min_len_B"
   ]
  },
  {
   "cell_type": "code",
   "execution_count": 84,
   "metadata": {
    "ExecuteTime": {
     "end_time": "2019-02-15T07:55:55.605782Z",
     "start_time": "2019-02-15T07:55:55.598029Z"
    }
   },
   "outputs": [],
   "source": [
    "rdd_A_substrings = (\n",
    "    rdd_A.flatMap(lambda x: [\n",
    "        (substr, x[1]) for substr in list(get_all_substrings(x[0], min_len_B, return_lengths=False))\n",
    "    ])\n",
    ")"
   ]
  },
  {
   "cell_type": "code",
   "execution_count": 85,
   "metadata": {
    "ExecuteTime": {
     "end_time": "2019-02-15T07:58:03.309500Z",
     "start_time": "2019-02-15T07:55:57.346369Z"
    }
   },
   "outputs": [
    {
     "name": "stdout",
     "output_type": "stream",
     "text": [
      "CPU times: user 44.9 ms, sys: 55.9 ms, total: 101 ms\n",
      "Wall time: 2min 5s\n"
     ]
    }
   ],
   "source": [
    "%%time\n",
    "test = rdd_A_substrings.join(rdd_B).values().keys().distinct().collect()"
   ]
  },
  {
   "cell_type": "code",
   "execution_count": 86,
   "metadata": {
    "ExecuteTime": {
     "end_time": "2019-02-15T07:58:05.005163Z",
     "start_time": "2019-02-15T07:58:04.997474Z"
    }
   },
   "outputs": [
    {
     "data": {
      "text/plain": [
       "24149"
      ]
     },
     "execution_count": 86,
     "metadata": {},
     "output_type": "execute_result"
    }
   ],
   "source": [
    "len(test)"
   ]
  },
  {
   "cell_type": "markdown",
   "metadata": {},
   "source": [
    "# Archive"
   ]
  },
  {
   "cell_type": "code",
   "execution_count": 38,
   "metadata": {
    "ExecuteTime": {
     "end_time": "2019-02-14T23:09:44.301203Z",
     "start_time": "2019-02-14T23:09:44.293013Z"
    }
   },
   "outputs": [],
   "source": [
    "def dedupe_substrings_old(B):\n",
    "    original_length = len(B)\n",
    "    B_sorted = sorted(sorted(set(B)), key=len)\n",
    "    B_lengths = [len(b) for b in B_sorted]\n",
    "    for b_short in B_sorted:\n",
    "        if len(b_short) < B_lengths[-1]:\n",
    "            start_search_index = np.searchsorted(B_lengths, len(b_short), side='right')\n",
    "            match_indices = []\n",
    "            for idx, b_long in enumerate(B_sorted[start_search_index:]):\n",
    "                if re.search(b_short, b_long):\n",
    "                    match_indices.append(start_search_index + idx)\n",
    "            for match_idx in match_indices[::-1]:\n",
    "                del B_sorted[match_idx]\n",
    "                del B_lengths[match_idx]\n",
    "    final_length = len(B_sorted)\n",
    "    print(f'Removed {original_length - final_length} out of {original_length} items')\n",
    "    return B_sorted, B_lengths"
   ]
  },
  {
   "cell_type": "code",
   "execution_count": 39,
   "metadata": {
    "ExecuteTime": {
     "end_time": "2019-02-14T23:09:44.310076Z",
     "start_time": "2019-02-14T23:09:44.303529Z"
    }
   },
   "outputs": [],
   "source": [
    "def find_exact_deduped(A, B):\n",
    "    B_deduped = dedupe_substrings(B)\n",
    "    B_lengths = np.array([len(b) for b in B_deduped])\n",
    "    min_len = B_lengths.min()\n",
    "    start_idx = {}\n",
    "    stop_idx = {}\n",
    "    for length in set(B_lengths):\n",
    "        start_idx[length] = np.searchsorted(B_lengths, length, side='left')\n",
    "        stop_idx[length] = np.searchsorted(B_lengths, length, side='right')\n",
    "    return[any([substr in B_deduped[start_idx.get(str_len, 0):stop_idx.get(str_len, 0)]\n",
    "                for substr, str_len in get_all_substrings(a, min_len)]) \n",
    "           for a in A]"
   ]
  },
  {
   "cell_type": "code",
   "execution_count": 40,
   "metadata": {
    "ExecuteTime": {
     "end_time": "2019-02-14T23:09:44.315607Z",
     "start_time": "2019-02-14T23:09:44.312194Z"
    }
   },
   "outputs": [],
   "source": [
    "def naive_regex_finder(A, B):\n",
    "    return [max([bool(re.search(b[j], a[i])) for j in range(len(b))]) for i in range(len(a))]"
   ]
  },
  {
   "cell_type": "code",
   "execution_count": 41,
   "metadata": {
    "ExecuteTime": {
     "end_time": "2019-02-14T23:09:44.323208Z",
     "start_time": "2019-02-14T23:09:44.317919Z"
    }
   },
   "outputs": [],
   "source": [
    "def naive_finder2(A, B):\n",
    "    B_deduped, B_lengths = dedupe_substrings_old(B)\n",
    "    matches = []\n",
    "    for a in A:\n",
    "        matches.append(False)\n",
    "        stop_search_index = np.searchsorted(B_lengths, len(a), side='right')\n",
    "        for b in B_deduped[:stop_search_index]:\n",
    "            if re.search(b, a):\n",
    "                matches[-1] = True\n",
    "                break\n",
    "    return matches"
   ]
  },
  {
   "cell_type": "code",
   "execution_count": 42,
   "metadata": {
    "ExecuteTime": {
     "end_time": "2019-02-14T23:09:44.333621Z",
     "start_time": "2019-02-14T23:09:44.325541Z"
    }
   },
   "outputs": [],
   "source": [
    "def naive_finder3(A, B):\n",
    "    B_deduped, B_lengths = dedupe_substrings_old(B)\n",
    "    matches = []\n",
    "    stop_indices = {\n",
    "        length: np.searchsorted(B_lengths, length, side='right')\n",
    "        for length in range(B_lengths[0], B_lengths[-1] + 1)\n",
    "    }\n",
    "    for a in A:\n",
    "        matches.append(False)\n",
    "        for b in B_deduped[:stop_indices[len(a)]]:\n",
    "            if re.search(b, a):\n",
    "                matches[-1] = True\n",
    "                break\n",
    "    return matches"
   ]
  }
 ],
 "metadata": {
  "kernelspec": {
   "display_name": "Python 3",
   "language": "python",
   "name": "python3"
  },
  "varInspector": {
   "cols": {
    "lenName": 16,
    "lenType": 16,
    "lenVar": 40
   },
   "kernels_config": {
    "python": {
     "delete_cmd_postfix": "",
     "delete_cmd_prefix": "del ",
     "library": "var_list.py",
     "varRefreshCmd": "print(var_dic_list())"
    },
    "r": {
     "delete_cmd_postfix": ") ",
     "delete_cmd_prefix": "rm(",
     "library": "var_list.r",
     "varRefreshCmd": "cat(var_dic_list()) "
    }
   },
   "position": {
    "height": "275px",
    "left": "1067px",
    "right": "20px",
    "top": "120px",
    "width": "353px"
   },
   "types_to_exclude": [
    "module",
    "function",
    "builtin_function_or_method",
    "instance",
    "_Feature"
   ],
   "window_display": false
  }
 },
 "nbformat": 4,
 "nbformat_minor": 2
}
